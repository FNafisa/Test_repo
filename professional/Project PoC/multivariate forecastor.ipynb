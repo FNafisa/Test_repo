{
 "cells": [
  {
   "cell_type": "markdown",
   "metadata": {},
   "source": [
    "# Multivariate Time-Series Forecasting: Predict Iron Prices"
   ]
  },
  {
   "cell_type": "code",
   "execution_count": 1,
   "metadata": {},
   "outputs": [],
   "source": [
    "n_future= 3 # number of moths to be predicted\n",
    "n_past= 24 # the size of the windowed dataframe"
   ]
  },
  {
   "cell_type": "markdown",
   "metadata": {},
   "source": [
    "### Import libs"
   ]
  },
  {
   "cell_type": "code",
   "execution_count": 1,
   "metadata": {},
   "outputs": [],
   "source": [
    "import numpy as np\n",
    "import pandas as pd\n",
    "import datetime as dt\n",
    "\n",
    "import matplotlib.pyplot as plt\n",
    "from pylab import rcParams\n",
    "\n",
    "\n",
    "from sklearn.preprocessing import StandardScaler\n",
    "\n",
    "from keras.callbacks import EarlyStopping, ReduceLROnPlateau, ModelCheckpoint, TensorBoard\n",
    "from keras.models import Sequential\n",
    "from keras.layers import Dense\n",
    "from keras.layers import LSTM\n",
    "from keras.layers import Dropout\n",
    "from keras.optimizers import Adam\n"
   ]
  },
  {
   "cell_type": "code",
   "execution_count": 2,
   "metadata": {},
   "outputs": [],
   "source": [
    "# Create date column for both dataframes:\n",
    "# this function takes a string object which is in a date format and covert it to a date object\n",
    "def str_to_datetime(s):\n",
    "  split = s.split('/')\n",
    "  month, day, year = int(split[0]), int(split[1]), int(split[2])\n",
    "  return dt.datetime(year=year, month=month, day=day)"
   ]
  },
  {
   "cell_type": "markdown",
   "metadata": {},
   "source": [
    "## Part 1: Data preprocessing"
   ]
  },
  {
   "cell_type": "markdown",
   "metadata": {},
   "source": [
    "###  Read and load the data; we want to select the features for the training and prediction and extract the date column then make it the index"
   ]
  },
  {
   "cell_type": "markdown",
   "metadata": {},
   "source": [
    "Index & Date columns..."
   ]
  },
  {
   "cell_type": "code",
   "execution_count": 5,
   "metadata": {},
   "outputs": [],
   "source": [
    "# read the data and convert index to date:\n",
    "\n",
    "#            iron_12mm\n",
    "df_iron_12mm= pd.read_excel(r'C:\\Users\\fnafisa\\WORKSPACE\\professional\\Project PoC\\Input\\data\\iron ore\\price 12mm iron.xlsx')\n",
    "# create column to concatenate the day, month and year\n",
    "df_iron_12mm['date'] = df_iron_12mm['month'].map(str)+ '/'  + '1' + '/' + df_iron_12mm['year'].map(str)\n",
    "# apply the function str_to_datetime on df_iron_12mm & assign date to be the new indexes\n",
    "df_iron_12mm['date'] = df_iron_12mm['date'].apply(str_to_datetime)\n",
    "df_iron_12mm.index = df_iron_12mm.pop('date')\n",
    "# we keep only the needed columns\n",
    "df_iron_12mm= pd.DataFrame(df_iron_12mm['price'])\n",
    "df_iron_12mm.columns= ['iron_12mm']\n",
    "\n",
    "#           iron_10mm\n",
    "df_iron_10mm= pd.read_excel(r'C:\\Users\\fnafisa\\WORKSPACE\\professional\\Project PoC\\Input\\data\\iron ore\\price 10mm iron.xlsx')\n",
    "# create column to concatenate the day, month and year\n",
    "df_iron_10mm['date'] = df_iron_10mm['month'].map(str)+ '/'  + '1' + '/' + df_iron_10mm['year'].map(str)\n",
    "# apply the function str_to_datetime on df_iron_10mm & assign date to be the new indexes\n",
    "df_iron_10mm['date'] = df_iron_10mm['date'].apply(str_to_datetime)\n",
    "df_iron_10mm.index = df_iron_10mm.pop('date')\n",
    "# we keep only the needed columns\n",
    "df_iron_10mm= pd.DataFrame(df_iron_10mm['price'])\n",
    "df_iron_10mm.columns= ['iron_10mm']\n",
    "\n",
    "#           oil\n",
    "df_oil_brent= pd.read_csv(r'C:\\Users\\fnafisa\\WORKSPACE\\professional\\Project PoC\\Input\\data\\Oil\\Brent Oil Futures Historical Data; monthly.csv')\n",
    "df_oil_brent['Date'] = df_oil_brent['Date'].apply(str_to_datetime)\n",
    "df_oil_brent.index = df_oil_brent.pop('Date')\n",
    "# we keep only the needed columns\n",
    "df_oil_brent= pd.DataFrame(df_oil_brent['Price'])\n",
    "df_oil_brent.columns= ['oil_brent']\n",
    "\n",
    "#           TASI\n",
    "df_TASI= pd.read_csv(r'C:\\Users\\fnafisa\\WORKSPACE\\professional\\Project PoC\\Input\\data\\Markets\\Tadawul All Share Historical Data monthly.csv')\n",
    "df_TASI['Date'] = df_TASI['Date'].apply(str_to_datetime)\n",
    "df_TASI.index = df_TASI.pop('Date')\n",
    "# we keep only the needed columns\n",
    "df_TASI= pd.DataFrame(df_TASI['Price'])\n",
    "df_TASI.columns= ['tasi']\n",
    "\n",
    "#           gold\n",
    "df_gold= pd.read_csv(r'C:\\Users\\fnafisa\\WORKSPACE\\professional\\Project PoC\\Input\\data\\gold\\Gold Futures Historical Data monthly.csv')\n",
    "df_gold['Date'] = df_gold['Date'].apply(str_to_datetime)\n",
    "df_gold.index = df_gold.pop('Date')\n",
    "# we keep only the needed columns\n",
    "df_gold= pd.DataFrame(df_gold['Price'])\n",
    "df_gold.columns= ['gold']\n"
   ]
  },
  {
   "cell_type": "markdown",
   "metadata": {},
   "source": [
    "  ----->>> JOIN <<<-----"
   ]
  },
  {
   "cell_type": "code",
   "execution_count": 6,
   "metadata": {},
   "outputs": [],
   "source": [
    "# join the two dataframes based on date index to create the traing dataset\n",
    "# dataset_train = pd.merge(df_iron_12mm,df_iron_10mm, how='left', left_index=True, right_index=True)\n",
    "dataset_train = pd.merge(df_iron_12mm,df_oil_brent, how='left', left_index=True, right_index=True)\n",
    "dataset_train = pd.merge(dataset_train,df_TASI, how='left', left_index=True, right_index=True)\n",
    "dataset_train = pd.merge(dataset_train,df_gold, how='left', left_index=True, right_index=True)\n",
    "\n"
   ]
  },
  {
   "cell_type": "code",
   "execution_count": 7,
   "metadata": {},
   "outputs": [
    {
     "data": {
      "text/html": [
       "<div>\n",
       "<style scoped>\n",
       "    .dataframe tbody tr th:only-of-type {\n",
       "        vertical-align: middle;\n",
       "    }\n",
       "\n",
       "    .dataframe tbody tr th {\n",
       "        vertical-align: top;\n",
       "    }\n",
       "\n",
       "    .dataframe thead th {\n",
       "        text-align: right;\n",
       "    }\n",
       "</style>\n",
       "<table border=\"1\" class=\"dataframe\">\n",
       "  <thead>\n",
       "    <tr style=\"text-align: right;\">\n",
       "      <th></th>\n",
       "      <th>iron_12mm</th>\n",
       "      <th>oil_brent</th>\n",
       "      <th>tasi</th>\n",
       "      <th>gold</th>\n",
       "      <th>lag_1</th>\n",
       "    </tr>\n",
       "    <tr>\n",
       "      <th>date</th>\n",
       "      <th></th>\n",
       "      <th></th>\n",
       "      <th></th>\n",
       "      <th></th>\n",
       "      <th></th>\n",
       "    </tr>\n",
       "  </thead>\n",
       "  <tbody>\n",
       "    <tr>\n",
       "      <th>2013-01-01</th>\n",
       "      <td>2964.917</td>\n",
       "      <td>114.54</td>\n",
       "      <td>7,043.55</td>\n",
       "      <td>1,662.00</td>\n",
       "      <td>2615.09244</td>\n",
       "    </tr>\n",
       "    <tr>\n",
       "      <th>2013-02-01</th>\n",
       "      <td>2964.750</td>\n",
       "      <td>110.42</td>\n",
       "      <td>6,998.33</td>\n",
       "      <td>1,578.90</td>\n",
       "      <td>2964.91700</td>\n",
       "    </tr>\n",
       "    <tr>\n",
       "      <th>2013-03-01</th>\n",
       "      <td>2964.942</td>\n",
       "      <td>109.79</td>\n",
       "      <td>7,125.73</td>\n",
       "      <td>1,595.70</td>\n",
       "      <td>2964.75000</td>\n",
       "    </tr>\n",
       "    <tr>\n",
       "      <th>2013-04-01</th>\n",
       "      <td>2964.917</td>\n",
       "      <td>102.04</td>\n",
       "      <td>7,179.80</td>\n",
       "      <td>1,472.70</td>\n",
       "      <td>2964.94200</td>\n",
       "    </tr>\n",
       "    <tr>\n",
       "      <th>2013-05-01</th>\n",
       "      <td>2964.917</td>\n",
       "      <td>100.20</td>\n",
       "      <td>7,404.12</td>\n",
       "      <td>1,393.00</td>\n",
       "      <td>2964.91700</td>\n",
       "    </tr>\n",
       "    <tr>\n",
       "      <th>...</th>\n",
       "      <td>...</td>\n",
       "      <td>...</td>\n",
       "      <td>...</td>\n",
       "      <td>...</td>\n",
       "      <td>...</td>\n",
       "    </tr>\n",
       "    <tr>\n",
       "      <th>2022-05-01</th>\n",
       "      <td>4000.960</td>\n",
       "      <td>115.60</td>\n",
       "      <td>12,921.74</td>\n",
       "      <td>1,848.40</td>\n",
       "      <td>4032.60000</td>\n",
       "    </tr>\n",
       "    <tr>\n",
       "      <th>2022-06-01</th>\n",
       "      <td>3704.880</td>\n",
       "      <td>109.03</td>\n",
       "      <td>11,523.25</td>\n",
       "      <td>1,812.00</td>\n",
       "      <td>4000.96000</td>\n",
       "    </tr>\n",
       "    <tr>\n",
       "      <th>2022-07-01</th>\n",
       "      <td>3595.940</td>\n",
       "      <td>103.97</td>\n",
       "      <td>12,199.08</td>\n",
       "      <td>1,771.50</td>\n",
       "      <td>3704.88000</td>\n",
       "    </tr>\n",
       "    <tr>\n",
       "      <th>2022-08-01</th>\n",
       "      <td>3288.840</td>\n",
       "      <td>95.64</td>\n",
       "      <td>12,283.33</td>\n",
       "      <td>1,721.40</td>\n",
       "      <td>3595.94000</td>\n",
       "    </tr>\n",
       "    <tr>\n",
       "      <th>2022-09-01</th>\n",
       "      <td>3116.300</td>\n",
       "      <td>85.14</td>\n",
       "      <td>11,405.32</td>\n",
       "      <td>1,672.00</td>\n",
       "      <td>3288.84000</td>\n",
       "    </tr>\n",
       "  </tbody>\n",
       "</table>\n",
       "<p>117 rows × 5 columns</p>\n",
       "</div>"
      ],
      "text/plain": [
       "            iron_12mm  oil_brent       tasi      gold       lag_1\n",
       "date                                                             \n",
       "2013-01-01   2964.917     114.54   7,043.55  1,662.00  2615.09244\n",
       "2013-02-01   2964.750     110.42   6,998.33  1,578.90  2964.91700\n",
       "2013-03-01   2964.942     109.79   7,125.73  1,595.70  2964.75000\n",
       "2013-04-01   2964.917     102.04   7,179.80  1,472.70  2964.94200\n",
       "2013-05-01   2964.917     100.20   7,404.12  1,393.00  2964.91700\n",
       "...               ...        ...        ...       ...         ...\n",
       "2022-05-01   4000.960     115.60  12,921.74  1,848.40  4032.60000\n",
       "2022-06-01   3704.880     109.03  11,523.25  1,812.00  4000.96000\n",
       "2022-07-01   3595.940     103.97  12,199.08  1,771.50  3704.88000\n",
       "2022-08-01   3288.840      95.64  12,283.33  1,721.40  3595.94000\n",
       "2022-09-01   3116.300      85.14  11,405.32  1,672.00  3288.84000\n",
       "\n",
       "[117 rows x 5 columns]"
      ]
     },
     "execution_count": 7,
     "metadata": {},
     "output_type": "execute_result"
    }
   ],
   "source": [
    "dataset_train['lag_1']= dataset_train['iron_12mm'].shift(1)\n",
    "\n",
    "dataset_train['lag_1'].fillna(value=dataset_train['lag_1'].mean(), inplace=True)\n",
    "\n",
    "dataset_train"
   ]
  },
  {
   "cell_type": "markdown",
   "metadata": {},
   "source": [
    "check for null values:"
   ]
  },
  {
   "cell_type": "code",
   "execution_count": 8,
   "metadata": {},
   "outputs": [
    {
     "name": "stdout",
     "output_type": "stream",
     "text": [
      "<class 'pandas.core.frame.DataFrame'>\n",
      "DatetimeIndex: 117 entries, 2013-01-01 to 2022-09-01\n",
      "Data columns (total 5 columns):\n",
      " #   Column     Non-Null Count  Dtype  \n",
      "---  ------     --------------  -----  \n",
      " 0   iron_12mm  117 non-null    float64\n",
      " 1   oil_brent  117 non-null    float64\n",
      " 2   tasi       117 non-null    object \n",
      " 3   gold       117 non-null    object \n",
      " 4   lag_1      117 non-null    float64\n",
      "dtypes: float64(3), object(2)\n",
      "memory usage: 9.6+ KB\n"
     ]
    }
   ],
   "source": [
    "dataset_train.info()"
   ]
  },
  {
   "cell_type": "code",
   "execution_count": 9,
   "metadata": {},
   "outputs": [],
   "source": [
    "# select features (columns) to be involved into training and predictions\n",
    "cols= list(dataset_train)[:]\n",
    "# make the dataframe on a monthly basis\n",
    "dataset_train= dataset_train.to_period(freq='m')\n",
    "\n",
    "# EXTRACT dates:\n",
    "# store the date index in a list \n",
    "datelist_train= dataset_train.index.strftime('%Y-%m')\n",
    "datelist_train= [dt.datetime.strptime(date, '%Y-%m').date() for date in datelist_train]\n",
    "\n"
   ]
  },
  {
   "cell_type": "code",
   "execution_count": 10,
   "metadata": {},
   "outputs": [
    {
     "name": "stdout",
     "output_type": "stream",
     "text": [
      "Training set shape == (117, 5)\n",
      "All timestamps == 117\n",
      "Featured selected: ['iron_12mm', 'oil_brent', 'tasi', 'gold', 'lag_1']\n",
      "Sample of date list: [datetime.date(2013, 1, 1), datetime.date(2013, 2, 1)]...[datetime.date(2022, 7, 1), datetime.date(2022, 8, 1)]\n"
     ]
    }
   ],
   "source": [
    "print('Training set shape == {}'.format(dataset_train.shape))\n",
    "print('All timestamps == {}'.format(len(datelist_train)))\n",
    "print('Featured selected: {}'.format(cols))\n",
    "print('Sample of date list: {}...{}'.format(datelist_train[0:2], datelist_train[-3:-1]))"
   ]
  },
  {
   "cell_type": "markdown",
   "metadata": {},
   "source": [
    "###  Shaping and transformation"
   ]
  },
  {
   "cell_type": "code",
   "execution_count": 11,
   "metadata": {},
   "outputs": [
    {
     "name": "stdout",
     "output_type": "stream",
     "text": [
      "Shape of training set == (117, 5).\n"
     ]
    }
   ],
   "source": [
    "# make sure there are no commas in any number\n",
    "dataset_train= dataset_train[cols].astype(str)\n",
    "for i in cols:\n",
    "    for j in range(0, len(dataset_train)):\n",
    "        dataset_train[i][j]= dataset_train[i][j].replace(',','')\n",
    "dataset_train= dataset_train[cols].astype(float)\n",
    "\n",
    "# Using multiple predictors (features)\n",
    "# we need convert (reshape) to a matrix(array) using .to_numpy\n",
    "training_set= dataset_train.to_numpy()\n",
    "print('Shape of training set == {}.'.format(training_set.shape))"
   ]
  },
  {
   "cell_type": "code",
   "execution_count": 12,
   "metadata": {},
   "outputs": [
    {
     "data": {
      "text/plain": [
       "117"
      ]
     },
     "execution_count": 12,
     "metadata": {},
     "output_type": "execute_result"
    }
   ],
   "source": [
    "len(training_set[:,0])"
   ]
  },
  {
   "cell_type": "code",
   "execution_count": 13,
   "metadata": {},
   "outputs": [
    {
     "name": "stdout",
     "output_type": "stream",
     "text": [
      "\n"
     ]
    }
   ],
   "source": [
    "# Feature scaling hence features vary in range\n",
    "sc= StandardScaler()\n",
    "sc_predict= StandardScaler()\n",
    "\n",
    "training_set_scaled= sc.fit_transform(training_set)\n",
    "sc_predict.fit_transform(training_set[:,0:1]) # our target (iron_12mm) / the dependant variable\n",
    "print('')\n"
   ]
  },
  {
   "cell_type": "markdown",
   "metadata": {},
   "source": [
    "## Part 2: Modeling"
   ]
  },
  {
   "cell_type": "markdown",
   "metadata": {},
   "source": [
    "###  Build the model architecture and Set up the WINDOWED DATAFRAME "
   ]
  },
  {
   "cell_type": "code",
   "execution_count": 14,
   "metadata": {},
   "outputs": [
    {
     "name": "stdout",
     "output_type": "stream",
     "text": [
      "X_train shape == (82, 24, 4).\n",
      "y_train shape == (82, 1).\n"
     ]
    }
   ],
   "source": [
    "# Create a data structure with timestamps\n",
    "X_train= []\n",
    "y_train= []\n",
    "n_future= 12 # number of moths to be predicted\n",
    "n_past= 24 # the size of the windowed dataframe\n",
    "\n",
    "for i in range(n_past, len(training_set_scaled) - n_future +1):\n",
    "    X_train.append(training_set_scaled[i - n_past:i, 0:dataset_train.shape[1] - 1])\n",
    "    y_train.append(training_set_scaled[i + n_future - 1:i + n_future, 0])\n",
    "\n",
    "X_train, y_train = np.array(X_train), np.array(y_train)\n",
    "\n",
    "print('X_train shape == {}.'.format(X_train.shape))\n",
    "print('y_train shape == {}.'.format(y_train.shape))\n",
    "model= Sequential()\n",
    "model.add(LSTM(units=64, return_sequences=True, input_shape=(n_past, dataset_train.shape[1]-1)))\n",
    "model.add(Dropout(.25))\n",
    "model.add(LSTM(units=10, return_sequences=False))\n",
    "model.add(Dropout(.25))\n",
    "model.add(Dense(units=1, activation='linear'))\n",
    "model.compile(optimizer= Adam(learning_rate=.01), loss= 'mean_squared_error')"
   ]
  },
  {
   "cell_type": "code",
   "execution_count": 15,
   "metadata": {},
   "outputs": [
    {
     "name": "stdout",
     "output_type": "stream",
     "text": [
      "Epoch 1/50\n",
      "1/2 [==============>...............] - ETA: 2s - loss: 0.5641\n",
      "Epoch 1: val_loss improved from inf to 2.31262, saving model to weights.h5\n",
      "2/2 [==============================] - 3s 709ms/step - loss: 0.4814 - val_loss: 2.3126 - lr: 0.0100\n",
      "Epoch 2/50\n",
      "1/2 [==============>...............] - ETA: 0s - loss: 0.1430\n",
      "Epoch 2: val_loss improved from 2.31262 to 1.48519, saving model to weights.h5\n",
      "2/2 [==============================] - 0s 67ms/step - loss: 0.1774 - val_loss: 1.4852 - lr: 0.0100\n",
      "Epoch 3/50\n",
      "1/2 [==============>...............] - ETA: 0s - loss: 0.2504\n",
      "Epoch 3: val_loss did not improve from 1.48519\n",
      "2/2 [==============================] - 0s 53ms/step - loss: 0.2240 - val_loss: 1.5161 - lr: 0.0100\n",
      "Epoch 4/50\n",
      "1/2 [==============>...............] - ETA: 0s - loss: 0.2282\n",
      "Epoch 4: val_loss did not improve from 1.48519\n",
      "2/2 [==============================] - 0s 47ms/step - loss: 0.1912 - val_loss: 1.6116 - lr: 0.0100\n",
      "Epoch 5/50\n",
      "1/2 [==============>...............] - ETA: 0s - loss: 0.1490\n",
      "Epoch 5: val_loss did not improve from 1.48519\n",
      "2/2 [==============================] - 0s 47ms/step - loss: 0.1468 - val_loss: 1.5278 - lr: 0.0100\n",
      "Epoch 6/50\n",
      "1/2 [==============>...............] - ETA: 0s - loss: 0.0794\n",
      "Epoch 6: val_loss improved from 1.48519 to 1.34000, saving model to weights.h5\n",
      "2/2 [==============================] - 0s 61ms/step - loss: 0.1226 - val_loss: 1.3400 - lr: 0.0100\n",
      "Epoch 7/50\n",
      "1/2 [==============>...............] - ETA: 0s - loss: 0.1512\n",
      "Epoch 7: val_loss improved from 1.34000 to 1.16665, saving model to weights.h5\n",
      "2/2 [==============================] - 0s 65ms/step - loss: 0.1154 - val_loss: 1.1667 - lr: 0.0100\n",
      "Epoch 8/50\n",
      "1/2 [==============>...............] - ETA: 0s - loss: 0.0852\n",
      "Epoch 8: val_loss improved from 1.16665 to 1.13665, saving model to weights.h5\n",
      "2/2 [==============================] - 0s 65ms/step - loss: 0.0888 - val_loss: 1.1366 - lr: 0.0100\n",
      "Epoch 9/50\n",
      "1/2 [==============>...............] - ETA: 0s - loss: 0.1412\n",
      "Epoch 9: val_loss did not improve from 1.13665\n",
      "2/2 [==============================] - 0s 50ms/step - loss: 0.1360 - val_loss: 1.2207 - lr: 0.0100\n",
      "Epoch 10/50\n",
      "1/2 [==============>...............] - ETA: 0s - loss: 0.0861\n",
      "Epoch 10: val_loss improved from 1.13665 to 1.07717, saving model to weights.h5\n",
      "2/2 [==============================] - 0s 65ms/step - loss: 0.1180 - val_loss: 1.0772 - lr: 0.0100\n",
      "Epoch 11/50\n",
      "1/2 [==============>...............] - ETA: 0s - loss: 0.0691\n",
      "Epoch 11: val_loss did not improve from 1.07717\n",
      "2/2 [==============================] - 0s 55ms/step - loss: 0.0647 - val_loss: 1.2274 - lr: 0.0100\n",
      "Epoch 12/50\n",
      "1/2 [==============>...............] - ETA: 0s - loss: 0.0801\n",
      "Epoch 12: val_loss did not improve from 1.07717\n",
      "2/2 [==============================] - 0s 58ms/step - loss: 0.0681 - val_loss: 1.1362 - lr: 0.0100\n",
      "Epoch 13/50\n",
      "1/2 [==============>...............] - ETA: 0s - loss: 0.0813\n",
      "Epoch 13: val_loss improved from 1.07717 to 0.89351, saving model to weights.h5\n",
      "2/2 [==============================] - 0s 77ms/step - loss: 0.0898 - val_loss: 0.8935 - lr: 0.0100\n",
      "Epoch 14/50\n",
      "1/2 [==============>...............] - ETA: 0s - loss: 0.0874\n",
      "Epoch 14: val_loss improved from 0.89351 to 0.88376, saving model to weights.h5\n",
      "2/2 [==============================] - 0s 77ms/step - loss: 0.0951 - val_loss: 0.8838 - lr: 0.0100\n",
      "Epoch 15/50\n",
      "1/2 [==============>...............] - ETA: 0s - loss: 0.0812\n",
      "Epoch 15: val_loss did not improve from 0.88376\n",
      "2/2 [==============================] - 0s 65ms/step - loss: 0.0796 - val_loss: 1.1084 - lr: 0.0100\n",
      "Epoch 16/50\n",
      "1/2 [==============>...............] - ETA: 0s - loss: 0.0841\n",
      "Epoch 16: val_loss did not improve from 0.88376\n",
      "2/2 [==============================] - 0s 66ms/step - loss: 0.0698 - val_loss: 1.2530 - lr: 0.0100\n",
      "Epoch 17/50\n",
      "1/2 [==============>...............] - ETA: 0s - loss: 0.0742\n",
      "Epoch 17: val_loss did not improve from 0.88376\n",
      "2/2 [==============================] - 0s 65ms/step - loss: 0.0881 - val_loss: 1.2062 - lr: 0.0100\n",
      "Epoch 18/50\n",
      "1/2 [==============>...............] - ETA: 0s - loss: 0.0745\n",
      "Epoch 18: val_loss did not improve from 0.88376\n",
      "2/2 [==============================] - 0s 65ms/step - loss: 0.0740 - val_loss: 1.0347 - lr: 0.0100\n",
      "Epoch 19/50\n",
      "1/2 [==============>...............] - ETA: 0s - loss: 0.0542\n",
      "Epoch 19: val_loss improved from 0.88376 to 0.84609, saving model to weights.h5\n",
      "2/2 [==============================] - 0s 78ms/step - loss: 0.0607 - val_loss: 0.8461 - lr: 0.0100\n",
      "Epoch 20/50\n",
      "1/2 [==============>...............] - ETA: 0s - loss: 0.1061\n",
      "Epoch 20: val_loss improved from 0.84609 to 0.79758, saving model to weights.h5\n",
      "2/2 [==============================] - 0s 87ms/step - loss: 0.0917 - val_loss: 0.7976 - lr: 0.0100\n",
      "Epoch 21/50\n",
      "1/2 [==============>...............] - ETA: 0s - loss: 0.0745\n",
      "Epoch 21: val_loss did not improve from 0.79758\n",
      "2/2 [==============================] - 0s 70ms/step - loss: 0.0872 - val_loss: 0.8093 - lr: 0.0100\n",
      "Epoch 22/50\n",
      "1/2 [==============>...............] - ETA: 0s - loss: 0.0679\n",
      "Epoch 22: val_loss did not improve from 0.79758\n",
      "2/2 [==============================] - 0s 60ms/step - loss: 0.0682 - val_loss: 0.8023 - lr: 0.0100\n",
      "Epoch 23/50\n",
      "1/2 [==============>...............] - ETA: 0s - loss: 0.0790\n",
      "Epoch 23: val_loss did not improve from 0.79758\n",
      "2/2 [==============================] - 0s 54ms/step - loss: 0.0826 - val_loss: 0.8795 - lr: 0.0100\n",
      "Epoch 24/50\n",
      "1/2 [==============>...............] - ETA: 0s - loss: 0.0588\n",
      "Epoch 24: val_loss did not improve from 0.79758\n",
      "2/2 [==============================] - 0s 58ms/step - loss: 0.0617 - val_loss: 0.9757 - lr: 0.0100\n",
      "Epoch 25/50\n",
      "1/2 [==============>...............] - ETA: 0s - loss: 0.0857\n",
      "Epoch 25: val_loss did not improve from 0.79758\n",
      "2/2 [==============================] - 0s 62ms/step - loss: 0.0679 - val_loss: 1.0708 - lr: 0.0100\n",
      "Epoch 26/50\n",
      "1/2 [==============>...............] - ETA: 0s - loss: 0.0542\n",
      "Epoch 26: val_loss did not improve from 0.79758\n",
      "2/2 [==============================] - 0s 62ms/step - loss: 0.0662 - val_loss: 1.0203 - lr: 0.0100\n",
      "Epoch 27/50\n",
      "1/2 [==============>...............] - ETA: 0s - loss: 0.0460\n",
      "Epoch 27: val_loss did not improve from 0.79758\n",
      "2/2 [==============================] - 0s 62ms/step - loss: 0.0564 - val_loss: 0.8990 - lr: 0.0100\n",
      "Epoch 28/50\n",
      "1/2 [==============>...............] - ETA: 0s - loss: 0.0447\n",
      "Epoch 28: val_loss improved from 0.79758 to 0.69500, saving model to weights.h5\n",
      "2/2 [==============================] - 0s 76ms/step - loss: 0.0536 - val_loss: 0.6950 - lr: 0.0100\n",
      "Epoch 29/50\n",
      "1/2 [==============>...............] - ETA: 0s - loss: 0.0598\n",
      "Epoch 29: val_loss improved from 0.69500 to 0.55562, saving model to weights.h5\n",
      "2/2 [==============================] - 0s 77ms/step - loss: 0.0600 - val_loss: 0.5556 - lr: 0.0100\n",
      "Epoch 30/50\n",
      "1/2 [==============>...............] - ETA: 0s - loss: 0.0586\n",
      "Epoch 30: val_loss did not improve from 0.55562\n",
      "2/2 [==============================] - 0s 55ms/step - loss: 0.0658 - val_loss: 0.5754 - lr: 0.0100\n",
      "Epoch 31/50\n",
      "1/2 [==============>...............] - ETA: 0s - loss: 0.0549\n",
      "Epoch 31: val_loss did not improve from 0.55562\n",
      "2/2 [==============================] - 0s 53ms/step - loss: 0.0624 - val_loss: 0.6058 - lr: 0.0100\n",
      "Epoch 32/50\n",
      "1/2 [==============>...............] - ETA: 0s - loss: 0.0609\n",
      "Epoch 32: val_loss did not improve from 0.55562\n",
      "2/2 [==============================] - 0s 61ms/step - loss: 0.0534 - val_loss: 0.6239 - lr: 0.0100\n",
      "Epoch 33/50\n",
      "1/2 [==============>...............] - ETA: 0s - loss: 0.0440\n",
      "Epoch 33: val_loss did not improve from 0.55562\n",
      "2/2 [==============================] - 0s 66ms/step - loss: 0.0656 - val_loss: 0.6257 - lr: 0.0100\n",
      "Epoch 34/50\n",
      "1/2 [==============>...............] - ETA: 0s - loss: 0.0800\n",
      "Epoch 34: val_loss did not improve from 0.55562\n",
      "2/2 [==============================] - 0s 53ms/step - loss: 0.0581 - val_loss: 0.6719 - lr: 0.0100\n",
      "Epoch 35/50\n",
      "1/2 [==============>...............] - ETA: 0s - loss: 0.0414\n",
      "Epoch 35: val_loss did not improve from 0.55562\n",
      "2/2 [==============================] - 0s 63ms/step - loss: 0.0521 - val_loss: 0.6844 - lr: 0.0100\n",
      "Epoch 36/50\n",
      "1/2 [==============>...............] - ETA: 0s - loss: 0.0603\n",
      "Epoch 36: val_loss did not improve from 0.55562\n",
      "2/2 [==============================] - 0s 62ms/step - loss: 0.0537 - val_loss: 0.6847 - lr: 0.0100\n",
      "Epoch 37/50\n",
      "1/2 [==============>...............] - ETA: 0s - loss: 0.0470\n",
      "Epoch 37: val_loss did not improve from 0.55562\n",
      "2/2 [==============================] - 0s 59ms/step - loss: 0.0502 - val_loss: 0.6792 - lr: 0.0100\n",
      "Epoch 38/50\n",
      "1/2 [==============>...............] - ETA: 0s - loss: 0.0374\n",
      "Epoch 38: val_loss did not improve from 0.55562\n",
      "2/2 [==============================] - 0s 58ms/step - loss: 0.0527 - val_loss: 0.7079 - lr: 0.0100\n",
      "Epoch 39/50\n",
      "1/2 [==============>...............] - ETA: 0s - loss: 0.0606\n",
      "Epoch 39: ReduceLROnPlateau reducing learning rate to 0.004999999888241291.\n",
      "\n",
      "Epoch 39: val_loss did not improve from 0.55562\n",
      "2/2 [==============================] - 0s 63ms/step - loss: 0.0587 - val_loss: 0.7372 - lr: 0.0100\n",
      "Epoch 40/50\n",
      "1/2 [==============>...............] - ETA: 0s - loss: 0.0836\n",
      "Epoch 40: val_loss did not improve from 0.55562\n",
      "2/2 [==============================] - 0s 47ms/step - loss: 0.0653 - val_loss: 0.7184 - lr: 0.0050\n",
      "Epoch 41/50\n",
      "1/2 [==============>...............] - ETA: 0s - loss: 0.0561\n",
      "Epoch 41: val_loss did not improve from 0.55562\n",
      "2/2 [==============================] - 0s 51ms/step - loss: 0.0691 - val_loss: 0.6895 - lr: 0.0050\n",
      "Epoch 42/50\n",
      "1/2 [==============>...............] - ETA: 0s - loss: 0.0527\n",
      "Epoch 42: val_loss did not improve from 0.55562\n",
      "2/2 [==============================] - 0s 68ms/step - loss: 0.0446 - val_loss: 0.6641 - lr: 0.0050\n",
      "Epoch 43/50\n",
      "1/2 [==============>...............] - ETA: 0s - loss: 0.0529\n",
      "Epoch 43: val_loss did not improve from 0.55562\n",
      "2/2 [==============================] - 0s 46ms/step - loss: 0.0543 - val_loss: 0.6460 - lr: 0.0050\n",
      "Epoch 44/50\n",
      "1/2 [==============>...............] - ETA: 0s - loss: 0.0618\n",
      "Epoch 44: val_loss did not improve from 0.55562\n",
      "2/2 [==============================] - 0s 55ms/step - loss: 0.0560 - val_loss: 0.6822 - lr: 0.0050\n",
      "Epoch 45/50\n",
      "1/2 [==============>...............] - ETA: 0s - loss: 0.0223\n",
      "Epoch 45: val_loss did not improve from 0.55562\n",
      "2/2 [==============================] - 0s 48ms/step - loss: 0.0636 - val_loss: 0.7230 - lr: 0.0050\n",
      "Epoch 46/50\n",
      "1/2 [==============>...............] - ETA: 0s - loss: 0.0504\n",
      "Epoch 46: val_loss did not improve from 0.55562\n",
      "2/2 [==============================] - 0s 63ms/step - loss: 0.0447 - val_loss: 0.7564 - lr: 0.0050\n",
      "Epoch 47/50\n",
      "1/2 [==============>...............] - ETA: 0s - loss: 0.0473\n",
      "Epoch 47: val_loss did not improve from 0.55562\n",
      "2/2 [==============================] - 0s 70ms/step - loss: 0.0470 - val_loss: 0.7737 - lr: 0.0050\n",
      "Epoch 48/50\n",
      "1/2 [==============>...............] - ETA: 0s - loss: 0.0369\n",
      "Epoch 48: val_loss did not improve from 0.55562\n",
      "2/2 [==============================] - 0s 58ms/step - loss: 0.0472 - val_loss: 0.7902 - lr: 0.0050\n",
      "Epoch 49/50\n",
      "1/2 [==============>...............] - ETA: 0s - loss: 0.0559\n",
      "Epoch 49: ReduceLROnPlateau reducing learning rate to 0.0024999999441206455.\n",
      "\n",
      "Epoch 49: val_loss did not improve from 0.55562\n",
      "2/2 [==============================] - 0s 56ms/step - loss: 0.0450 - val_loss: 0.8193 - lr: 0.0050\n",
      "Epoch 49: early stopping\n",
      "CPU times: total: 10.4 s\n",
      "Wall time: 7.42 s\n"
     ]
    }
   ],
   "source": [
    "%%time\n",
    "es = EarlyStopping(monitor='val_loss', min_delta=1e-10, patience=20, verbose=1)\n",
    "rlr = ReduceLROnPlateau(monitor='val_loss', factor=0.5, patience=10, verbose=1)\n",
    "mcp = ModelCheckpoint(filepath='weights.h5', monitor='val_loss', verbose=1, save_best_only=True, save_weights_only=True)\n",
    "\n",
    "tb = TensorBoard('logs')\n",
    "\n",
    "history = model.fit(X_train, y_train, shuffle=True, epochs=50, callbacks=[es, rlr, mcp, tb], validation_split=0.3, verbose=1, batch_size=32)"
   ]
  },
  {
   "cell_type": "markdown",
   "metadata": {},
   "source": [
    "###  training and testing"
   ]
  },
  {
   "cell_type": "markdown",
   "metadata": {},
   "source": [
    "## Part 3: Forcasting"
   ]
  },
  {
   "cell_type": "code",
   "execution_count": 16,
   "metadata": {},
   "outputs": [
    {
     "name": "stdout",
     "output_type": "stream",
     "text": [
      "1/1 [==============================] - 1s 719ms/step\n",
      "2/2 [==============================] - 0s 5ms/step\n"
     ]
    }
   ],
   "source": [
    "# Generate list of sequence of months for predictions w datetime type\n",
    "datelist_future = pd.date_range(datelist_train[-1], periods=n_future, freq='1m').tolist()\n",
    "datelist_future_= []\n",
    "for d in datelist_future:\n",
    "    d= d + dt.timedelta(days=1)\n",
    "    d= d.date()\n",
    "    datelist_future_.append(d)\n",
    "# (datelist_future_)\n",
    "\n",
    "# Perform predictions\n",
    "predictions_future = model.predict(X_train[-n_future:])\n",
    "\n",
    "predictions_train = model.predict(X_train[n_past:])"
   ]
  },
  {
   "cell_type": "markdown",
   "metadata": {},
   "source": [
    "### Step 5: Predict the future"
   ]
  },
  {
   "cell_type": "code",
   "execution_count": 17,
   "metadata": {},
   "outputs": [
    {
     "name": "stdout",
     "output_type": "stream",
     "text": [
      "1/1 [==============================] - 0s 22ms/step\n",
      "2/2 [==============================] - 0s 4ms/step\n"
     ]
    }
   ],
   "source": [
    "# Perform predictions\n",
    "predictions_future = model.predict(X_train[-n_future:])\n",
    "\n",
    "predictions_train = model.predict(X_train[n_past:])\n",
    "\n",
    "def datetime_to_timestamp(x):\n",
    "    '''\n",
    "        x : a given datetime value (datetime.date)\n",
    "    '''\n",
    "    return dt.strptime(x.strftime('%Y%m%d'), '%Y%m%d')\n",
    "\n",
    "\n",
    "y_pred_future = sc_predict.inverse_transform(predictions_future)\n",
    "y_pred_train = sc_predict.inverse_transform(predictions_train)\n",
    "\n",
    "PREDICTIONS_FUTURE = pd.DataFrame(y_pred_future, columns=['predicted']).set_index(pd.Series(datelist_future_))\n",
    "PREDICTION_TRAIN = pd.DataFrame(y_pred_train, columns=['predicted']).set_index(pd.Series(datelist_train[2 * n_past + n_future -1:]))\n",
    "\n",
    "# Convert  to  for PREDCITION_TRAIN\n",
    "PREDICTION_TRAIN.index = PREDICTION_TRAIN.index#.to_series()#.apply(datetime_to_timestamp)\n",
    "\n"
   ]
  },
  {
   "cell_type": "code",
   "execution_count": 18,
   "metadata": {},
   "outputs": [
    {
     "name": "stderr",
     "output_type": "stream",
     "text": [
      "C:\\Users\\Administrator\\AppData\\Local\\Temp\\ipykernel_23900\\1183576165.py:2: FutureWarning: The frame.append method is deprecated and will be removed from pandas in a future version. Use pandas.concat instead.\n",
      "  res= PREDICTION_TRAIN.append(PREDICTIONS_FUTURE)\n"
     ]
    },
    {
     "data": {
      "text/html": [
       "<div>\n",
       "<style scoped>\n",
       "    .dataframe tbody tr th:only-of-type {\n",
       "        vertical-align: middle;\n",
       "    }\n",
       "\n",
       "    .dataframe tbody tr th {\n",
       "        vertical-align: top;\n",
       "    }\n",
       "\n",
       "    .dataframe thead th {\n",
       "        text-align: right;\n",
       "    }\n",
       "</style>\n",
       "<table border=\"1\" class=\"dataframe\">\n",
       "  <thead>\n",
       "    <tr style=\"text-align: right;\">\n",
       "      <th></th>\n",
       "      <th>predicted</th>\n",
       "      <th>iron_prices</th>\n",
       "    </tr>\n",
       "  </thead>\n",
       "  <tbody>\n",
       "    <tr>\n",
       "      <th>2017-12-01</th>\n",
       "      <td>2261.093506</td>\n",
       "      <td>2089.250</td>\n",
       "    </tr>\n",
       "    <tr>\n",
       "      <th>2018-01-01</th>\n",
       "      <td>2274.383545</td>\n",
       "      <td>2323.400</td>\n",
       "    </tr>\n",
       "    <tr>\n",
       "      <th>2018-02-01</th>\n",
       "      <td>2290.468750</td>\n",
       "      <td>2341.476</td>\n",
       "    </tr>\n",
       "    <tr>\n",
       "      <th>2018-03-01</th>\n",
       "      <td>2299.977539</td>\n",
       "      <td>2350.829</td>\n",
       "    </tr>\n",
       "    <tr>\n",
       "      <th>2018-04-01</th>\n",
       "      <td>2310.790527</td>\n",
       "      <td>2330.644</td>\n",
       "    </tr>\n",
       "    <tr>\n",
       "      <th>...</th>\n",
       "      <td>...</td>\n",
       "      <td>...</td>\n",
       "    </tr>\n",
       "    <tr>\n",
       "      <th>2023-05-01</th>\n",
       "      <td>3138.663330</td>\n",
       "      <td>NaN</td>\n",
       "    </tr>\n",
       "    <tr>\n",
       "      <th>2023-06-01</th>\n",
       "      <td>3130.628906</td>\n",
       "      <td>NaN</td>\n",
       "    </tr>\n",
       "    <tr>\n",
       "      <th>2023-07-01</th>\n",
       "      <td>3123.674561</td>\n",
       "      <td>NaN</td>\n",
       "    </tr>\n",
       "    <tr>\n",
       "      <th>2023-08-01</th>\n",
       "      <td>3091.141846</td>\n",
       "      <td>NaN</td>\n",
       "    </tr>\n",
       "    <tr>\n",
       "      <th>2023-09-01</th>\n",
       "      <td>3005.444336</td>\n",
       "      <td>NaN</td>\n",
       "    </tr>\n",
       "  </tbody>\n",
       "</table>\n",
       "<p>70 rows × 2 columns</p>\n",
       "</div>"
      ],
      "text/plain": [
       "              predicted  iron_prices\n",
       "2017-12-01  2261.093506     2089.250\n",
       "2018-01-01  2274.383545     2323.400\n",
       "2018-02-01  2290.468750     2341.476\n",
       "2018-03-01  2299.977539     2350.829\n",
       "2018-04-01  2310.790527     2330.644\n",
       "...                 ...          ...\n",
       "2023-05-01  3138.663330          NaN\n",
       "2023-06-01  3130.628906          NaN\n",
       "2023-07-01  3123.674561          NaN\n",
       "2023-08-01  3091.141846          NaN\n",
       "2023-09-01  3005.444336          NaN\n",
       "\n",
       "[70 rows x 2 columns]"
      ]
     },
     "execution_count": 18,
     "metadata": {},
     "output_type": "execute_result"
    }
   ],
   "source": [
    "PREDICTION_TRAIN\n",
    "res= PREDICTION_TRAIN.append(PREDICTIONS_FUTURE)\n",
    "res['iron_prices']= df_iron_12mm\n",
    "res"
   ]
  },
  {
   "cell_type": "code",
   "execution_count": 19,
   "metadata": {},
   "outputs": [
    {
     "data": {
      "image/png": "[encoded data removed]",
      "text/plain": [
       "<Figure size 640x480 with 1 Axes>"
      ]
     },
     "metadata": {},
     "output_type": "display_data"
    }
   ],
   "source": [
    "res['date']= res.index\n",
    "res.columns[-1]\n",
    "df= res\n",
    "\n",
    "ax = plt.gca()\n",
    "df.plot(kind='line',x=res.columns[-1],y='iron_prices',ax=ax)\n",
    "df.plot(kind='line',x=res.columns[-1],y='predicted', color='red', ax=ax)\n",
    "\n",
    "\n",
    "plt.show()"
   ]
  },
  {
   "cell_type": "code",
   "execution_count": 20,
   "metadata": {},
   "outputs": [],
   "source": [
    "res.to_csv(r'C:\\Users\\fnafisa\\WORKSPACE\\professional\\Project PoC\\output\\predictions.csv', encoding='utf-8', index=False)\n"
   ]
  },
  {
   "cell_type": "code",
   "execution_count": null,
   "metadata": {},
   "outputs": [],
   "source": []
  }
 ],
 "metadata": {
  "kernelspec": {
   "display_name": "Python 3.10.2 ('.venv': venv)",
   "language": "python",
   "name": "python3"
  },
  "language_info": {
   "codemirror_mode": {
    "name": "ipython",
    "version": 3
   },
   "file_extension": ".py",
   "mimetype": "text/x-python",
   "name": "python",
   "nbconvert_exporter": "python",
   "pygments_lexer": "ipython3",
   "version": "3.10.2"
  },
  "orig_nbformat": 4,
  "vscode": {
   "interpreter": {
    "hash": "bb49dee2baa2d7c6a029fdee3d6d205496ad99d9b57c9466cbe9a6025091e179"
   }
  }
 },
 "nbformat": 4,
 "nbformat_minor": 2
}
