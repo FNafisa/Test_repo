{
 "cells": [
  {
   "cell_type": "markdown",
   "metadata": {},
   "source": [
    "# Multivariate Time-Series Forecasting: Predict Iron Prices"
   ]
  },
  {
   "cell_type": "markdown",
   "metadata": {},
   "source": [
    "### Import libs"
   ]
  },
  {
   "cell_type": "code",
   "execution_count": 1,
   "metadata": {},
   "outputs": [],
   "source": [
    "import numpy as np\n",
    "import pandas as pd\n",
    "import datetime as dt\n",
    "\n",
    "import matplotlib.pyplot as plt\n",
    "from pylab import rcParams\n",
    "\n",
    "\n",
    "from sklearn.preprocessing import StandardScaler\n",
    "\n",
    "from keras.callbacks import EarlyStopping, ReduceLROnPlateau, ModelCheckpoint, TensorBoard\n",
    "from keras.models import Sequential\n",
    "from keras.layers import Dense\n",
    "from keras.layers import LSTM\n",
    "from keras.layers import Dropout\n",
    "from keras.optimizers import Adam\n",
    "\n"
   ]
  },
  {
   "cell_type": "markdown",
   "metadata": {},
   "source": [
    "## ||||||||||||||||||||||||||||||| Part 1: Data preprocessing |||||||||||||||||||||||||||||||"
   ]
  },
  {
   "cell_type": "markdown",
   "metadata": {},
   "source": [
    "###  Read and load the data; we want to select the features for the training and prediction and extract the date column then make it the index"
   ]
  },
  {
   "cell_type": "markdown",
   "metadata": {},
   "source": [
    "Index & Date columns..."
   ]
  },
  {
   "cell_type": "markdown",
   "metadata": {},
   "source": [
    "check for null values:"
   ]
  },
  {
   "cell_type": "code",
   "execution_count": 2,
   "metadata": {},
   "outputs": [
    {
     "name": "stdout",
     "output_type": "stream",
     "text": [
      "          date     price  oil_brent       tasi      gold  interest_rate  \\\n",
      "0   2013-01-01  2964.917     114.54   7,043.55  1,662.00           0.14   \n",
      "1   2013-02-01  2964.750     110.42   6,998.33  1,578.90           0.15   \n",
      "2   2013-03-01  2964.942     109.79   7,125.73  1,595.70           0.14   \n",
      "3   2013-04-01  2964.917     102.04   7,179.80  1,472.70           0.15   \n",
      "4   2013-05-01  2964.917     100.20   7,404.12  1,393.00           0.11   \n",
      "..         ...       ...        ...        ...       ...            ...   \n",
      "112 2022-05-01  4000.960     115.60  12,921.74  1,848.40           0.77   \n",
      "113 2022-06-01  3704.880     109.03  11,523.25  1,812.00           1.21   \n",
      "114 2022-07-01  3595.940     103.97  12,199.08  1,771.50           1.68   \n",
      "115 2022-08-01  3288.840      95.64  12,283.33  1,721.40           2.33   \n",
      "116 2022-09-01  3116.300      85.14  11,405.32  1,672.00           2.56   \n",
      "\n",
      "     historical  \n",
      "0    2615.09244  \n",
      "1    2964.91700  \n",
      "2    2964.75000  \n",
      "3    2964.94200  \n",
      "4    2964.91700  \n",
      "..          ...  \n",
      "112  4032.60000  \n",
      "113  4000.96000  \n",
      "114  3704.88000  \n",
      "115  3595.94000  \n",
      "116  3288.84000  \n",
      "\n",
      "[117 rows x 7 columns]\n",
      "Training set shape == (117, 7)\n",
      "All timestamps == 117\n",
      "Featured selected: ['price', 'oil_brent', 'tasi', 'gold', 'interest_rate', 'historical']\n",
      "Sample of date list: [Timestamp('2013-01-01 00:00:00'), Timestamp('2013-02-01 00:00:00')]...[Timestamp('2022-07-01 00:00:00'), Timestamp('2022-08-01 00:00:00')]\n"
     ]
    }
   ],
   "source": [
    "# import training dataset\n",
    "dataset_train= pd.read_excel(r'C:\\Users\\fnafisa\\WORKSPACE\\professional\\Project PoC\\Input\\data\\Construction materials\\segregated\\حديد تسليح 12مم وطني.xlsx')\n",
    "dataset_train= dataset_train.sort_values(by=['date'], ascending=True)\n",
    "\n",
    "# features selection\n",
    "cols= list(dataset_train)[1:]\n",
    "\n",
    "\n",
    "# Extract dates (timestamp format)\n",
    "datelist_train = list(dataset_train['date'])\n",
    "# datelist_train = [dt.datetime.strptime(date, '%Y-%m-%d').date() for date in datelist_train]\n",
    "\n",
    "\n",
    "# dataset_train.index= dataset_train.pop('date')\n",
    "print(dataset_train)\n",
    "print('Training set shape == {}'.format(dataset_train.shape))\n",
    "print('All timestamps == {}'.format(len(datelist_train)))\n",
    "print('Featured selected: {}'.format(cols))\n",
    "print('Sample of date list: {}...{}'.format(datelist_train[0:2], datelist_train[-3:-1]))"
   ]
  },
  {
   "cell_type": "markdown",
   "metadata": {},
   "source": [
    "###  Shaping and transformation"
   ]
  },
  {
   "cell_type": "code",
   "execution_count": 3,
   "metadata": {},
   "outputs": [
    {
     "name": "stdout",
     "output_type": "stream",
     "text": [
      "Shape of training set        == (117, 6).\n",
      "Shape of training set scaled == (117, 6).\n"
     ]
    }
   ],
   "source": [
    "\n",
    "# dataset traing will be the essanse of all the upcoming datasets(training_set, training_set_scaled, X_train, y_train...)\n",
    "# make sure there are no commas in any number                                                      \"Target\"      |--------------------\"Predictors\"-------------------|\n",
    "dataset_train = dataset_train[cols].astype(str) # to remove the date and select only the features : ['price', 'oil_brent', 'tasi', 'gold', 'interest_rate', 'historical']\n",
    "for i in cols:\n",
    "    for j in range(0, len(dataset_train)):\n",
    "        dataset_train[i][j] = dataset_train[i][j].replace(',', '')\n",
    "\n",
    "dataset_train = dataset_train.astype(float)\n",
    "\n",
    "# by using multiple predictors (features) we need to convert (reshape) to a matrix(array) using .to_numpy\n",
    "training_set= dataset_train.to_numpy()\n",
    "\n",
    "\n",
    "\n",
    "# Feature scaling hence features vary in range\n",
    "sc = StandardScaler()\n",
    "training_set_scaled = sc.fit_transform(training_set)\n",
    "\n",
    "sc_predict = StandardScaler()\n",
    "target_scaled= sc_predict.fit_transform(training_set[:, 0:1])\n",
    "\n",
    "\n",
    "\n",
    "print('Shape of training set        == {}.'.format(training_set.shape))\n",
    "print('Shape of training set scaled == {}.'.format(training_set_scaled.shape))\n"
   ]
  },
  {
   "cell_type": "markdown",
   "metadata": {},
   "source": [
    "## ||||||||||||||||||||||||||||||| Part 2: Modeling |||||||||||||||||||||||||||||||"
   ]
  },
  {
   "cell_type": "markdown",
   "metadata": {},
   "source": [
    "###  Build the model architecture and Set up the WINDOWED DATAFRAME "
   ]
  },
  {
   "cell_type": "code",
   "execution_count": 4,
   "metadata": {},
   "outputs": [
    {
     "name": "stdout",
     "output_type": "stream",
     "text": [
      "X_train shape == (100, 12, 6).\n",
      "y_train shape == (100, 1).\n"
     ]
    }
   ],
   "source": [
    "# Create a data structure with timestamps\n",
    "# Target/features selection\n",
    "X_train= []\n",
    "y_train= []\n",
    "n_future= 6 # number of moths to be predicted\n",
    "n_past= 12 # the size of the windowed dataframe\n",
    "\n",
    "for i in range(n_past, len(training_set_scaled) - n_future +1):\n",
    "    X_train.append(training_set_scaled[i - n_past:i, 0:dataset_train.shape[1]])\n",
    "    y_train.append(training_set_scaled[i + n_future - 1:i + n_future, 0])\n",
    "\n",
    "\n",
    "X_train, y_train = np.array(X_train), np.array(y_train)\n",
    "\n",
    "print('X_train shape == {}.'.format(X_train.shape))\n",
    "print('y_train shape == {}.'.format(y_train.shape))\n",
    "\n",
    "\n",
    "\n"
   ]
  },
  {
   "cell_type": "code",
   "execution_count": null,
   "metadata": {},
   "outputs": [],
   "source": [
    "# build the model\n",
    "model= Sequential()\n",
    "model.add(LSTM(units=32, return_sequences=True, input_shape=(n_past, X_train.shape[-1])))\n",
    "model.add(Dropout(.25))\n",
    "model.add(LSTM(units=10, return_sequences=False))\n",
    "model.add(Dropout(.10))\n",
    "model.add(Dense(units=1, activation='linear'))\n",
    "model.compile(optimizer= Adam(learning_rate=.02), loss= 'mean_squared_error')"
   ]
  },
  {
   "cell_type": "markdown",
   "metadata": {},
   "source": [
    "### Buile the model and  train it..."
   ]
  },
  {
   "cell_type": "code",
   "execution_count": 308,
   "metadata": {},
   "outputs": [
    {
     "name": "stdout",
     "output_type": "stream",
     "text": [
      "Epoch 1/50\n",
      "1/5 [=====>........................] - ETA: 9s - loss: 0.2665\n",
      "Epoch 1: val_loss improved from inf to 1.11116, saving model to weights.h5\n",
      "5/5 [==============================] - 3s 165ms/step - loss: 0.4321 - val_loss: 1.1112 - lr: 0.0100\n",
      "Epoch 2/50\n",
      "1/5 [=====>........................] - ETA: 0s - loss: 0.4955\n",
      "Epoch 2: val_loss did not improve from 1.11116\n",
      "5/5 [==============================] - 0s 19ms/step - loss: 0.2634 - val_loss: 1.1290 - lr: 0.0100\n",
      "Epoch 3/50\n",
      "1/5 [=====>........................] - ETA: 0s - loss: 0.1699\n",
      "Epoch 3: val_loss improved from 1.11116 to 0.96372, saving model to weights.h5\n",
      "5/5 [==============================] - 0s 21ms/step - loss: 0.3110 - val_loss: 0.9637 - lr: 0.0100\n",
      "Epoch 4/50\n",
      "1/5 [=====>........................] - ETA: 0s - loss: 0.1327\n",
      "Epoch 4: val_loss improved from 0.96372 to 0.89117, saving model to weights.h5\n",
      "5/5 [==============================] - 0s 21ms/step - loss: 0.2364 - val_loss: 0.8912 - lr: 0.0100\n",
      "Epoch 5/50\n",
      "1/5 [=====>........................] - ETA: 0s - loss: 0.0937\n",
      "Epoch 5: val_loss improved from 0.89117 to 0.75865, saving model to weights.h5\n",
      "5/5 [==============================] - 0s 21ms/step - loss: 0.1578 - val_loss: 0.7586 - lr: 0.0100\n",
      "Epoch 6/50\n",
      "1/5 [=====>........................] - ETA: 0s - loss: 0.0334\n",
      "Epoch 6: val_loss improved from 0.75865 to 0.64245, saving model to weights.h5\n",
      "5/5 [==============================] - 0s 21ms/step - loss: 0.0757 - val_loss: 0.6424 - lr: 0.0100\n",
      "Epoch 7/50\n",
      "1/5 [=====>........................] - ETA: 0s - loss: 0.0449\n",
      "Epoch 7: val_loss improved from 0.64245 to 0.61116, saving model to weights.h5\n",
      "5/5 [==============================] - 0s 21ms/step - loss: 0.1044 - val_loss: 0.6112 - lr: 0.0100\n",
      "Epoch 8/50\n",
      "1/5 [=====>........................] - ETA: 0s - loss: 0.0527\n",
      "Epoch 8: val_loss did not improve from 0.61116\n",
      "5/5 [==============================] - 0s 18ms/step - loss: 0.0953 - val_loss: 0.6452 - lr: 0.0100\n",
      "Epoch 9/50\n",
      "1/5 [=====>........................] - ETA: 0s - loss: 0.0319\n",
      "Epoch 9: val_loss did not improve from 0.61116\n",
      "5/5 [==============================] - 0s 19ms/step - loss: 0.0833 - val_loss: 0.6768 - lr: 0.0100\n",
      "Epoch 10/50\n",
      "1/5 [=====>........................] - ETA: 0s - loss: 0.0494\n",
      "Epoch 10: val_loss did not improve from 0.61116\n",
      "5/5 [==============================] - 0s 17ms/step - loss: 0.1215 - val_loss: 0.6890 - lr: 0.0100\n",
      "Epoch 11/50\n",
      "1/5 [=====>........................] - ETA: 0s - loss: 0.0622\n",
      "Epoch 11: val_loss did not improve from 0.61116\n",
      "5/5 [==============================] - 0s 17ms/step - loss: 0.0987 - val_loss: 0.6445 - lr: 0.0100\n",
      "Epoch 12/50\n",
      "5/5 [==============================] - ETA: 0s - loss: 0.0830\n",
      "Epoch 12: val_loss improved from 0.61116 to 0.58299, saving model to weights.h5\n",
      "5/5 [==============================] - 0s 26ms/step - loss: 0.0830 - val_loss: 0.5830 - lr: 0.0100\n",
      "Epoch 13/50\n",
      "1/5 [=====>........................] - ETA: 0s - loss: 0.0463\n",
      "Epoch 13: val_loss did not improve from 0.58299\n",
      "5/5 [==============================] - 0s 17ms/step - loss: 0.0915 - val_loss: 0.5978 - lr: 0.0100\n",
      "Epoch 14/50\n",
      "1/5 [=====>........................] - ETA: 0s - loss: 0.0472\n",
      "Epoch 14: val_loss did not improve from 0.58299\n",
      "5/5 [==============================] - 0s 18ms/step - loss: 0.1153 - val_loss: 0.6893 - lr: 0.0100\n",
      "Epoch 15/50\n",
      "1/5 [=====>........................] - ETA: 0s - loss: 0.0253\n",
      "Epoch 15: val_loss did not improve from 0.58299\n",
      "5/5 [==============================] - 0s 18ms/step - loss: 0.0838 - val_loss: 0.6892 - lr: 0.0100\n",
      "Epoch 16/50\n",
      "1/5 [=====>........................] - ETA: 0s - loss: 0.0247\n",
      "Epoch 16: val_loss did not improve from 0.58299\n",
      "5/5 [==============================] - 0s 18ms/step - loss: 0.0768 - val_loss: 0.6195 - lr: 0.0100\n",
      "Epoch 17/50\n",
      "1/5 [=====>........................] - ETA: 0s - loss: 0.0282\n",
      "Epoch 17: val_loss did not improve from 0.58299\n",
      "5/5 [==============================] - 0s 18ms/step - loss: 0.0829 - val_loss: 0.5837 - lr: 0.0100\n",
      "Epoch 18/50\n",
      "1/5 [=====>........................] - ETA: 0s - loss: 0.0211\n",
      "Epoch 18: val_loss improved from 0.58299 to 0.57071, saving model to weights.h5\n",
      "5/5 [==============================] - 0s 21ms/step - loss: 0.0831 - val_loss: 0.5707 - lr: 0.0100\n",
      "Epoch 19/50\n",
      "1/5 [=====>........................] - ETA: 0s - loss: 0.0270\n",
      "Epoch 19: val_loss improved from 0.57071 to 0.55891, saving model to weights.h5\n",
      "5/5 [==============================] - 0s 22ms/step - loss: 0.0848 - val_loss: 0.5589 - lr: 0.0100\n",
      "Epoch 20/50\n",
      "1/5 [=====>........................] - ETA: 0s - loss: 0.0470\n",
      "Epoch 20: val_loss did not improve from 0.55891\n",
      "5/5 [==============================] - 0s 19ms/step - loss: 0.0895 - val_loss: 0.5628 - lr: 0.0100\n",
      "Epoch 21/50\n",
      "1/5 [=====>........................] - ETA: 0s - loss: 0.0214\n",
      "Epoch 21: val_loss did not improve from 0.55891\n",
      "5/5 [==============================] - 0s 18ms/step - loss: 0.0768 - val_loss: 0.6006 - lr: 0.0100\n",
      "Epoch 22/50\n",
      "1/5 [=====>........................] - ETA: 0s - loss: 0.0259\n",
      "Epoch 22: val_loss did not improve from 0.55891\n",
      "5/5 [==============================] - 0s 23ms/step - loss: 0.0928 - val_loss: 0.9196 - lr: 0.0100\n",
      "Epoch 23/50\n",
      "1/5 [=====>........................] - ETA: 0s - loss: 0.0292\n",
      "Epoch 23: val_loss did not improve from 0.55891\n",
      "5/5 [==============================] - 0s 18ms/step - loss: 0.1118 - val_loss: 0.8357 - lr: 0.0100\n",
      "Epoch 24/50\n",
      "1/5 [=====>........................] - ETA: 0s - loss: 0.0192\n",
      "Epoch 24: val_loss did not improve from 0.55891\n",
      "5/5 [==============================] - 0s 17ms/step - loss: 0.0821 - val_loss: 0.7271 - lr: 0.0100\n",
      "Epoch 25/50\n",
      "1/5 [=====>........................] - ETA: 0s - loss: 0.0233\n",
      "Epoch 25: val_loss did not improve from 0.55891\n",
      "5/5 [==============================] - 0s 18ms/step - loss: 0.0804 - val_loss: 1.0867 - lr: 0.0100\n",
      "Epoch 26/50\n",
      "5/5 [==============================] - ETA: 0s - loss: 0.0804\n",
      "Epoch 26: val_loss did not improve from 0.55891\n",
      "5/5 [==============================] - 0s 23ms/step - loss: 0.0804 - val_loss: 1.2652 - lr: 0.0100\n",
      "Epoch 27/50\n",
      "1/5 [=====>........................] - ETA: 0s - loss: 0.0425\n",
      "Epoch 27: val_loss did not improve from 0.55891\n",
      "5/5 [==============================] - 0s 17ms/step - loss: 0.0961 - val_loss: 1.3304 - lr: 0.0100\n",
      "Epoch 28/50\n",
      "1/5 [=====>........................] - ETA: 0s - loss: 0.0513\n",
      "Epoch 28: val_loss did not improve from 0.55891\n",
      "5/5 [==============================] - 0s 19ms/step - loss: 0.0918 - val_loss: 1.3356 - lr: 0.0100\n",
      "Epoch 29/50\n",
      "1/5 [=====>........................] - ETA: 0s - loss: 0.0335\n",
      "Epoch 29: ReduceLROnPlateau reducing learning rate to 0.004999999888241291.\n",
      "\n",
      "Epoch 29: val_loss did not improve from 0.55891\n",
      "5/5 [==============================] - 0s 19ms/step - loss: 0.0665 - val_loss: 1.3657 - lr: 0.0100\n",
      "Epoch 30/50\n",
      "1/5 [=====>........................] - ETA: 0s - loss: 0.0219\n",
      "Epoch 30: val_loss did not improve from 0.55891\n",
      "5/5 [==============================] - 0s 18ms/step - loss: 0.0734 - val_loss: 1.2420 - lr: 0.0050\n",
      "Epoch 31/50\n",
      "1/5 [=====>........................] - ETA: 0s - loss: 0.0300\n",
      "Epoch 31: val_loss did not improve from 0.55891\n",
      "5/5 [==============================] - 0s 19ms/step - loss: 0.0569 - val_loss: 1.1479 - lr: 0.0050\n",
      "Epoch 32/50\n",
      "1/5 [=====>........................] - ETA: 0s - loss: 0.0284\n",
      "Epoch 32: val_loss did not improve from 0.55891\n",
      "5/5 [==============================] - 0s 19ms/step - loss: 0.0730 - val_loss: 1.3538 - lr: 0.0050\n",
      "Epoch 33/50\n",
      "1/5 [=====>........................] - ETA: 0s - loss: 0.0216\n",
      "Epoch 33: val_loss did not improve from 0.55891\n",
      "5/5 [==============================] - 0s 18ms/step - loss: 0.0680 - val_loss: 1.5043 - lr: 0.0050\n",
      "Epoch 34/50\n",
      "1/5 [=====>........................] - ETA: 0s - loss: 0.0217\n",
      "Epoch 34: val_loss did not improve from 0.55891\n",
      "5/5 [==============================] - 0s 19ms/step - loss: 0.0688 - val_loss: 1.6177 - lr: 0.0050\n",
      "Epoch 35/50\n",
      "1/5 [=====>........................] - ETA: 0s - loss: 0.0151\n",
      "Epoch 35: val_loss did not improve from 0.55891\n",
      "5/5 [==============================] - 0s 17ms/step - loss: 0.0697 - val_loss: 1.4444 - lr: 0.0050\n",
      "Epoch 36/50\n",
      "1/5 [=====>........................] - ETA: 0s - loss: 0.0242\n",
      "Epoch 36: val_loss did not improve from 0.55891\n",
      "5/5 [==============================] - 0s 19ms/step - loss: 0.0660 - val_loss: 1.4972 - lr: 0.0050\n",
      "Epoch 37/50\n",
      "1/5 [=====>........................] - ETA: 0s - loss: 0.0215\n",
      "Epoch 37: val_loss did not improve from 0.55891\n",
      "5/5 [==============================] - 0s 19ms/step - loss: 0.0601 - val_loss: 1.5290 - lr: 0.0050\n",
      "Epoch 38/50\n",
      "1/5 [=====>........................] - ETA: 0s - loss: 0.0202\n",
      "Epoch 38: val_loss did not improve from 0.55891\n",
      "5/5 [==============================] - 0s 20ms/step - loss: 0.0620 - val_loss: 1.5266 - lr: 0.0050\n",
      "Epoch 39/50\n",
      "1/5 [=====>........................] - ETA: 0s - loss: 0.0154\n",
      "Epoch 39: ReduceLROnPlateau reducing learning rate to 0.0024999999441206455.\n",
      "\n",
      "Epoch 39: val_loss did not improve from 0.55891\n",
      "5/5 [==============================] - 0s 19ms/step - loss: 0.0629 - val_loss: 1.6657 - lr: 0.0050\n",
      "Epoch 39: early stopping\n"
     ]
    }
   ],
   "source": [
    "# build the model\n",
    "model= Sequential()\n",
    "model.add(LSTM(units=64, return_sequences=True, input_shape=(n_past, X_train.shape[-1])))\n",
    "model.add(Dropout(.5))\n",
    "model.add(LSTM(units=10, return_sequences=False))\n",
    "model.add(Dropout(.3))\n",
    "model.add(Dense(units=1, activation='linear'))\n",
    "model.compile(optimizer= Adam(learning_rate=.01), loss= 'mean_squared_error')\n",
    "\n",
    "# %%time\n",
    "es = EarlyStopping(monitor='val_loss', min_delta=1e-10, patience=20, verbose=1)\n",
    "rlr = ReduceLROnPlateau(monitor='val_loss', factor=0.5, patience=10, verbose=1)\n",
    "mcp = ModelCheckpoint(filepath='weights.h5', monitor='val_loss', verbose=1, save_best_only=True, save_weights_only=True)\n",
    "\n",
    "tb = TensorBoard('logs')\n",
    "\n",
    "history = model.fit(X_train, y_train, shuffle=False, epochs=50, callbacks=[es, rlr, mcp, tb], validation_split=0.3, verbose=1, batch_size=16)\n",
    "# history = model.fit(X_train, y_train, epochs=50, callbacks=[es, rlr, mcp, tb], validation_split=0.3, verbose=1, batch_size=32)"
   ]
  },
  {
   "cell_type": "markdown",
   "metadata": {},
   "source": [
    "## ||||||||||||||||||||||||||||||| Part 3: Forcasting |||||||||||||||||||||||||||||||"
   ]
  },
  {
   "cell_type": "markdown",
   "metadata": {},
   "source": [
    "Create indexes for prediction"
   ]
  },
  {
   "cell_type": "code",
   "execution_count": 87,
   "metadata": {},
   "outputs": [
    {
     "ename": "AttributeError",
     "evalue": "'datetime.date' object has no attribute 'date'",
     "output_type": "error",
     "traceback": [
      "\u001b[1;31m---------------------------------------------------------------------------\u001b[0m",
      "\u001b[1;31mAttributeError\u001b[0m                            Traceback (most recent call last)",
      "Cell \u001b[1;32mIn [87], line 13\u001b[0m\n\u001b[0;32m     11\u001b[0m datelist_train_\u001b[39m=\u001b[39m []\n\u001b[0;32m     12\u001b[0m \u001b[39mfor\u001b[39;00m this_timestamp \u001b[39min\u001b[39;00m datelist_train:\n\u001b[1;32m---> 13\u001b[0m     datelist_train_\u001b[39m.\u001b[39mappend(this_timestamp\u001b[39m.\u001b[39;49mdate())\n\u001b[0;32m     14\u001b[0m datelist_train\u001b[39m=\u001b[39m datelist_train_\n\u001b[0;32m     15\u001b[0m \u001b[39mdel\u001b[39;00m datelist_train_\n",
      "\u001b[1;31mAttributeError\u001b[0m: 'datetime.date' object has no attribute 'date'"
     ]
    }
   ],
   "source": [
    "# Generate list of sequence of months for predictions w datetime type\n",
    "datelist_future = pd.date_range(datelist_train[-1], periods=n_future, freq='1m').tolist()\n",
    "datelist_future_= []\n",
    "for d in datelist_future:\n",
    "    d= d + dt.timedelta(days=1)\n",
    "    d= d.date()\n",
    "    datelist_future_.append(d)\n",
    "datelist_future= datelist_future_\n",
    "del datelist_future_\n",
    "\n",
    "datelist_train_= []\n",
    "for this_timestamp in datelist_train:\n",
    "    datelist_train_.append(this_timestamp.date())\n",
    "datelist_train= datelist_train_\n",
    "del datelist_train_"
   ]
  },
  {
   "cell_type": "markdown",
   "metadata": {},
   "source": [
    "## Step 5: Make PREDICTION!"
   ]
  },
  {
   "cell_type": "code",
   "execution_count": 309,
   "metadata": {},
   "outputs": [
    {
     "name": "stdout",
     "output_type": "stream",
     "text": [
      "3/3 [==============================] - 1s 4ms/step\n",
      "1/1 [==============================] - 0s 19ms/step\n"
     ]
    }
   ],
   "source": [
    "# Perform predictions\n",
    "predictions_train = model.predict(X_train[n_past:])\n",
    "predictions_future = model.predict(X_train[-n_future:])\n",
    "\n",
    "\n",
    "y_pred_future = sc_predict.inverse_transform(predictions_future)\n",
    "y_pred_train = sc_predict.inverse_transform(predictions_train)\n"
   ]
  },
  {
   "cell_type": "code",
   "execution_count": 310,
   "metadata": {},
   "outputs": [
    {
     "data": {
      "image/png": "[encoded data removed]",
      "text/plain": [
       "<Figure size 1400x500 with 1 Axes>"
      ]
     },
     "metadata": {},
     "output_type": "display_data"
    }
   ],
   "source": [
    "PREDICTIONS_FUTURE = pd.DataFrame(y_pred_future, columns=['predicted_forecast']).set_index(pd.Series(datelist_future))\n",
    "PREDICTION_TRAIN = pd.DataFrame(y_pred_train, columns=['predicted_training']).set_index(pd.Series(datelist_train[2 * n_past + n_future -1:]))\n",
    "dataset_train.index= datelist_train\n",
    "# Set plot size \n",
    "from pylab import rcParams\n",
    "rcParams['figure.figsize'] = 14, 5\n",
    "\n",
    "# Plot parameters\n",
    "START_DATE_FOR_PLOTTING = '2013-01-01'\n",
    "\n",
    "plt.plot(PREDICTIONS_FUTURE.index, PREDICTIONS_FUTURE['predicted_forecast'], color='r', label='Predicted Stock Price')\n",
    "plt.plot(PREDICTIONS_FUTURE_.index, PREDICTIONS_FUTURE_['predicted_forecast'], color='r', label='Predicted Stock Price')\n",
    "plt.plot(PREDICTION_TRAIN.loc[:].index, PREDICTION_TRAIN.loc[:]['predicted_training'], color='r', label='Training predictions')\n",
    "plt.plot(dataset_train.loc[:].index, dataset_train.loc[:]['price'], color='b', label='Actual Stock Price')\n",
    "\n",
    "plt.axvline(x = min(PREDICTIONS_FUTURE.index), color='green', linewidth=2, linestyle='--')\n",
    "\n",
    "plt.grid(which='major', color='#cccccc', alpha=0.5)\n",
    "\n",
    "plt.legend(shadow=True)\n",
    "plt.title('Predcitions and Acutal Stock Prices', family='Arial', fontsize=12)\n",
    "plt.xlabel('Timeline', family='Arial', fontsize=10)\n",
    "plt.ylabel('Stock Price Value', family='Arial', fontsize=10)\n",
    "plt.xticks(rotation=45, fontsize=8)\n",
    "plt.show()\n"
   ]
  },
  {
   "cell_type": "code",
   "execution_count": 259,
   "metadata": {},
   "outputs": [],
   "source": [
    "x= len(PREDICTION_TRAIN)\n",
    "last_insight= np.array(dataset_train['price'][-x:])\n",
    "last_prediction= np.array(PREDICTION_TRAIN['predicted_training'][:])\n",
    "factor= (last_insight - last_prediction) / last_prediction\n",
    "# factor= factor.mean()"
   ]
  },
  {
   "cell_type": "code",
   "execution_count": 260,
   "metadata": {},
   "outputs": [
    {
     "ename": "TypeError",
     "evalue": "only size-1 arrays can be converted to Python scalars",
     "output_type": "error",
     "traceback": [
      "\u001b[1;31m---------------------------------------------------------------------------\u001b[0m",
      "\u001b[1;31mTypeError\u001b[0m                                 Traceback (most recent call last)",
      "Cell \u001b[1;32mIn [260], line 2\u001b[0m\n\u001b[0;32m      1\u001b[0m b\u001b[39m=\u001b[39m np\u001b[39m.\u001b[39mempty(n_future)\n\u001b[1;32m----> 2\u001b[0m b\u001b[39m.\u001b[39mfill(\u001b[39mfloat\u001b[39;49m(factor))\n\u001b[0;32m      3\u001b[0m b\n",
      "\u001b[1;31mTypeError\u001b[0m: only size-1 arrays can be converted to Python scalars"
     ]
    }
   ],
   "source": [
    "b= np.empty(n_future)\n",
    "b.fill(float(factor))\n",
    "b"
   ]
  },
  {
   "cell_type": "code",
   "execution_count": 276,
   "metadata": {},
   "outputs": [],
   "source": [
    "a= (last_prediction[-6:] * factor[-6:]) + last_prediction[-6:]\n"
   ]
  },
  {
   "cell_type": "code",
   "execution_count": 277,
   "metadata": {},
   "outputs": [
    {
     "data": {
      "text/plain": [
       "array([4032.6 , 4000.96, 3704.88, 3595.94, 3288.84, 3116.3 ])"
      ]
     },
     "execution_count": 277,
     "metadata": {},
     "output_type": "execute_result"
    }
   ],
   "source": [
    "a"
   ]
  },
  {
   "cell_type": "code",
   "execution_count": 278,
   "metadata": {},
   "outputs": [],
   "source": [
    "PREDICTIONS_FUTURE_= pd.DataFrame(a, columns=['predicted_forecast'], index=PREDICTIONS_FUTURE.index)"
   ]
  },
  {
   "cell_type": "code",
   "execution_count": 279,
   "metadata": {},
   "outputs": [
    {
     "data": {
      "text/html": [
       "<div>\n",
       "<style scoped>\n",
       "    .dataframe tbody tr th:only-of-type {\n",
       "        vertical-align: middle;\n",
       "    }\n",
       "\n",
       "    .dataframe tbody tr th {\n",
       "        vertical-align: top;\n",
       "    }\n",
       "\n",
       "    .dataframe thead th {\n",
       "        text-align: right;\n",
       "    }\n",
       "</style>\n",
       "<table border=\"1\" class=\"dataframe\">\n",
       "  <thead>\n",
       "    <tr style=\"text-align: right;\">\n",
       "      <th></th>\n",
       "      <th>predicted_forecast</th>\n",
       "    </tr>\n",
       "  </thead>\n",
       "  <tbody>\n",
       "    <tr>\n",
       "      <th>2022-10-01</th>\n",
       "      <td>4032.60</td>\n",
       "    </tr>\n",
       "    <tr>\n",
       "      <th>2022-11-01</th>\n",
       "      <td>4000.96</td>\n",
       "    </tr>\n",
       "    <tr>\n",
       "      <th>2022-12-01</th>\n",
       "      <td>3704.88</td>\n",
       "    </tr>\n",
       "    <tr>\n",
       "      <th>2023-01-01</th>\n",
       "      <td>3595.94</td>\n",
       "    </tr>\n",
       "    <tr>\n",
       "      <th>2023-02-01</th>\n",
       "      <td>3288.84</td>\n",
       "    </tr>\n",
       "    <tr>\n",
       "      <th>2023-03-01</th>\n",
       "      <td>3116.30</td>\n",
       "    </tr>\n",
       "  </tbody>\n",
       "</table>\n",
       "</div>"
      ],
      "text/plain": [
       "            predicted_forecast\n",
       "2022-10-01             4032.60\n",
       "2022-11-01             4000.96\n",
       "2022-12-01             3704.88\n",
       "2023-01-01             3595.94\n",
       "2023-02-01             3288.84\n",
       "2023-03-01             3116.30"
      ]
     },
     "execution_count": 279,
     "metadata": {},
     "output_type": "execute_result"
    }
   ],
   "source": [
    "PREDICTIONS_FUTURE_"
   ]
  }
 ],
 "metadata": {
  "kernelspec": {
   "display_name": "Python 3.10.2 ('.venv': venv)",
   "language": "python",
   "name": "python3"
  },
  "language_info": {
   "codemirror_mode": {
    "name": "ipython",
    "version": 3
   },
   "file_extension": ".py",
   "mimetype": "text/x-python",
   "name": "python",
   "nbconvert_exporter": "python",
   "pygments_lexer": "ipython3",
   "version": "3.10.2"
  },
  "orig_nbformat": 4,
  "vscode": {
   "interpreter": {
    "hash": "a9d94b28d98dda62cc5bcd48d4eb6e25ca63c55c9aab25d2ced53ae3e67233af"
   }
  }
 },
 "nbformat": 4,
 "nbformat_minor": 2
}
