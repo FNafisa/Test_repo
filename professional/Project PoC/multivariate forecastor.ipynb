{
 "cells": [
  {
   "cell_type": "markdown",
   "metadata": {},
   "source": [
    "# Multivariate Time-Series Forecasting: Predict Iron Prices"
   ]
  },
  {
   "cell_type": "markdown",
   "metadata": {},
   "source": [
    "### Import libs"
   ]
  },
  {
   "cell_type": "code",
   "execution_count": 9,
   "metadata": {},
   "outputs": [],
   "source": [
    "import numpy as np\n",
    "import pandas as pd\n",
    "import datetime as dt\n",
    "\n",
    "import matplotlib.pyplot as plt\n",
    "from pylab import rcParams\n",
    "\n",
    "\n",
    "from sklearn.preprocessing import StandardScaler\n",
    "\n",
    "from keras.callbacks import EarlyStopping, ReduceLROnPlateau, ModelCheckpoint, TensorBoard\n",
    "from keras.models import Sequential\n",
    "from keras.layers import Dense\n",
    "from keras.layers import LSTM\n",
    "from keras.layers import Dropout\n",
    "from keras.optimizers import Adam\n",
    "\n"
   ]
  },
  {
   "cell_type": "markdown",
   "metadata": {},
   "source": [
    "## ||||||||||||||||||||||||||||||| Part 1: Data preprocessing |||||||||||||||||||||||||||||||"
   ]
  },
  {
   "cell_type": "markdown",
   "metadata": {},
   "source": [
    "###  Read and load the data; we want to select the features for the training and prediction and extract the date column then make it the index"
   ]
  },
  {
   "cell_type": "markdown",
   "metadata": {},
   "source": [
    "Index & Date columns..."
   ]
  },
  {
   "cell_type": "markdown",
   "metadata": {},
   "source": [
    "check for null values:"
   ]
  },
  {
   "cell_type": "code",
   "execution_count": 2,
   "metadata": {},
   "outputs": [
    {
     "name": "stdout",
     "output_type": "stream",
     "text": [
      "          date     price  oil_brent       tasi      gold  interest_rate  \\\n",
      "0   2013-01-01  2964.917     114.54   7,043.55  1,662.00           0.14   \n",
      "1   2013-02-01  2964.750     110.42   6,998.33  1,578.90           0.15   \n",
      "2   2013-03-01  2964.942     109.79   7,125.73  1,595.70           0.14   \n",
      "3   2013-04-01  2964.917     102.04   7,179.80  1,472.70           0.15   \n",
      "4   2013-05-01  2964.917     100.20   7,404.12  1,393.00           0.11   \n",
      "..         ...       ...        ...        ...       ...            ...   \n",
      "112 2022-05-01  4000.960     115.60  12,921.74  1,848.40           0.77   \n",
      "113 2022-06-01  3704.880     109.03  11,523.25  1,812.00           1.21   \n",
      "114 2022-07-01  3595.940     103.97  12,199.08  1,771.50           1.68   \n",
      "115 2022-08-01  3288.840      95.64  12,283.33  1,721.40           2.33   \n",
      "116 2022-09-01  3116.300      85.14  11,405.32  1,672.00           2.56   \n",
      "\n",
      "     historical  \n",
      "0    2615.09244  \n",
      "1    2964.91700  \n",
      "2    2964.75000  \n",
      "3    2964.94200  \n",
      "4    2964.91700  \n",
      "..          ...  \n",
      "112  4032.60000  \n",
      "113  4000.96000  \n",
      "114  3704.88000  \n",
      "115  3595.94000  \n",
      "116  3288.84000  \n",
      "\n",
      "[117 rows x 7 columns]\n",
      "Training set shape == (117, 7)\n",
      "All timestamps == 117\n",
      "Featured selected: ['price', 'oil_brent', 'tasi', 'gold', 'interest_rate']\n",
      "Sample of date list: [Timestamp('2013-01-01 00:00:00'), Timestamp('2013-02-01 00:00:00')]...[Timestamp('2022-07-01 00:00:00'), Timestamp('2022-08-01 00:00:00')]\n"
     ]
    }
   ],
   "source": [
    "# import training dataset\n",
    "dataset_train= pd.read_excel(r'C:\\Users\\fnafisa\\WORKSPACE\\professional\\Project PoC\\Input\\data\\Construction materials\\segregated\\حديد تسليح 12مم وطني.xlsx')\n",
    "dataset_train.columns = ['date','price', 'oil_brent', 'tasi', 'gold', 'interest_rate', 'historical']\n",
    "dataset_train= dataset_train.sort_values(by=['date'], ascending=True)\n",
    "\n",
    "# features selection\n",
    "cols= list(dataset_train)[1:-1]\n",
    "\n",
    "\n",
    "# Extract dates (timestamp format)\n",
    "datelist_train = list(dataset_train['date'])\n",
    "# datelist_train = [dt.datetime.strptime(date, '%Y-%m-%d').date() for date in datelist_train]\n",
    "\n",
    "\n",
    "# dataset_train.index= dataset_train.pop('date')\n",
    "print(dataset_train)\n",
    "print('Training set shape == {}'.format(dataset_train.shape))\n",
    "print('All timestamps == {}'.format(len(datelist_train)))\n",
    "print('Featured selected: {}'.format(cols))\n",
    "print('Sample of date list: {}...{}'.format(datelist_train[0:2], datelist_train[-3:-1]))"
   ]
  },
  {
   "cell_type": "markdown",
   "metadata": {},
   "source": [
    "###  Shaping and transformation"
   ]
  },
  {
   "cell_type": "code",
   "execution_count": 3,
   "metadata": {},
   "outputs": [
    {
     "name": "stdout",
     "output_type": "stream",
     "text": [
      "Shape of training set        == (117, 5).\n",
      "Shape of training set scaled == (117, 5).\n"
     ]
    }
   ],
   "source": [
    "\n",
    "# dataset traing will be the essanse of all the upcoming datasets(training_set, training_set_scaled, X_train, y_train...)\n",
    "# make sure there are no commas in any number                                                      \"Target\"      |--------------------\"Predictors\"-------------------|\n",
    "dataset_train = dataset_train[cols].astype(str) # to remove the date and select only the features : ['price', 'oil_brent', 'tasi', 'gold', 'interest_rate', 'historical']\n",
    "for i in cols:\n",
    "    for j in range(0, len(dataset_train)):\n",
    "        dataset_train[i][j] = dataset_train[i][j].replace(',', '')\n",
    "\n",
    "dataset_train = dataset_train.astype(float)\n",
    "\n",
    "# by using multiple predictors (features) we need to convert (reshape) to a matrix(array) using .to_numpy\n",
    "training_set= dataset_train.to_numpy()\n",
    "\n",
    "\n",
    "\n",
    "# Feature scaling hence features vary in range\n",
    "sc = StandardScaler()\n",
    "training_set_scaled = sc.fit_transform(training_set)\n",
    "\n",
    "sc_predict = StandardScaler()\n",
    "target_scaled= sc_predict.fit_transform(training_set[:, 0:1])\n",
    "\n",
    "\n",
    "\n",
    "print('Shape of training set        == {}.'.format(training_set.shape))\n",
    "print('Shape of training set scaled == {}.'.format(training_set_scaled.shape))\n"
   ]
  },
  {
   "cell_type": "markdown",
   "metadata": {},
   "source": [
    "## ||||||||||||||||||||||||||||||| Part 2: Modeling |||||||||||||||||||||||||||||||"
   ]
  },
  {
   "cell_type": "markdown",
   "metadata": {},
   "source": [
    "###  Build the model architecture and Set up the WINDOWED DATAFRAME "
   ]
  },
  {
   "cell_type": "code",
   "execution_count": 4,
   "metadata": {},
   "outputs": [
    {
     "name": "stdout",
     "output_type": "stream",
     "text": [
      "X_train shape == (100, 12, 5).\n",
      "y_train shape == (100, 1).\n"
     ]
    }
   ],
   "source": [
    "# Create a data structure with timestamps\n",
    "# Target/features selection\n",
    "X_train= []\n",
    "y_train= []\n",
    "n_future= 6 # number of moths to be predicted\n",
    "n_past= 12 # the size of the windowed dataframe\n",
    "\n",
    "for i in range(n_past, len(training_set_scaled) - n_future +1):\n",
    "    X_train.append(training_set_scaled[i - n_past:i, 0:dataset_train.shape[1]])\n",
    "    y_train.append(training_set_scaled[i + n_future - 1:i + n_future, 0])\n",
    "\n",
    "\n",
    "X_train, y_train = np.array(X_train), np.array(y_train)\n",
    "\n",
    "print('X_train shape == {}.'.format(X_train.shape))\n",
    "print('y_train shape == {}.'.format(y_train.shape))"
   ]
  },
  {
   "cell_type": "code",
   "execution_count": 5,
   "metadata": {},
   "outputs": [],
   "source": [
    "# Generate list of sequence of months for predictions w datetime type\n",
    "datelist_future = pd.date_range(datelist_train[-1], periods=n_future, freq='1m').tolist()\n",
    "datelist_future_= []\n",
    "for d in datelist_future:\n",
    "    d= d + dt.timedelta(days=1)\n",
    "    d= d.date()\n",
    "    datelist_future_.append(d)\n",
    "datelist_future= datelist_future_\n",
    "del datelist_future_\n",
    "\n",
    "datelist_train_= []\n",
    "for this_timestamp in datelist_train:\n",
    "    datelist_train_.append(this_timestamp.date())\n",
    "datelist_train= datelist_train_\n",
    "del datelist_train_"
   ]
  },
  {
   "cell_type": "markdown",
   "metadata": {},
   "source": [
    "### Buile the model and  train it..."
   ]
  },
  {
   "cell_type": "code",
   "execution_count": 6,
   "metadata": {},
   "outputs": [
    {
     "name": "stdout",
     "output_type": "stream",
     "text": [
      "Epoch 1/100\n",
      "1/3 [=========>....................] - ETA: 5s - loss: 0.5950\n",
      "Epoch 1: val_loss improved from inf to 3.22698, saving model to weights.h5\n",
      "3/3 [==============================] - 3s 343ms/step - loss: 0.3579 - val_loss: 3.2270 - lr: 0.0300\n",
      "Epoch 2/100\n",
      "1/3 [=========>....................] - ETA: 0s - loss: 0.3807\n",
      "Epoch 2: val_loss improved from 3.22698 to 2.76150, saving model to weights.h5\n",
      "3/3 [==============================] - 0s 26ms/step - loss: 0.6113 - val_loss: 2.7615 - lr: 0.0300\n",
      "Epoch 3/100\n",
      "1/3 [=========>....................] - ETA: 0s - loss: 0.1359\n",
      "Epoch 3: val_loss improved from 2.76150 to 2.22895, saving model to weights.h5\n",
      "3/3 [==============================] - 0s 26ms/step - loss: 0.1310 - val_loss: 2.2289 - lr: 0.0300\n",
      "Epoch 4/100\n",
      "1/3 [=========>....................] - ETA: 0s - loss: 0.2710\n",
      "Epoch 4: val_loss improved from 2.22895 to 2.17967, saving model to weights.h5\n",
      "3/3 [==============================] - 0s 25ms/step - loss: 0.2107 - val_loss: 2.1797 - lr: 0.0300\n",
      "Epoch 5/100\n",
      "1/3 [=========>....................] - ETA: 0s - loss: 0.3637\n",
      "Epoch 5: val_loss did not improve from 2.17967\n",
      "3/3 [==============================] - 0s 19ms/step - loss: 0.2607 - val_loss: 2.2095 - lr: 0.0300\n",
      "Epoch 6/100\n",
      "1/3 [=========>....................] - ETA: 0s - loss: 0.3872\n",
      "Epoch 6: val_loss did not improve from 2.17967\n",
      "3/3 [==============================] - 0s 20ms/step - loss: 0.2752 - val_loss: 2.2956 - lr: 0.0300\n",
      "Epoch 7/100\n",
      "1/3 [=========>....................] - ETA: 0s - loss: 0.2702\n",
      "Epoch 7: val_loss did not improve from 2.17967\n",
      "3/3 [==============================] - 0s 20ms/step - loss: 0.2010 - val_loss: 2.4385 - lr: 0.0300\n",
      "Epoch 8/100\n",
      "1/3 [=========>....................] - ETA: 0s - loss: 0.2182\n",
      "Epoch 8: val_loss did not improve from 2.17967\n",
      "3/3 [==============================] - 0s 20ms/step - loss: 0.1610 - val_loss: 2.6404 - lr: 0.0300\n",
      "Epoch 9/100\n",
      "1/3 [=========>....................] - ETA: 0s - loss: 0.1431\n",
      "Epoch 9: val_loss did not improve from 2.17967\n",
      "3/3 [==============================] - 0s 20ms/step - loss: 0.1268 - val_loss: 2.8345 - lr: 0.0300\n",
      "Epoch 10/100\n",
      "1/3 [=========>....................] - ETA: 0s - loss: 0.1280\n",
      "Epoch 10: val_loss did not improve from 2.17967\n",
      "3/3 [==============================] - 0s 20ms/step - loss: 0.1170 - val_loss: 2.9725 - lr: 0.0300\n",
      "Epoch 11/100\n",
      "1/3 [=========>....................] - ETA: 0s - loss: 0.1372\n",
      "Epoch 11: val_loss did not improve from 2.17967\n",
      "3/3 [==============================] - 0s 20ms/step - loss: 0.1193 - val_loss: 3.0354 - lr: 0.0300\n",
      "Epoch 12/100\n",
      "1/3 [=========>....................] - ETA: 0s - loss: 0.1263\n",
      "Epoch 12: val_loss did not improve from 2.17967\n",
      "3/3 [==============================] - 0s 20ms/step - loss: 0.1053 - val_loss: 3.0320 - lr: 0.0300\n",
      "Epoch 13/100\n",
      "1/3 [=========>....................] - ETA: 0s - loss: 0.1177\n",
      "Epoch 13: val_loss did not improve from 2.17967\n",
      "3/3 [==============================] - 0s 20ms/step - loss: 0.0895 - val_loss: 3.0148 - lr: 0.0300\n",
      "Epoch 14/100\n",
      "1/3 [=========>....................] - ETA: 0s - loss: 0.0858\n",
      "Epoch 14: ReduceLROnPlateau reducing learning rate to 0.014999999664723873.\n",
      "\n",
      "Epoch 14: val_loss did not improve from 2.17967\n",
      "3/3 [==============================] - 0s 20ms/step - loss: 0.0721 - val_loss: 2.9700 - lr: 0.0300\n",
      "Epoch 15/100\n",
      "1/3 [=========>....................] - ETA: 0s - loss: 0.0752\n",
      "Epoch 15: val_loss did not improve from 2.17967\n",
      "3/3 [==============================] - 0s 20ms/step - loss: 0.0600 - val_loss: 2.9341 - lr: 0.0150\n",
      "Epoch 16/100\n",
      "1/3 [=========>....................] - ETA: 0s - loss: 0.0837\n",
      "Epoch 16: val_loss did not improve from 2.17967\n",
      "3/3 [==============================] - 0s 18ms/step - loss: 0.0675 - val_loss: 2.8844 - lr: 0.0150\n",
      "Epoch 17/100\n",
      "1/3 [=========>....................] - ETA: 0s - loss: 0.0897\n",
      "Epoch 17: val_loss did not improve from 2.17967\n",
      "3/3 [==============================] - 0s 20ms/step - loss: 0.0609 - val_loss: 2.8357 - lr: 0.0150\n",
      "Epoch 18/100\n",
      "1/3 [=========>....................] - ETA: 0s - loss: 0.1039\n",
      "Epoch 18: val_loss did not improve from 2.17967\n",
      "3/3 [==============================] - 0s 18ms/step - loss: 0.0753 - val_loss: 2.7915 - lr: 0.0150\n",
      "Epoch 19/100\n",
      "1/3 [=========>....................] - ETA: 0s - loss: 0.0792\n",
      "Epoch 19: val_loss did not improve from 2.17967\n",
      "3/3 [==============================] - 0s 19ms/step - loss: 0.0666 - val_loss: 2.7629 - lr: 0.0150\n",
      "Epoch 20/100\n",
      "1/3 [=========>....................] - ETA: 0s - loss: 0.1037\n",
      "Epoch 20: val_loss did not improve from 2.17967\n",
      "3/3 [==============================] - 0s 18ms/step - loss: 0.0752 - val_loss: 2.8059 - lr: 0.0150\n",
      "Epoch 21/100\n",
      "1/3 [=========>....................] - ETA: 0s - loss: 0.0687\n",
      "Epoch 21: val_loss did not improve from 2.17967\n",
      "3/3 [==============================] - 0s 19ms/step - loss: 0.0574 - val_loss: 2.8805 - lr: 0.0150\n",
      "Epoch 22/100\n",
      "1/3 [=========>....................] - ETA: 0s - loss: 0.0488\n",
      "Epoch 22: val_loss did not improve from 2.17967\n",
      "3/3 [==============================] - 0s 20ms/step - loss: 0.0445 - val_loss: 2.9030 - lr: 0.0150\n",
      "Epoch 23/100\n",
      "1/3 [=========>....................] - ETA: 0s - loss: 0.0867\n",
      "Epoch 23: val_loss did not improve from 2.17967\n",
      "3/3 [==============================] - 0s 19ms/step - loss: 0.0586 - val_loss: 2.9717 - lr: 0.0150\n",
      "Epoch 24/100\n",
      "1/3 [=========>....................] - ETA: 0s - loss: 0.0726\n",
      "Epoch 24: ReduceLROnPlateau reducing learning rate to 0.007499999832361937.\n",
      "\n",
      "Epoch 24: val_loss did not improve from 2.17967\n",
      "3/3 [==============================] - 0s 21ms/step - loss: 0.0533 - val_loss: 3.0367 - lr: 0.0150\n",
      "Epoch 24: early stopping\n"
     ]
    }
   ],
   "source": [
    "# build the model\n",
    "model= Sequential()\n",
    "model.add(LSTM(units=16, return_sequences=True, input_shape=(n_past, X_train.shape[-1])))\n",
    "model.add(Dropout(.20))\n",
    "model.add(LSTM(units=10, return_sequences=False))\n",
    "model.add(Dropout(.10))\n",
    "model.add(Dense(units=1, activation='linear'))\n",
    "model.compile(optimizer= Adam(learning_rate=.03), loss= 'mean_squared_error')\n",
    "\n",
    "# %%time\n",
    "es = EarlyStopping(monitor='val_loss', min_delta=1e-10, patience=20, verbose=1)\n",
    "rlr = ReduceLROnPlateau(monitor='val_loss', factor=0.5, patience=10, verbose=1)\n",
    "mcp = ModelCheckpoint(filepath='weights.h5', monitor='val_loss', verbose=1, save_best_only=True, save_weights_only=True)\n",
    "\n",
    "tb = TensorBoard('logs')\n",
    "\n",
    "history = model.fit(X_train, y_train, shuffle=False, epochs=100, callbacks=[es, rlr, mcp, tb], validation_split=0.3, verbose=1, batch_size=32)\n",
    "# history = model.fit(X_train, y_train, epochs=50, callbacks=[es, rlr, mcp, tb], validation_split=0.3, verbose=1, batch_size=32)"
   ]
  },
  {
   "cell_type": "markdown",
   "metadata": {},
   "source": [
    "## ||||||||||||||||||||||||||||||| Part 3: Forcasting |||||||||||||||||||||||||||||||"
   ]
  },
  {
   "cell_type": "markdown",
   "metadata": {},
   "source": [
    "Create indexes for prediction"
   ]
  },
  {
   "cell_type": "markdown",
   "metadata": {},
   "source": [
    "## Step 5: Make PREDICTION!"
   ]
  },
  {
   "cell_type": "code",
   "execution_count": 7,
   "metadata": {},
   "outputs": [
    {
     "name": "stdout",
     "output_type": "stream",
     "text": [
      "3/3 [==============================] - 1s 2ms/step\n",
      "1/1 [==============================] - 0s 20ms/step\n"
     ]
    }
   ],
   "source": [
    "# Perform predictions\n",
    "predictions_train = model.predict(X_train[n_past:])\n",
    "predictions_future = model.predict(X_train[-n_future:])\n",
    "\n",
    "\n",
    "y_pred_future = sc_predict.inverse_transform(predictions_future)\n",
    "y_pred_train = sc_predict.inverse_transform(predictions_train)\n",
    "\n",
    "\n",
    "# Prediction n_future\n",
    "# allocate original data point and predicted data point\n",
    "data_point_og, data_point_predicted= sc_predict.inverse_transform(target_scaled[-n_future:]), y_pred_future\n",
    "# calculate the factor\n",
    "factor= (data_point_og[-1] - data_point_predicted[-1]) / data_point_predicted[-1]\n",
    "\n",
    "data_point_predicted_w_factor= (data_point_predicted * factor) + data_point_predicted\n",
    "# data_point_predicted_w_factor= data_point_predicted\n",
    "\n",
    "# Prediction\n",
    "arr= np.array(data_point_predicted_w_factor)\n",
    "for i in range(n_future):\n",
    "    m= arr.mean()\n",
    "    arr= np.append(arr, m)\n",
    "    arr= np.delete(arr, 0)\n",
    "data_point_predicted_w_factor= arr"
   ]
  },
  {
   "cell_type": "code",
   "execution_count": 8,
   "metadata": {},
   "outputs": [
    {
     "data": {
      "image/png": "[encoded data removed]",
      "text/plain": [
       "<Figure size 1400x500 with 1 Axes>"
      ]
     },
     "metadata": {},
     "output_type": "display_data"
    }
   ],
   "source": [
    "training_start= 2 * n_past + n_future -1\n",
    "PREDICTIONS_FUTURE = pd.DataFrame(data_point_predicted_w_factor, columns=['predicted_forecast']).set_index(pd.Series(datelist_future))\n",
    "PREDICTION_TRAIN = pd.DataFrame(y_pred_train, columns=['predicted_training']).set_index(pd.Series(datelist_train[training_start:]))\n",
    "\n",
    "dataset_train.index= datelist_train\n",
    "# Set plot size \n",
    "from pylab import rcParams\n",
    "rcParams['figure.figsize'] = 14, 5\n",
    "\n",
    "# Plot parameters\n",
    "START_DATE_FOR_PLOTTING = '2013-01-01'\n",
    "\n",
    "plt.plot(PREDICTIONS_FUTURE.index, PREDICTIONS_FUTURE['predicted_forecast'], color='r', label='Predicted Stock Price')\n",
    "# plt.plot(PREDICTIONS_FUTURE_.index, PREDICTIONS_FUTURE_['predicted_forecast'], color='r', label='Predicted Stock Price')\n",
    "plt.plot(PREDICTION_TRAIN.loc[:].index, PREDICTION_TRAIN.loc[:]['predicted_training'], color='r', label='Training predictions')\n",
    "plt.plot(dataset_train.loc[:].index, dataset_train.loc[:]['price'], color='b', label='Actual Stock Price')\n",
    "\n",
    "plt.axvline(x = min(PREDICTIONS_FUTURE.index), color='green', linewidth=2, linestyle='--')\n",
    "\n",
    "plt.grid(which='major', color='#cccccc', alpha=0.5)\n",
    "\n",
    "plt.legend(shadow=True)\n",
    "plt.title('Predcitions and Acutal Stock Prices', family='Arial', fontsize=12)\n",
    "plt.xlabel('Timeline', family='Arial', fontsize=10)\n",
    "plt.ylabel('Stock Price Value', family='Arial', fontsize=10)\n",
    "plt.xticks(rotation=45, fontsize=8)\n",
    "plt.show()\n"
   ]
  }
 ],
 "metadata": {
  "kernelspec": {
   "display_name": "Python 3.10.2 ('.venv': venv)",
   "language": "python",
   "name": "python3"
  },
  "language_info": {
   "codemirror_mode": {
    "name": "ipython",
    "version": 3
   },
   "file_extension": ".py",
   "mimetype": "text/x-python",
   "name": "python",
   "nbconvert_exporter": "python",
   "pygments_lexer": "ipython3",
   "version": "3.10.2"
  },
  "orig_nbformat": 4,
  "vscode": {
   "interpreter": {
    "hash": "a9d94b28d98dda62cc5bcd48d4eb6e25ca63c55c9aab25d2ced53ae3e67233af"
   }
  }
 },
 "nbformat": 4,
 "nbformat_minor": 2
}
