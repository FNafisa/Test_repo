{
 "cells": [
  {
   "cell_type": "markdown",
   "metadata": {},
   "source": [
    "# Multivariate Time-Series Forecasting: Predict Iron Prices"
   ]
  },
  {
   "cell_type": "markdown",
   "metadata": {},
   "source": [
    "### Import libs"
   ]
  },
  {
   "cell_type": "code",
   "execution_count": null,
   "metadata": {},
   "outputs": [],
   "source": [
    "import numpy as np\n",
    "import pandas as pd\n",
    "import datetime as dt\n",
    "\n",
    "import matplotlib.pyplot as plt\n",
    "from pylab import rcParams\n",
    "\n",
    "\n",
    "from sklearn.preprocessing import StandardScaler\n",
    "\n",
    "from keras.callbacks import EarlyStopping, ReduceLROnPlateau, ModelCheckpoint, TensorBoard\n",
    "from keras.models import Sequential\n",
    "from keras.layers import Dense\n",
    "from keras.layers import LSTM\n",
    "from keras.layers import Dropout\n",
    "from keras.optimizers import Adam\n",
    "\n"
   ]
  },
  {
   "cell_type": "markdown",
   "metadata": {},
   "source": [
    "## Part 1: Data preprocessing"
   ]
  },
  {
   "cell_type": "markdown",
   "metadata": {},
   "source": [
    "###  Read and load the data; we want to select the features for the training and prediction and extract the date column then make it the index"
   ]
  },
  {
   "cell_type": "markdown",
   "metadata": {},
   "source": [
    "Index & Date columns..."
   ]
  },
  {
   "cell_type": "markdown",
   "metadata": {},
   "source": [
    "check for null values:"
   ]
  },
  {
   "cell_type": "code",
   "execution_count": 51,
   "metadata": {},
   "outputs": [
    {
     "data": {
      "text/html": [
       "<div>\n",
       "<style scoped>\n",
       "    .dataframe tbody tr th:only-of-type {\n",
       "        vertical-align: middle;\n",
       "    }\n",
       "\n",
       "    .dataframe tbody tr th {\n",
       "        vertical-align: top;\n",
       "    }\n",
       "\n",
       "    .dataframe thead th {\n",
       "        text-align: right;\n",
       "    }\n",
       "</style>\n",
       "<table border=\"1\" class=\"dataframe\">\n",
       "  <thead>\n",
       "    <tr style=\"text-align: right;\">\n",
       "      <th></th>\n",
       "      <th>price</th>\n",
       "      <th>oil_brent</th>\n",
       "      <th>tasi</th>\n",
       "      <th>gold</th>\n",
       "      <th>interest_rate</th>\n",
       "      <th>historical</th>\n",
       "    </tr>\n",
       "    <tr>\n",
       "      <th>date</th>\n",
       "      <th></th>\n",
       "      <th></th>\n",
       "      <th></th>\n",
       "      <th></th>\n",
       "      <th></th>\n",
       "      <th></th>\n",
       "    </tr>\n",
       "  </thead>\n",
       "  <tbody>\n",
       "    <tr>\n",
       "      <th>2013-01-01</th>\n",
       "      <td>2964.917</td>\n",
       "      <td>114.54</td>\n",
       "      <td>7,043.55</td>\n",
       "      <td>1,662.00</td>\n",
       "      <td>0.14</td>\n",
       "      <td>2615.09244</td>\n",
       "    </tr>\n",
       "    <tr>\n",
       "      <th>2013-02-01</th>\n",
       "      <td>2964.750</td>\n",
       "      <td>110.42</td>\n",
       "      <td>6,998.33</td>\n",
       "      <td>1,578.90</td>\n",
       "      <td>0.15</td>\n",
       "      <td>2964.91700</td>\n",
       "    </tr>\n",
       "    <tr>\n",
       "      <th>2013-03-01</th>\n",
       "      <td>2964.942</td>\n",
       "      <td>109.79</td>\n",
       "      <td>7,125.73</td>\n",
       "      <td>1,595.70</td>\n",
       "      <td>0.14</td>\n",
       "      <td>2964.75000</td>\n",
       "    </tr>\n",
       "    <tr>\n",
       "      <th>2013-04-01</th>\n",
       "      <td>2964.917</td>\n",
       "      <td>102.04</td>\n",
       "      <td>7,179.80</td>\n",
       "      <td>1,472.70</td>\n",
       "      <td>0.15</td>\n",
       "      <td>2964.94200</td>\n",
       "    </tr>\n",
       "    <tr>\n",
       "      <th>2013-05-01</th>\n",
       "      <td>2964.917</td>\n",
       "      <td>100.20</td>\n",
       "      <td>7,404.12</td>\n",
       "      <td>1,393.00</td>\n",
       "      <td>0.11</td>\n",
       "      <td>2964.91700</td>\n",
       "    </tr>\n",
       "    <tr>\n",
       "      <th>...</th>\n",
       "      <td>...</td>\n",
       "      <td>...</td>\n",
       "      <td>...</td>\n",
       "      <td>...</td>\n",
       "      <td>...</td>\n",
       "      <td>...</td>\n",
       "    </tr>\n",
       "    <tr>\n",
       "      <th>2022-05-01</th>\n",
       "      <td>4000.960</td>\n",
       "      <td>115.60</td>\n",
       "      <td>12,921.74</td>\n",
       "      <td>1,848.40</td>\n",
       "      <td>0.77</td>\n",
       "      <td>4032.60000</td>\n",
       "    </tr>\n",
       "    <tr>\n",
       "      <th>2022-06-01</th>\n",
       "      <td>3704.880</td>\n",
       "      <td>109.03</td>\n",
       "      <td>11,523.25</td>\n",
       "      <td>1,812.00</td>\n",
       "      <td>1.21</td>\n",
       "      <td>4000.96000</td>\n",
       "    </tr>\n",
       "    <tr>\n",
       "      <th>2022-07-01</th>\n",
       "      <td>3595.940</td>\n",
       "      <td>103.97</td>\n",
       "      <td>12,199.08</td>\n",
       "      <td>1,771.50</td>\n",
       "      <td>1.68</td>\n",
       "      <td>3704.88000</td>\n",
       "    </tr>\n",
       "    <tr>\n",
       "      <th>2022-08-01</th>\n",
       "      <td>3288.840</td>\n",
       "      <td>95.64</td>\n",
       "      <td>12,283.33</td>\n",
       "      <td>1,721.40</td>\n",
       "      <td>2.33</td>\n",
       "      <td>3595.94000</td>\n",
       "    </tr>\n",
       "    <tr>\n",
       "      <th>2022-09-01</th>\n",
       "      <td>3116.300</td>\n",
       "      <td>85.14</td>\n",
       "      <td>11,405.32</td>\n",
       "      <td>1,672.00</td>\n",
       "      <td>2.56</td>\n",
       "      <td>3288.84000</td>\n",
       "    </tr>\n",
       "  </tbody>\n",
       "</table>\n",
       "<p>117 rows × 6 columns</p>\n",
       "</div>"
      ],
      "text/plain": [
       "               price  oil_brent       tasi      gold  interest_rate  \\\n",
       "date                                                                  \n",
       "2013-01-01  2964.917     114.54   7,043.55  1,662.00           0.14   \n",
       "2013-02-01  2964.750     110.42   6,998.33  1,578.90           0.15   \n",
       "2013-03-01  2964.942     109.79   7,125.73  1,595.70           0.14   \n",
       "2013-04-01  2964.917     102.04   7,179.80  1,472.70           0.15   \n",
       "2013-05-01  2964.917     100.20   7,404.12  1,393.00           0.11   \n",
       "...              ...        ...        ...       ...            ...   \n",
       "2022-05-01  4000.960     115.60  12,921.74  1,848.40           0.77   \n",
       "2022-06-01  3704.880     109.03  11,523.25  1,812.00           1.21   \n",
       "2022-07-01  3595.940     103.97  12,199.08  1,771.50           1.68   \n",
       "2022-08-01  3288.840      95.64  12,283.33  1,721.40           2.33   \n",
       "2022-09-01  3116.300      85.14  11,405.32  1,672.00           2.56   \n",
       "\n",
       "            historical  \n",
       "date                    \n",
       "2013-01-01  2615.09244  \n",
       "2013-02-01  2964.91700  \n",
       "2013-03-01  2964.75000  \n",
       "2013-04-01  2964.94200  \n",
       "2013-05-01  2964.91700  \n",
       "...                ...  \n",
       "2022-05-01  4032.60000  \n",
       "2022-06-01  4000.96000  \n",
       "2022-07-01  3704.88000  \n",
       "2022-08-01  3595.94000  \n",
       "2022-09-01  3288.84000  \n",
       "\n",
       "[117 rows x 6 columns]"
      ]
     },
     "execution_count": 51,
     "metadata": {},
     "output_type": "execute_result"
    }
   ],
   "source": [
    "dataset_train= pd.read_excel(r'C:\\Users\\fnafisa\\WORKSPACE\\professional\\Project PoC\\Input\\data\\Construction materials\\segregated\\حديد تسليح 12مم وطني.xlsx')\n",
    "dataset_train.index= dataset_train.pop('date')\n",
    "dataset_train"
   ]
  },
  {
   "cell_type": "code",
   "execution_count": 46,
   "metadata": {},
   "outputs": [
    {
     "name": "stdout",
     "output_type": "stream",
     "text": [
      "Training set shape == (117, 6)\n",
      "All timestamps == 117\n",
      "Featured selected: ['price', 'oil_brent', 'tasi', 'gold', 'interest_rate', 'historical']\n",
      "Sample of date list: [datetime.date(2013, 1, 1), datetime.date(2013, 2, 1)]...[datetime.date(2022, 7, 1), datetime.date(2022, 8, 1)]\n"
     ]
    }
   ],
   "source": [
    "# # select features (columns) to be involved into training and predictions\n",
    "cols= list(dataset_train)[:]\n",
    "\n",
    "\n",
    "# EXTRACT dates:\n",
    "# store the date index in a list \n",
    "datelist_train= dataset_train.index.strftime('%Y-%m-%d')\n",
    "datelist_train= [dt.datetime.strptime(date, '%Y-%m-%d').date() for date in datelist_train]\n",
    "\n",
    "\n",
    "print('Training set shape == {}'.format(dataset_train.shape))\n",
    "print('All timestamps == {}'.format(len(datelist_train)))\n",
    "print('Featured selected: {}'.format(cols))\n",
    "print('Sample of date list: {}...{}'.format(datelist_train[0:2], datelist_train[-3:-1]))"
   ]
  },
  {
   "cell_type": "markdown",
   "metadata": {},
   "source": [
    "###  Shaping and transformation"
   ]
  },
  {
   "cell_type": "code",
   "execution_count": 4,
   "metadata": {},
   "outputs": [
    {
     "name": "stdout",
     "output_type": "stream",
     "text": [
      "Shape of training set == (117, 6).\n"
     ]
    }
   ],
   "source": [
    "# make sure there are no commas in any number\n",
    "dataset_train= dataset_train[cols].astype(str)\n",
    "for i in cols: #['iron_12mm', 'oil_brent', 'tasi', 'gold', 'interest_rate', 'historical']\n",
    "    for j in range(0, len(dataset_train)):\n",
    "        dataset_train[i][j]= dataset_train[i][j].replace(',','')\n",
    "dataset_train= dataset_train[cols].astype(float)\n",
    "\n",
    "# Using multiple predictors (features)\n",
    "# we need convert (reshape) to a matrix(array) using .to_numpy\n",
    "training_set= dataset_train.to_numpy()\n",
    "print('Shape of training set == {}.'.format(training_set.shape))"
   ]
  },
  {
   "cell_type": "code",
   "execution_count": 6,
   "metadata": {},
   "outputs": [
    {
     "name": "stdout",
     "output_type": "stream",
     "text": [
      "\n"
     ]
    }
   ],
   "source": [
    "# Feature scaling hence features vary in range\n",
    "sc= StandardScaler()\n",
    "training_set_scaled= sc.fit_transform(training_set)\n",
    "\n",
    "sc_predict= StandardScaler()\n",
    "A= sc_predict.fit_transform(training_set[:,0:1]) # our target (iron_12mm) / the dependant variable\n",
    "\n",
    "print('')\n"
   ]
  },
  {
   "cell_type": "markdown",
   "metadata": {},
   "source": [
    "## Part 2: Modeling"
   ]
  },
  {
   "cell_type": "markdown",
   "metadata": {},
   "source": [
    "###  Build the model architecture and Set up the WINDOWED DATAFRAME "
   ]
  },
  {
   "cell_type": "code",
   "execution_count": 7,
   "metadata": {},
   "outputs": [
    {
     "data": {
      "text/plain": [
       "range(0, 5)"
      ]
     },
     "execution_count": 7,
     "metadata": {},
     "output_type": "execute_result"
    }
   ],
   "source": [
    "range(dataset_train.shape[1]-1)"
   ]
  },
  {
   "cell_type": "code",
   "execution_count": 8,
   "metadata": {},
   "outputs": [
    {
     "data": {
      "text/plain": [
       "array([[ 1.87505343e+00, -8.56059301e-01,  9.06211793e-01,\n",
       "        -7.07336230e-01,  1.88915200e-15]])"
      ]
     },
     "execution_count": 8,
     "metadata": {},
     "output_type": "execute_result"
    }
   ],
   "source": [
    "training_set_scaled[0:1,1:dataset_train.shape[1]]"
   ]
  },
  {
   "cell_type": "code",
   "execution_count": 9,
   "metadata": {},
   "outputs": [
    {
     "name": "stdout",
     "output_type": "stream",
     "text": [
      "X_train shape == (100, 12, 5).\n",
      "y_train shape == (100, 1).\n"
     ]
    }
   ],
   "source": [
    "# Create a data structure with timestamps\n",
    "X_train= []\n",
    "y_train= []\n",
    "n_future= 6 # number of moths to be predicted\n",
    "n_past= 12 # the size of the windowed dataframe\n",
    "\n",
    "for i in range(n_past, len(training_set_scaled) - n_future +1):\n",
    "    X_train.append(training_set_scaled[i - n_past:i, 1:dataset_train.shape[1]])\n",
    "    y_train.append(training_set_scaled[i + n_future - 1:i + n_future, 0])\n",
    "\n",
    "X_train, y_train = np.array(X_train), np.array(y_train)\n",
    "print('X_train shape == {}.'.format(X_train.shape))\n",
    "print('y_train shape == {}.'.format(y_train.shape))\n",
    "\n",
    "\n",
    "\n",
    "# Model structure\n",
    "model= Sequential()\n",
    "model.add(LSTM(units=32, return_sequences=True, input_shape=(n_past, X_train.shape[-1])))\n",
    "model.add(Dropout(.25))\n",
    "model.add(LSTM(units=10, return_sequences=False))\n",
    "model.add(Dropout(.20))\n",
    "model.add(Dense(units=1, activation='linear'))\n",
    "model.compile(optimizer= Adam(learning_rate=.015), loss= 'mean_squared_error')"
   ]
  },
  {
   "cell_type": "code",
   "execution_count": 10,
   "metadata": {},
   "outputs": [
    {
     "name": "stdout",
     "output_type": "stream",
     "text": [
      "Epoch 1/50\n",
      "1/3 [=========>....................] - ETA: 5s - loss: 0.5240\n",
      "Epoch 1: val_loss improved from inf to 1.01859, saving model to weights.h5\n",
      "3/3 [==============================] - 3s 330ms/step - loss: 0.3395 - val_loss: 1.0186 - lr: 0.0150\n",
      "Epoch 2/50\n",
      "1/3 [=========>....................] - ETA: 0s - loss: 0.1933\n",
      "Epoch 2: val_loss improved from 1.01859 to 0.97984, saving model to weights.h5\n",
      "3/3 [==============================] - 0s 32ms/step - loss: 0.2338 - val_loss: 0.9798 - lr: 0.0150\n",
      "Epoch 3/50\n",
      "1/3 [=========>....................] - ETA: 0s - loss: 0.0605\n",
      "Epoch 3: val_loss did not improve from 0.97984\n",
      "3/3 [==============================] - 0s 24ms/step - loss: 0.0856 - val_loss: 1.3502 - lr: 0.0150\n",
      "Epoch 4/50\n",
      "1/3 [=========>....................] - ETA: 0s - loss: 0.1838\n",
      "Epoch 4: val_loss did not improve from 0.97984\n",
      "3/3 [==============================] - 0s 24ms/step - loss: 0.1332 - val_loss: 1.3504 - lr: 0.0150\n",
      "Epoch 5/50\n",
      "1/3 [=========>....................] - ETA: 0s - loss: 0.1148\n",
      "Epoch 5: val_loss did not improve from 0.97984\n",
      "3/3 [==============================] - 0s 27ms/step - loss: 0.1093 - val_loss: 1.2091 - lr: 0.0150\n",
      "Epoch 6/50\n",
      "1/3 [=========>....................] - ETA: 0s - loss: 0.0732\n",
      "Epoch 6: val_loss did not improve from 0.97984\n",
      "3/3 [==============================] - 0s 24ms/step - loss: 0.0906 - val_loss: 1.1211 - lr: 0.0150\n",
      "Epoch 7/50\n",
      "1/3 [=========>....................] - ETA: 0s - loss: 0.0986\n",
      "Epoch 7: val_loss did not improve from 0.97984\n",
      "3/3 [==============================] - 0s 28ms/step - loss: 0.0921 - val_loss: 1.1503 - lr: 0.0150\n",
      "Epoch 8/50\n",
      "1/3 [=========>....................] - ETA: 0s - loss: 0.0560\n",
      "Epoch 8: val_loss did not improve from 0.97984\n",
      "3/3 [==============================] - 0s 25ms/step - loss: 0.0912 - val_loss: 1.2342 - lr: 0.0150\n",
      "Epoch 9/50\n",
      "1/3 [=========>....................] - ETA: 0s - loss: 0.1318\n",
      "Epoch 9: val_loss did not improve from 0.97984\n",
      "3/3 [==============================] - 0s 25ms/step - loss: 0.0986 - val_loss: 1.2393 - lr: 0.0150\n",
      "Epoch 10/50\n",
      "1/3 [=========>....................] - ETA: 0s - loss: 0.0598\n",
      "Epoch 10: val_loss did not improve from 0.97984\n",
      "3/3 [==============================] - 0s 26ms/step - loss: 0.0684 - val_loss: 1.2157 - lr: 0.0150\n",
      "Epoch 11/50\n",
      "1/3 [=========>....................] - ETA: 0s - loss: 0.0984\n",
      "Epoch 11: val_loss did not improve from 0.97984\n",
      "3/3 [==============================] - 0s 24ms/step - loss: 0.0912 - val_loss: 1.2385 - lr: 0.0150\n",
      "Epoch 12/50\n",
      "1/3 [=========>....................] - ETA: 0s - loss: 0.0964\n",
      "Epoch 12: ReduceLROnPlateau reducing learning rate to 0.007499999832361937.\n",
      "\n",
      "Epoch 12: val_loss did not improve from 0.97984\n",
      "3/3 [==============================] - 0s 24ms/step - loss: 0.0948 - val_loss: 1.3066 - lr: 0.0150\n",
      "Epoch 13/50\n",
      "1/3 [=========>....................] - ETA: 0s - loss: 0.0721\n",
      "Epoch 13: val_loss did not improve from 0.97984\n",
      "3/3 [==============================] - 0s 26ms/step - loss: 0.0665 - val_loss: 1.3926 - lr: 0.0075\n",
      "Epoch 14/50\n",
      "1/3 [=========>....................] - ETA: 0s - loss: 0.0928\n",
      "Epoch 14: val_loss did not improve from 0.97984\n",
      "3/3 [==============================] - 0s 22ms/step - loss: 0.0760 - val_loss: 1.4942 - lr: 0.0075\n",
      "Epoch 15/50\n",
      "1/3 [=========>....................] - ETA: 0s - loss: 0.0689\n",
      "Epoch 15: val_loss did not improve from 0.97984\n",
      "3/3 [==============================] - 0s 27ms/step - loss: 0.0692 - val_loss: 1.5216 - lr: 0.0075\n",
      "Epoch 16/50\n",
      "1/3 [=========>....................] - ETA: 0s - loss: 0.0973\n",
      "Epoch 16: val_loss did not improve from 0.97984\n",
      "3/3 [==============================] - 0s 26ms/step - loss: 0.0745 - val_loss: 1.4886 - lr: 0.0075\n",
      "Epoch 17/50\n",
      "1/3 [=========>....................] - ETA: 0s - loss: 0.0628\n",
      "Epoch 17: val_loss did not improve from 0.97984\n",
      "3/3 [==============================] - 0s 24ms/step - loss: 0.0744 - val_loss: 1.4811 - lr: 0.0075\n",
      "Epoch 18/50\n",
      "1/3 [=========>....................] - ETA: 0s - loss: 0.0688\n",
      "Epoch 18: val_loss did not improve from 0.97984\n",
      "3/3 [==============================] - 0s 25ms/step - loss: 0.0745 - val_loss: 1.4958 - lr: 0.0075\n",
      "Epoch 19/50\n",
      "1/3 [=========>....................] - ETA: 0s - loss: 0.0747\n",
      "Epoch 19: val_loss did not improve from 0.97984\n",
      "3/3 [==============================] - 0s 25ms/step - loss: 0.0731 - val_loss: 1.4990 - lr: 0.0075\n",
      "Epoch 20/50\n",
      "1/3 [=========>....................] - ETA: 0s - loss: 0.0808\n",
      "Epoch 20: val_loss did not improve from 0.97984\n",
      "3/3 [==============================] - 0s 25ms/step - loss: 0.0747 - val_loss: 1.5336 - lr: 0.0075\n",
      "Epoch 21/50\n",
      "1/3 [=========>....................] - ETA: 0s - loss: 0.0727\n",
      "Epoch 21: val_loss did not improve from 0.97984\n",
      "3/3 [==============================] - 0s 27ms/step - loss: 0.0541 - val_loss: 1.5744 - lr: 0.0075\n",
      "Epoch 22/50\n",
      "1/3 [=========>....................] - ETA: 0s - loss: 0.0505\n",
      "Epoch 22: ReduceLROnPlateau reducing learning rate to 0.0037499999161809683.\n",
      "\n",
      "Epoch 22: val_loss did not improve from 0.97984\n",
      "3/3 [==============================] - 0s 26ms/step - loss: 0.0584 - val_loss: 1.5884 - lr: 0.0075\n",
      "Epoch 22: early stopping\n",
      "CPU times: total: 5.38 s\n",
      "Wall time: 4.61 s\n"
     ]
    }
   ],
   "source": [
    "%%time\n",
    "es = EarlyStopping(monitor='val_loss', min_delta=1e-10, patience=20, verbose=1)\n",
    "rlr = ReduceLROnPlateau(monitor='val_loss', factor=0.5, patience=10, verbose=1)\n",
    "mcp = ModelCheckpoint(filepath='weights.h5', monitor='val_loss', verbose=1, save_best_only=True, save_weights_only=True)\n",
    "\n",
    "tb = TensorBoard('logs')\n",
    "\n",
    "history = model.fit(X_train, y_train, shuffle=True, epochs=50, callbacks=[es, rlr, mcp, tb], validation_split=0.3, verbose=1, batch_size=32)"
   ]
  },
  {
   "cell_type": "markdown",
   "metadata": {},
   "source": [
    "###  training and testing\n",
    "## Part 3: Forcasting\n",
    "### Step 5: Predict the future"
   ]
  },
  {
   "cell_type": "code",
   "execution_count": 48,
   "metadata": {},
   "outputs": [
    {
     "name": "stdout",
     "output_type": "stream",
     "text": [
      "1/1 [==============================] - 0s 21ms/step\n",
      "3/3 [==============================] - 0s 3ms/step\n"
     ]
    }
   ],
   "source": [
    "# Generate list of sequence of months for predictions w datetime type\n",
    "datelist_future = pd.date_range(datelist_train[-1], periods=n_future, freq='1m').tolist()\n",
    "datelist_future_= []\n",
    "for d in datelist_future:\n",
    "    d= d + dt.timedelta(days=1)\n",
    "    d= d.date()\n",
    "    datelist_future_.append(d)\n",
    "# (datelist_future_)\n",
    "\n",
    "\n",
    "# Perform predictions\n",
    "predictions_future = model.predict(X_train[-n_future:])\n",
    "\n",
    "predictions_train = model.predict(X_train[n_past:])\n",
    "\n",
    "def datetime_to_timestamp(x):\n",
    "    '''\n",
    "        x : a given datetime value (datetime.date)\n",
    "    '''\n",
    "    return dt.strptime(x.strftime('%Y%m%d'), '%Y%m%d')\n",
    "\n",
    "\n",
    "y_pred_future = sc_predict.inverse_transform(predictions_future)\n",
    "y_pred_train = sc_predict.inverse_transform(predictions_train)\n",
    "\n",
    "PREDICTIONS_FUTURE = pd.DataFrame(y_pred_future, columns=['predicted']).set_index(pd.Series(datelist_future_))\n",
    "# PREDICTION_TRAIN = pd.DataFrame(y_pred_train, columns=['predicted']).set_index(pd.Series(datelist_train[2 * n_past + n_future -1:]))\n",
    "PREDICTION_TRAIN = pd.DataFrame(y_pred_train, columns=['predicted']).set_index(pd.Series(datelist_train[2 * n_past + n_future -1:]))\n",
    "\n",
    "# Convert  to  for PREDCITION_TRAIN\n",
    "PREDICTION_TRAIN.index = PREDICTION_TRAIN.index#.to_series()#.apply(datetime_to_timestamp)\n",
    "\n"
   ]
  },
  {
   "cell_type": "code",
   "execution_count": 12,
   "metadata": {},
   "outputs": [
    {
     "name": "stderr",
     "output_type": "stream",
     "text": [
      "C:\\Users\\Administrator\\AppData\\Local\\Temp\\ipykernel_6480\\3848519514.py:2: FutureWarning: The frame.append method is deprecated and will be removed from pandas in a future version. Use pandas.concat instead.\n",
      "  res= PREDICTION_TRAIN.append(PREDICTIONS_FUTURE)\n"
     ]
    }
   ],
   "source": [
    "PREDICTION_TRAIN\n",
    "res= PREDICTION_TRAIN.append(PREDICTIONS_FUTURE)\n",
    "\n"
   ]
  },
  {
   "cell_type": "code",
   "execution_count": 20,
   "metadata": {},
   "outputs": [
    {
     "name": "stderr",
     "output_type": "stream",
     "text": [
      "C:\\Users\\Administrator\\AppData\\Local\\Temp\\ipykernel_6480\\1475271358.py:1: FutureWarning: The frame.append method is deprecated and will be removed from pandas in a future version. Use pandas.concat instead.\n",
      "  PREDICTION_TRAIN.append(PREDICTIONS_FUTURE)\n"
     ]
    },
    {
     "data": {
      "text/html": [
       "<div>\n",
       "<style scoped>\n",
       "    .dataframe tbody tr th:only-of-type {\n",
       "        vertical-align: middle;\n",
       "    }\n",
       "\n",
       "    .dataframe tbody tr th {\n",
       "        vertical-align: top;\n",
       "    }\n",
       "\n",
       "    .dataframe thead th {\n",
       "        text-align: right;\n",
       "    }\n",
       "</style>\n",
       "<table border=\"1\" class=\"dataframe\">\n",
       "  <thead>\n",
       "    <tr style=\"text-align: right;\">\n",
       "      <th></th>\n",
       "      <th>predicted</th>\n",
       "    </tr>\n",
       "  </thead>\n",
       "  <tbody>\n",
       "    <tr>\n",
       "      <th>2015-06-01</th>\n",
       "      <td>2385.196045</td>\n",
       "    </tr>\n",
       "    <tr>\n",
       "      <th>2015-07-01</th>\n",
       "      <td>2349.726807</td>\n",
       "    </tr>\n",
       "    <tr>\n",
       "      <th>2015-08-01</th>\n",
       "      <td>2308.717529</td>\n",
       "    </tr>\n",
       "    <tr>\n",
       "      <th>2015-09-01</th>\n",
       "      <td>2258.454834</td>\n",
       "    </tr>\n",
       "    <tr>\n",
       "      <th>2015-10-01</th>\n",
       "      <td>2203.059082</td>\n",
       "    </tr>\n",
       "    <tr>\n",
       "      <th>...</th>\n",
       "      <td>...</td>\n",
       "    </tr>\n",
       "    <tr>\n",
       "      <th>2022-11-01</th>\n",
       "      <td>3077.264893</td>\n",
       "    </tr>\n",
       "    <tr>\n",
       "      <th>2022-12-01</th>\n",
       "      <td>3057.854248</td>\n",
       "    </tr>\n",
       "    <tr>\n",
       "      <th>2023-01-01</th>\n",
       "      <td>3032.611572</td>\n",
       "    </tr>\n",
       "    <tr>\n",
       "      <th>2023-02-01</th>\n",
       "      <td>3018.118652</td>\n",
       "    </tr>\n",
       "    <tr>\n",
       "      <th>2023-03-01</th>\n",
       "      <td>2972.052490</td>\n",
       "    </tr>\n",
       "  </tbody>\n",
       "</table>\n",
       "<p>94 rows × 1 columns</p>\n",
       "</div>"
      ],
      "text/plain": [
       "              predicted\n",
       "2015-06-01  2385.196045\n",
       "2015-07-01  2349.726807\n",
       "2015-08-01  2308.717529\n",
       "2015-09-01  2258.454834\n",
       "2015-10-01  2203.059082\n",
       "...                 ...\n",
       "2022-11-01  3077.264893\n",
       "2022-12-01  3057.854248\n",
       "2023-01-01  3032.611572\n",
       "2023-02-01  3018.118652\n",
       "2023-03-01  2972.052490\n",
       "\n",
       "[94 rows x 1 columns]"
      ]
     },
     "execution_count": 20,
     "metadata": {},
     "output_type": "execute_result"
    }
   ],
   "source": []
  },
  {
   "cell_type": "code",
   "execution_count": 21,
   "metadata": {},
   "outputs": [
    {
     "name": "stderr",
     "output_type": "stream",
     "text": [
      "C:\\Users\\Administrator\\AppData\\Local\\Temp\\ipykernel_6480\\815556399.py:3: FutureWarning: The frame.append method is deprecated and will be removed from pandas in a future version. Use pandas.concat instead.\n",
      "  res['prediction']=  PREDICTION_TRAIN.append(PREDICTIONS_FUTURE)\n"
     ]
    }
   ],
   "source": [
    "res= pd.DataFrame()\n",
    "res['og_price']= dataset_train['price']\n",
    "res['prediction']=  PREDICTION_TRAIN.append(PREDICTIONS_FUTURE)"
   ]
  },
  {
   "cell_type": "code",
   "execution_count": 23,
   "metadata": {},
   "outputs": [
    {
     "name": "stderr",
     "output_type": "stream",
     "text": [
      "C:\\Users\\Administrator\\AppData\\Local\\Temp\\ipykernel_6480\\2095088219.py:1: FutureWarning: The frame.append method is deprecated and will be removed from pandas in a future version. Use pandas.concat instead.\n",
      "  res['prediction']=  PREDICTION_TRAIN.append(PREDICTIONS_FUTURE)\n"
     ]
    }
   ],
   "source": [
    "res['prediction']=  PREDICTION_TRAIN.append(PREDICTIONS_FUTURE)"
   ]
  },
  {
   "cell_type": "code",
   "execution_count": 25,
   "metadata": {},
   "outputs": [
    {
     "data": {
      "text/plain": [
       "date\n",
       "2013-01   NaN\n",
       "2013-02   NaN\n",
       "2013-03   NaN\n",
       "2013-04   NaN\n",
       "2013-05   NaN\n",
       "           ..\n",
       "2022-05   NaN\n",
       "2022-06   NaN\n",
       "2022-07   NaN\n",
       "2022-08   NaN\n",
       "2022-09   NaN\n",
       "Freq: M, Name: prediction, Length: 117, dtype: float32"
      ]
     },
     "execution_count": 25,
     "metadata": {},
     "output_type": "execute_result"
    }
   ],
   "source": []
  },
  {
   "cell_type": "code",
   "execution_count": 19,
   "metadata": {},
   "outputs": [],
   "source": [
    "res['iron_prices']= df_iron_12mm\n",
    "\n",
    "res['date']= res.index\n",
    "res.columns[-1]\n",
    "df= res\n",
    "\n",
    "ax = plt.gca()\n",
    "df.plot(kind='line',x=res.columns[-1],y='iron_prices',ax=ax)\n",
    "df.plot(kind='line',x=res.columns[-1],y='predicted', color='red', ax=ax)\n",
    "\n",
    "plt.show()"
   ]
  },
  {
   "cell_type": "code",
   "execution_count": 328,
   "metadata": {},
   "outputs": [],
   "source": [
    "res.to_csv(r'C:\\Users\\fnafisa\\WORKSPACE\\professional\\Project PoC\\output\\predictions.csv', encoding='utf-8', index=False)\n"
   ]
  }
 ],
 "metadata": {
  "kernelspec": {
   "display_name": "Python 3.10.2 ('.venv': venv)",
   "language": "python",
   "name": "python3"
  },
  "language_info": {
   "codemirror_mode": {
    "name": "ipython",
    "version": 3
   },
   "file_extension": ".py",
   "mimetype": "text/x-python",
   "name": "python",
   "nbconvert_exporter": "python",
   "pygments_lexer": "ipython3",
   "version": "3.10.2"
  },
  "orig_nbformat": 4,
  "vscode": {
   "interpreter": {
    "hash": "a9d94b28d98dda62cc5bcd48d4eb6e25ca63c55c9aab25d2ced53ae3e67233af"
   }
  }
 },
 "nbformat": 4,
 "nbformat_minor": 2
}
