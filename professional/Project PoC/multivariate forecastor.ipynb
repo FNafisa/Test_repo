{
 "cells": [
  {
   "cell_type": "markdown",
   "metadata": {},
   "source": [
    "# Multivariate Time-Series Forecasting: Predict Iron Prices"
   ]
  },
  {
   "cell_type": "markdown",
   "metadata": {},
   "source": [
    "### Import libs"
   ]
  },
  {
   "cell_type": "code",
   "execution_count": 1,
   "metadata": {},
   "outputs": [],
   "source": [
    "import numpy as np\n",
    "import pandas as pd\n",
    "import datetime as dt\n",
    "\n",
    "import matplotlib.pyplot as plt\n",
    "from pylab import rcParams\n",
    "\n",
    "\n",
    "from sklearn.preprocessing import StandardScaler\n",
    "\n",
    "from keras.callbacks import EarlyStopping, ReduceLROnPlateau, ModelCheckpoint, TensorBoard\n",
    "from keras.models import Sequential\n",
    "from keras.layers import Dense\n",
    "from keras.layers import LSTM\n",
    "from keras.layers import Dropout\n",
    "from keras.optimizers import Adam\n",
    "\n"
   ]
  },
  {
   "cell_type": "markdown",
   "metadata": {},
   "source": [
    "## ||||||||||||||||||||||||||||||| Part 1: Data preprocessing |||||||||||||||||||||||||||||||"
   ]
  },
  {
   "cell_type": "markdown",
   "metadata": {},
   "source": [
    "###  Read and load the data; we want to select the features for the training and prediction and extract the date column then make it the index"
   ]
  },
  {
   "cell_type": "markdown",
   "metadata": {},
   "source": [
    "Index & Date columns..."
   ]
  },
  {
   "cell_type": "markdown",
   "metadata": {},
   "source": [
    "check for null values:"
   ]
  },
  {
   "cell_type": "code",
   "execution_count": 85,
   "metadata": {},
   "outputs": [
    {
     "name": "stdout",
     "output_type": "stream",
     "text": [
      "          date     price  oil_brent       tasi      gold  interest_rate  \\\n",
      "0   2013-01-01  3887.931     114.54   7,043.55  1,662.00           0.14   \n",
      "1   2013-02-01  3888.793     110.42   6,998.33  1,578.90           0.15   \n",
      "2   2013-03-01  3883.621     109.79   7,125.73  1,595.70           0.14   \n",
      "3   2013-04-01  3856.780     102.04   7,179.80  1,472.70           0.15   \n",
      "4   2013-05-01  3894.828     100.20   7,404.12  1,393.00           0.11   \n",
      "..         ...       ...        ...        ...       ...            ...   \n",
      "113 2022-05-01  5677.260     115.60  12,921.74  1,848.40           0.77   \n",
      "114 2022-06-01  5712.010     109.03  11,523.25  1,812.00           1.21   \n",
      "115 2022-07-01  5764.730     103.97  12,199.08  1,771.50           1.68   \n",
      "116 2022-08-01  5785.020      95.64  12,283.33  1,721.40           2.33   \n",
      "117 2022-09-01  5723.280      85.14  11,405.32  1,672.00           2.56   \n",
      "\n",
      "      historical  \n",
      "0    4564.637393  \n",
      "1    3887.931000  \n",
      "2    3888.793000  \n",
      "3    3883.621000  \n",
      "4    3856.780000  \n",
      "..           ...  \n",
      "113  5558.340000  \n",
      "114  5677.260000  \n",
      "115  5712.010000  \n",
      "116  5764.730000  \n",
      "117  5785.020000  \n",
      "\n",
      "[118 rows x 7 columns]\n",
      "Training set shape == (118, 7)\n",
      "All timestamps == 118\n",
      "Featured selected: ['price', 'oil_brent', 'tasi', 'gold', 'interest_rate']\n",
      "Sample of date list: [Timestamp('2013-01-01 00:00:00'), Timestamp('2013-02-01 00:00:00')]...[Timestamp('2022-07-01 00:00:00'), Timestamp('2022-08-01 00:00:00')]\n"
     ]
    }
   ],
   "source": [
    "# import training dataset\n",
    "dataset_train= pd.read_excel(r'C:\\Users\\fnafisa\\WORKSPACE\\professional\\Project PoC\\Input\\data\\Construction materials\\segregated\\خشب تيك أفريقي.xlsx')\n",
    "dataset_train.columns = ['date','price', 'oil_brent', 'tasi', 'gold', 'interest_rate', 'historical']\n",
    "dataset_train= dataset_train.sort_values(by=['date'], ascending=True)\n",
    "\n",
    "# features selection\n",
    "cols= list(dataset_train)[1:-1]\n",
    "\n",
    "\n",
    "# Extract dates (timestamp format)\n",
    "datelist_train = list(dataset_train['date'])\n",
    "# datelist_train = [dt.datetime.strptime(date, '%Y-%m-%d').date() for date in datelist_train]\n",
    "\n",
    "\n",
    "# dataset_train.index= dataset_train.pop('date')\n",
    "print(dataset_train)\n",
    "print('Training set shape == {}'.format(dataset_train.shape))\n",
    "print('All timestamps == {}'.format(len(datelist_train)))\n",
    "print('Featured selected: {}'.format(cols))\n",
    "print('Sample of date list: {}...{}'.format(datelist_train[0:2], datelist_train[-3:-1]))"
   ]
  },
  {
   "cell_type": "markdown",
   "metadata": {},
   "source": [
    "###  Shaping and transformation"
   ]
  },
  {
   "cell_type": "code",
   "execution_count": 86,
   "metadata": {},
   "outputs": [
    {
     "name": "stdout",
     "output_type": "stream",
     "text": [
      "Shape of training set        == (118, 5).\n",
      "Shape of training set scaled == (118, 5).\n"
     ]
    }
   ],
   "source": [
    "\n",
    "# dataset traing will be the essanse of all the upcoming datasets(training_set, training_set_scaled, X_train, y_train...)\n",
    "# make sure there are no commas in any number                                                      \"Target\"      |--------------------\"Predictors\"-------------------|\n",
    "dataset_train = dataset_train[cols].astype(str) # to remove the date and select only the features : ['price', 'oil_brent', 'tasi', 'gold', 'interest_rate', 'historical']\n",
    "for i in cols:\n",
    "    for j in range(0, len(dataset_train)):\n",
    "        dataset_train[i][j] = dataset_train[i][j].replace(',', '')\n",
    "\n",
    "dataset_train = dataset_train.astype(float)\n",
    "\n",
    "# by using multiple predictors (features) we need to convert (reshape) to a matrix(array) using .to_numpy\n",
    "training_set= dataset_train.to_numpy()\n",
    "\n",
    "\n",
    "\n",
    "# Feature scaling hence features vary in range\n",
    "sc = StandardScaler()\n",
    "training_set_scaled = sc.fit_transform(training_set)\n",
    "\n",
    "sc_predict = StandardScaler()\n",
    "target_scaled= sc_predict.fit_transform(training_set[:, 0:1])\n",
    "\n",
    "\n",
    "\n",
    "print('Shape of training set        == {}.'.format(training_set.shape))\n",
    "print('Shape of training set scaled == {}.'.format(training_set_scaled.shape))\n"
   ]
  },
  {
   "cell_type": "markdown",
   "metadata": {},
   "source": [
    "## ||||||||||||||||||||||||||||||| Part 2: Modeling |||||||||||||||||||||||||||||||"
   ]
  },
  {
   "cell_type": "markdown",
   "metadata": {},
   "source": [
    "###  Build the model architecture and Set up the WINDOWED DATAFRAME "
   ]
  },
  {
   "cell_type": "code",
   "execution_count": 87,
   "metadata": {},
   "outputs": [
    {
     "name": "stdout",
     "output_type": "stream",
     "text": [
      "X_train shape == (101, 12, 5).\n",
      "y_train shape == (101, 1).\n"
     ]
    }
   ],
   "source": [
    "# Create a data structure with timestamps\n",
    "# Target/features selection\n",
    "X_train= []\n",
    "y_train= []\n",
    "n_future= 6 # number of moths to be predicted\n",
    "n_past= 12 # the size of the windowed dataframe\n",
    "\n",
    "for i in range(n_past, len(training_set_scaled) - n_future +1):\n",
    "    X_train.append(training_set_scaled[i - n_past:i, 0:dataset_train.shape[1]])\n",
    "    y_train.append(training_set_scaled[i + n_future - 1:i + n_future, 0])\n",
    "\n",
    "\n",
    "X_train, y_train = np.array(X_train), np.array(y_train)\n",
    "\n",
    "print('X_train shape == {}.'.format(X_train.shape))\n",
    "print('y_train shape == {}.'.format(y_train.shape))\n",
    "\n",
    "\n",
    "\n"
   ]
  },
  {
   "cell_type": "code",
   "execution_count": 88,
   "metadata": {},
   "outputs": [],
   "source": [
    "# build the model\n",
    "model= Sequential()\n",
    "model.add(LSTM(units=32, return_sequences=True, input_shape=(n_past, X_train.shape[-1])))\n",
    "model.add(Dropout(.25))\n",
    "model.add(LSTM(units=10, return_sequences=False))\n",
    "model.add(Dropout(.10))\n",
    "model.add(Dense(units=1, activation='linear'))\n",
    "model.compile(optimizer= Adam(learning_rate=.02), loss= 'mean_squared_error')"
   ]
  },
  {
   "cell_type": "markdown",
   "metadata": {},
   "source": [
    "### Buile the model and  train it..."
   ]
  },
  {
   "cell_type": "code",
   "execution_count": 89,
   "metadata": {},
   "outputs": [
    {
     "name": "stdout",
     "output_type": "stream",
     "text": [
      "Epoch 1/50\n",
      "1/5 [=====>........................] - ETA: 11s - loss: 0.1373\n",
      "Epoch 1: val_loss improved from inf to 1.34383, saving model to weights.h5\n",
      "5/5 [==============================] - 4s 195ms/step - loss: 0.1179 - val_loss: 1.3438 - lr: 0.0080\n",
      "Epoch 2/50\n",
      "1/5 [=====>........................] - ETA: 0s - loss: 0.3287\n",
      "Epoch 2: val_loss improved from 1.34383 to 1.33232, saving model to weights.h5\n",
      "5/5 [==============================] - 0s 26ms/step - loss: 0.1370 - val_loss: 1.3323 - lr: 0.0080\n",
      "Epoch 3/50\n",
      "1/5 [=====>........................] - ETA: 0s - loss: 0.0110\n",
      "Epoch 3: val_loss improved from 1.33232 to 1.27624, saving model to weights.h5\n",
      "5/5 [==============================] - 0s 28ms/step - loss: 0.0567 - val_loss: 1.2762 - lr: 0.0080\n",
      "Epoch 4/50\n",
      "1/5 [=====>........................] - ETA: 0s - loss: 0.0146\n",
      "Epoch 4: val_loss improved from 1.27624 to 1.06593, saving model to weights.h5\n",
      "5/5 [==============================] - 0s 30ms/step - loss: 0.0465 - val_loss: 1.0659 - lr: 0.0080\n",
      "Epoch 5/50\n",
      "1/5 [=====>........................] - ETA: 0s - loss: 0.0121\n",
      "Epoch 5: val_loss improved from 1.06593 to 0.93409, saving model to weights.h5\n",
      "5/5 [==============================] - 0s 29ms/step - loss: 0.0437 - val_loss: 0.9341 - lr: 0.0080\n",
      "Epoch 6/50\n",
      "1/5 [=====>........................] - ETA: 0s - loss: 0.0110\n",
      "Epoch 6: val_loss improved from 0.93409 to 0.92830, saving model to weights.h5\n",
      "5/5 [==============================] - 0s 29ms/step - loss: 0.0374 - val_loss: 0.9283 - lr: 0.0080\n",
      "Epoch 7/50\n",
      "1/5 [=====>........................] - ETA: 0s - loss: 0.0044\n",
      "Epoch 7: val_loss did not improve from 0.92830\n",
      "5/5 [==============================] - 0s 22ms/step - loss: 0.0346 - val_loss: 0.9837 - lr: 0.0080\n",
      "Epoch 8/50\n",
      "1/5 [=====>........................] - ETA: 0s - loss: 0.0114\n",
      "Epoch 8: val_loss did not improve from 0.92830\n",
      "5/5 [==============================] - 0s 22ms/step - loss: 0.0278 - val_loss: 0.9722 - lr: 0.0080\n",
      "Epoch 9/50\n",
      "1/5 [=====>........................] - ETA: 0s - loss: 0.0038\n",
      "Epoch 9: val_loss improved from 0.92830 to 0.92170, saving model to weights.h5\n",
      "5/5 [==============================] - 0s 24ms/step - loss: 0.0279 - val_loss: 0.9217 - lr: 0.0080\n",
      "Epoch 10/50\n",
      "1/5 [=====>........................] - ETA: 0s - loss: 0.0035\n",
      "Epoch 10: val_loss improved from 0.92170 to 0.92055, saving model to weights.h5\n",
      "5/5 [==============================] - 0s 25ms/step - loss: 0.0242 - val_loss: 0.9205 - lr: 0.0080\n",
      "Epoch 11/50\n",
      "1/5 [=====>........................] - ETA: 0s - loss: 0.0070\n",
      "Epoch 11: val_loss did not improve from 0.92055\n",
      "5/5 [==============================] - 0s 20ms/step - loss: 0.0206 - val_loss: 0.9644 - lr: 0.0080\n",
      "Epoch 12/50\n",
      "1/5 [=====>........................] - ETA: 0s - loss: 0.0036\n",
      "Epoch 12: val_loss did not improve from 0.92055\n",
      "5/5 [==============================] - 0s 22ms/step - loss: 0.0143 - val_loss: 1.0177 - lr: 0.0080\n",
      "Epoch 13/50\n",
      "1/5 [=====>........................] - ETA: 0s - loss: 0.0062\n",
      "Epoch 13: val_loss did not improve from 0.92055\n",
      "5/5 [==============================] - 0s 22ms/step - loss: 0.0142 - val_loss: 1.1005 - lr: 0.0080\n",
      "Epoch 14/50\n",
      "1/5 [=====>........................] - ETA: 0s - loss: 0.0082\n",
      "Epoch 14: val_loss did not improve from 0.92055\n",
      "5/5 [==============================] - 0s 19ms/step - loss: 0.0388 - val_loss: 0.9681 - lr: 0.0080\n",
      "Epoch 15/50\n",
      "5/5 [==============================] - ETA: 0s - loss: 0.0266\n",
      "Epoch 15: val_loss improved from 0.92055 to 0.90559, saving model to weights.h5\n",
      "5/5 [==============================] - 0s 27ms/step - loss: 0.0266 - val_loss: 0.9056 - lr: 0.0080\n",
      "Epoch 16/50\n",
      "1/5 [=====>........................] - ETA: 0s - loss: 0.0069\n",
      "Epoch 16: val_loss did not improve from 0.90559\n",
      "5/5 [==============================] - 0s 19ms/step - loss: 0.0147 - val_loss: 0.9896 - lr: 0.0080\n",
      "Epoch 17/50\n",
      "1/5 [=====>........................] - ETA: 0s - loss: 0.0040\n",
      "Epoch 17: val_loss did not improve from 0.90559\n",
      "5/5 [==============================] - 0s 20ms/step - loss: 0.0213 - val_loss: 1.0755 - lr: 0.0080\n",
      "Epoch 18/50\n",
      "1/5 [=====>........................] - ETA: 0s - loss: 0.0039\n",
      "Epoch 18: val_loss did not improve from 0.90559\n",
      "5/5 [==============================] - 0s 20ms/step - loss: 0.0152 - val_loss: 1.0885 - lr: 0.0080\n",
      "Epoch 19/50\n",
      "1/5 [=====>........................] - ETA: 0s - loss: 0.0074\n",
      "Epoch 19: val_loss did not improve from 0.90559\n",
      "5/5 [==============================] - 0s 19ms/step - loss: 0.0132 - val_loss: 1.1010 - lr: 0.0080\n",
      "Epoch 20/50\n",
      "1/5 [=====>........................] - ETA: 0s - loss: 0.0028\n",
      "Epoch 20: val_loss did not improve from 0.90559\n",
      "5/5 [==============================] - 0s 20ms/step - loss: 0.0137 - val_loss: 1.0893 - lr: 0.0080\n",
      "Epoch 21/50\n",
      "1/5 [=====>........................] - ETA: 0s - loss: 0.0038\n",
      "Epoch 21: val_loss did not improve from 0.90559\n",
      "5/5 [==============================] - 0s 20ms/step - loss: 0.0095 - val_loss: 1.1453 - lr: 0.0080\n",
      "Epoch 22/50\n",
      "1/5 [=====>........................] - ETA: 0s - loss: 0.0025\n",
      "Epoch 22: val_loss did not improve from 0.90559\n",
      "5/5 [==============================] - 0s 22ms/step - loss: 0.0147 - val_loss: 1.2116 - lr: 0.0080\n",
      "Epoch 23/50\n",
      "1/5 [=====>........................] - ETA: 0s - loss: 0.0041\n",
      "Epoch 23: val_loss did not improve from 0.90559\n",
      "5/5 [==============================] - 0s 21ms/step - loss: 0.0104 - val_loss: 1.2362 - lr: 0.0080\n",
      "Epoch 24/50\n",
      "1/5 [=====>........................] - ETA: 0s - loss: 0.0035\n",
      "Epoch 24: val_loss did not improve from 0.90559\n",
      "5/5 [==============================] - 0s 19ms/step - loss: 0.0170 - val_loss: 1.2033 - lr: 0.0080\n",
      "Epoch 25/50\n",
      "1/5 [=====>........................] - ETA: 0s - loss: 0.0044\n",
      "Epoch 25: ReduceLROnPlateau reducing learning rate to 0.004000000189989805.\n",
      "\n",
      "Epoch 25: val_loss did not improve from 0.90559\n",
      "5/5 [==============================] - 0s 21ms/step - loss: 0.0127 - val_loss: 1.3625 - lr: 0.0080\n",
      "Epoch 26/50\n",
      "1/5 [=====>........................] - ETA: 0s - loss: 0.0042\n",
      "Epoch 26: val_loss did not improve from 0.90559\n",
      "5/5 [==============================] - 0s 21ms/step - loss: 0.0141 - val_loss: 1.4803 - lr: 0.0040\n",
      "Epoch 27/50\n",
      "1/5 [=====>........................] - ETA: 0s - loss: 0.0027\n",
      "Epoch 27: val_loss did not improve from 0.90559\n",
      "5/5 [==============================] - 0s 20ms/step - loss: 0.0096 - val_loss: 1.5875 - lr: 0.0040\n",
      "Epoch 28/50\n",
      "1/5 [=====>........................] - ETA: 0s - loss: 0.0030\n",
      "Epoch 28: val_loss did not improve from 0.90559\n",
      "5/5 [==============================] - 0s 20ms/step - loss: 0.0059 - val_loss: 1.6575 - lr: 0.0040\n",
      "Epoch 29/50\n",
      "1/5 [=====>........................] - ETA: 0s - loss: 0.0049\n",
      "Epoch 29: val_loss did not improve from 0.90559\n",
      "5/5 [==============================] - 0s 27ms/step - loss: 0.0109 - val_loss: 1.6541 - lr: 0.0040\n",
      "Epoch 30/50\n",
      "5/5 [==============================] - ETA: 0s - loss: 0.0108\n",
      "Epoch 30: val_loss did not improve from 0.90559\n",
      "5/5 [==============================] - 0s 31ms/step - loss: 0.0108 - val_loss: 1.6632 - lr: 0.0040\n",
      "Epoch 31/50\n",
      "5/5 [==============================] - ETA: 0s - loss: 0.0063\n",
      "Epoch 31: val_loss did not improve from 0.90559\n",
      "5/5 [==============================] - 0s 30ms/step - loss: 0.0063 - val_loss: 1.6552 - lr: 0.0040\n",
      "Epoch 32/50\n",
      "4/5 [=======================>......] - ETA: 0s - loss: 0.0133\n",
      "Epoch 32: val_loss did not improve from 0.90559\n",
      "5/5 [==============================] - 0s 33ms/step - loss: 0.0123 - val_loss: 1.6025 - lr: 0.0040\n",
      "Epoch 33/50\n",
      "5/5 [==============================] - ETA: 0s - loss: 0.0094\n",
      "Epoch 33: val_loss did not improve from 0.90559\n",
      "5/5 [==============================] - 0s 27ms/step - loss: 0.0094 - val_loss: 1.6009 - lr: 0.0040\n",
      "Epoch 34/50\n",
      "5/5 [==============================] - ETA: 0s - loss: 0.0097\n",
      "Epoch 34: val_loss did not improve from 0.90559\n",
      "5/5 [==============================] - 0s 28ms/step - loss: 0.0097 - val_loss: 1.6665 - lr: 0.0040\n",
      "Epoch 35/50\n",
      "5/5 [==============================] - ETA: 0s - loss: 0.0113\n",
      "Epoch 35: ReduceLROnPlateau reducing learning rate to 0.0020000000949949026.\n",
      "\n",
      "Epoch 35: val_loss did not improve from 0.90559\n",
      "5/5 [==============================] - 0s 30ms/step - loss: 0.0113 - val_loss: 1.7884 - lr: 0.0040\n",
      "Epoch 35: early stopping\n"
     ]
    }
   ],
   "source": [
    "# build the model\n",
    "model= Sequential()\n",
    "model.add(LSTM(units=64, return_sequences=True, input_shape=(n_past, X_train.shape[-1])))\n",
    "model.add(Dropout(.60))\n",
    "model.add(LSTM(units=10, return_sequences=False))\n",
    "model.add(Dropout(.25))\n",
    "model.add(Dense(units=1, activation='linear'))\n",
    "model.compile(optimizer= Adam(learning_rate=.008), loss= 'mean_squared_error')\n",
    "\n",
    "# %%time\n",
    "es = EarlyStopping(monitor='val_loss', min_delta=1e-10, patience=20, verbose=1)\n",
    "rlr = ReduceLROnPlateau(monitor='val_loss', factor=0.5, patience=10, verbose=1)\n",
    "mcp = ModelCheckpoint(filepath='weights.h5', monitor='val_loss', verbose=1, save_best_only=True, save_weights_only=True)\n",
    "\n",
    "tb = TensorBoard('logs')\n",
    "\n",
    "history = model.fit(X_train, y_train, shuffle=False, epochs=50, callbacks=[es, rlr, mcp, tb], validation_split=0.3, verbose=1, batch_size=16)\n",
    "# history = model.fit(X_train, y_train, epochs=50, callbacks=[es, rlr, mcp, tb], validation_split=0.3, verbose=1, batch_size=32)"
   ]
  },
  {
   "cell_type": "markdown",
   "metadata": {},
   "source": [
    "## ||||||||||||||||||||||||||||||| Part 3: Forcasting |||||||||||||||||||||||||||||||"
   ]
  },
  {
   "cell_type": "markdown",
   "metadata": {},
   "source": [
    "Create indexes for prediction"
   ]
  },
  {
   "cell_type": "code",
   "execution_count": 90,
   "metadata": {},
   "outputs": [],
   "source": [
    "# Generate list of sequence of months for predictions w datetime type\n",
    "datelist_future = pd.date_range(datelist_train[-1], periods=n_future, freq='1m').tolist()\n",
    "datelist_future_= []\n",
    "for d in datelist_future:\n",
    "    d= d + dt.timedelta(days=1)\n",
    "    d= d.date()\n",
    "    datelist_future_.append(d)\n",
    "datelist_future= datelist_future_\n",
    "del datelist_future_\n",
    "\n",
    "datelist_train_= []\n",
    "for this_timestamp in datelist_train:\n",
    "    datelist_train_.append(this_timestamp.date())\n",
    "datelist_train= datelist_train_\n",
    "del datelist_train_"
   ]
  },
  {
   "cell_type": "markdown",
   "metadata": {},
   "source": [
    "## Step 5: Make PREDICTION!"
   ]
  },
  {
   "cell_type": "code",
   "execution_count": 91,
   "metadata": {},
   "outputs": [
    {
     "name": "stdout",
     "output_type": "stream",
     "text": [
      "3/3 [==============================] - 1s 4ms/step\n",
      "1/1 [==============================] - 0s 18ms/step\n"
     ]
    }
   ],
   "source": [
    "# Perform predictions\n",
    "predictions_train = model.predict(X_train[n_past:])\n",
    "predictions_future = model.predict(X_train[-n_future:])\n",
    "\n",
    "\n",
    "y_pred_future = sc_predict.inverse_transform(predictions_future)\n",
    "y_pred_train = sc_predict.inverse_transform(predictions_train)\n"
   ]
  },
  {
   "cell_type": "code",
   "execution_count": 92,
   "metadata": {},
   "outputs": [
    {
     "data": {
      "image/png": "[encoded data removed]",
      "text/plain": [
       "<Figure size 1400x500 with 1 Axes>"
      ]
     },
     "metadata": {},
     "output_type": "display_data"
    }
   ],
   "source": [
    "PREDICTIONS_FUTURE = pd.DataFrame(y_pred_future, columns=['predicted_forecast']).set_index(pd.Series(datelist_future))\n",
    "PREDICTION_TRAIN = pd.DataFrame(y_pred_train, columns=['predicted_training']).set_index(pd.Series(datelist_train[2 * n_past + n_future -1:]))\n",
    "dataset_train.index= datelist_train\n",
    "# Set plot size \n",
    "from pylab import rcParams\n",
    "rcParams['figure.figsize'] = 14, 5\n",
    "\n",
    "# Plot parameters\n",
    "START_DATE_FOR_PLOTTING = '2013-01-01'\n",
    "\n",
    "plt.plot(PREDICTIONS_FUTURE.index, PREDICTIONS_FUTURE['predicted_forecast'], color='r', label='Predicted Stock Price')\n",
    "# plt.plot(PREDICTIONS_FUTURE_.index, PREDICTIONS_FUTURE_['predicted_forecast'], color='r', label='Predicted Stock Price')\n",
    "plt.plot(PREDICTION_TRAIN.loc[:].index, PREDICTION_TRAIN.loc[:]['predicted_training'], color='r', label='Training predictions')\n",
    "plt.plot(dataset_train.loc[:].index, dataset_train.loc[:]['price'], color='b', label='Actual Stock Price')\n",
    "\n",
    "plt.axvline(x = min(PREDICTIONS_FUTURE.index), color='green', linewidth=2, linestyle='--')\n",
    "\n",
    "plt.grid(which='major', color='#cccccc', alpha=0.5)\n",
    "\n",
    "plt.legend(shadow=True)\n",
    "plt.title('Predcitions and Acutal Stock Prices', family='Arial', fontsize=12)\n",
    "plt.xlabel('Timeline', family='Arial', fontsize=10)\n",
    "plt.ylabel('Stock Price Value', family='Arial', fontsize=10)\n",
    "plt.xticks(rotation=45, fontsize=8)\n",
    "plt.show()\n"
   ]
  },
  {
   "cell_type": "code",
   "execution_count": 10,
   "metadata": {},
   "outputs": [],
   "source": [
    "x= len(PREDICTION_TRAIN)\n",
    "last_insight= np.array(dataset_train['price'][-x:])\n",
    "last_prediction= np.array(PREDICTION_TRAIN['predicted_training'][:])\n",
    "factor= (last_insight - last_prediction) / last_prediction\n",
    "# factor= factor.mean()"
   ]
  },
  {
   "cell_type": "code",
   "execution_count": 11,
   "metadata": {},
   "outputs": [
    {
     "ename": "TypeError",
     "evalue": "only size-1 arrays can be converted to Python scalars",
     "output_type": "error",
     "traceback": [
      "\u001b[1;31m---------------------------------------------------------------------------\u001b[0m",
      "\u001b[1;31mTypeError\u001b[0m                                 Traceback (most recent call last)",
      "Cell \u001b[1;32mIn [11], line 2\u001b[0m\n\u001b[0;32m      1\u001b[0m b\u001b[39m=\u001b[39m np\u001b[39m.\u001b[39mempty(n_future)\n\u001b[1;32m----> 2\u001b[0m b\u001b[39m.\u001b[39mfill(\u001b[39mfloat\u001b[39;49m(factor))\n\u001b[0;32m      3\u001b[0m b\n",
      "\u001b[1;31mTypeError\u001b[0m: only size-1 arrays can be converted to Python scalars"
     ]
    }
   ],
   "source": [
    "b= np.empty(n_future)\n",
    "b.fill(float(factor))\n",
    "b"
   ]
  },
  {
   "cell_type": "code",
   "execution_count": null,
   "metadata": {},
   "outputs": [],
   "source": [
    "a= (last_prediction[-6:] * factor[-6:]) + last_prediction[-6:]\n"
   ]
  },
  {
   "cell_type": "code",
   "execution_count": null,
   "metadata": {},
   "outputs": [
    {
     "data": {
      "text/plain": [
       "array([4032.6 , 4000.96, 3704.88, 3595.94, 3288.84, 3116.3 ])"
      ]
     },
     "execution_count": 277,
     "metadata": {},
     "output_type": "execute_result"
    }
   ],
   "source": [
    "a"
   ]
  },
  {
   "cell_type": "code",
   "execution_count": null,
   "metadata": {},
   "outputs": [],
   "source": [
    "PREDICTIONS_FUTURE_= pd.DataFrame(a, columns=['predicted_forecast'], index=PREDICTIONS_FUTURE.index)"
   ]
  },
  {
   "cell_type": "code",
   "execution_count": null,
   "metadata": {},
   "outputs": [
    {
     "data": {
      "text/html": [
       "<div>\n",
       "<style scoped>\n",
       "    .dataframe tbody tr th:only-of-type {\n",
       "        vertical-align: middle;\n",
       "    }\n",
       "\n",
       "    .dataframe tbody tr th {\n",
       "        vertical-align: top;\n",
       "    }\n",
       "\n",
       "    .dataframe thead th {\n",
       "        text-align: right;\n",
       "    }\n",
       "</style>\n",
       "<table border=\"1\" class=\"dataframe\">\n",
       "  <thead>\n",
       "    <tr style=\"text-align: right;\">\n",
       "      <th></th>\n",
       "      <th>predicted_forecast</th>\n",
       "    </tr>\n",
       "  </thead>\n",
       "  <tbody>\n",
       "    <tr>\n",
       "      <th>2022-10-01</th>\n",
       "      <td>4032.60</td>\n",
       "    </tr>\n",
       "    <tr>\n",
       "      <th>2022-11-01</th>\n",
       "      <td>4000.96</td>\n",
       "    </tr>\n",
       "    <tr>\n",
       "      <th>2022-12-01</th>\n",
       "      <td>3704.88</td>\n",
       "    </tr>\n",
       "    <tr>\n",
       "      <th>2023-01-01</th>\n",
       "      <td>3595.94</td>\n",
       "    </tr>\n",
       "    <tr>\n",
       "      <th>2023-02-01</th>\n",
       "      <td>3288.84</td>\n",
       "    </tr>\n",
       "    <tr>\n",
       "      <th>2023-03-01</th>\n",
       "      <td>3116.30</td>\n",
       "    </tr>\n",
       "  </tbody>\n",
       "</table>\n",
       "</div>"
      ],
      "text/plain": [
       "            predicted_forecast\n",
       "2022-10-01             4032.60\n",
       "2022-11-01             4000.96\n",
       "2022-12-01             3704.88\n",
       "2023-01-01             3595.94\n",
       "2023-02-01             3288.84\n",
       "2023-03-01             3116.30"
      ]
     },
     "execution_count": 279,
     "metadata": {},
     "output_type": "execute_result"
    }
   ],
   "source": [
    "PREDICTIONS_FUTURE_"
   ]
  }
 ],
 "metadata": {
  "kernelspec": {
   "display_name": "Python 3.10.2 ('.venv': venv)",
   "language": "python",
   "name": "python3"
  },
  "language_info": {
   "codemirror_mode": {
    "name": "ipython",
    "version": 3
   },
   "file_extension": ".py",
   "mimetype": "text/x-python",
   "name": "python",
   "nbconvert_exporter": "python",
   "pygments_lexer": "ipython3",
   "version": "3.10.2"
  },
  "orig_nbformat": 4,
  "vscode": {
   "interpreter": {
    "hash": "a9d94b28d98dda62cc5bcd48d4eb6e25ca63c55c9aab25d2ced53ae3e67233af"
   }
  }
 },
 "nbformat": 4,
 "nbformat_minor": 2
}
