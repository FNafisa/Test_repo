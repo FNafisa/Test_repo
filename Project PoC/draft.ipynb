{
 "cells": [
  {
   "cell_type": "markdown",
   "metadata": {},
   "source": [
    "# Multivariate Time-Series Forecasting: Predict Iron Prices"
   ]
  },
  {
   "cell_type": "code",
   "execution_count": 1,
   "metadata": {},
   "outputs": [],
   "source": [
    "n_future= 3 # number of moths to be predicted\n",
    "n_past= 24 # the size of the windowed dataframe"
   ]
  },
  {
   "cell_type": "markdown",
   "metadata": {},
   "source": [
    "### Import libs"
   ]
  },
  {
   "cell_type": "code",
   "execution_count": 1,
   "metadata": {},
   "outputs": [],
   "source": [
    "import numpy as np\n",
    "import pandas as pd\n",
    "import datetime as dt\n",
    "\n",
    "import matplotlib.pyplot as plt\n",
    "from pylab import rcParams\n",
    "\n",
    "\n",
    "from sklearn.preprocessing import StandardScaler\n",
    "\n",
    "from keras.callbacks import EarlyStopping, ReduceLROnPlateau, ModelCheckpoint, TensorBoard\n",
    "from keras.models import Sequential\n",
    "from keras.layers import Dense\n",
    "from keras.layers import LSTM\n",
    "from keras.layers import Dropout\n",
    "from keras.optimizers import Adam\n"
   ]
  },
  {
   "cell_type": "code",
   "execution_count": 2,
   "metadata": {},
   "outputs": [],
   "source": [
    "# Create date column for both dataframes:\n",
    "# this function takes a string object which is in a date format and covert it to a date object\n",
    "def str_to_datetime(s):\n",
    "  split = s.split('/')\n",
    "  month, day, year = int(split[0]), int(split[1]), int(split[2])\n",
    "  return dt.datetime(year=year, month=month, day=day)\n",
    "\n",
    "def str_to_datetime_ii(s):\n",
    "  split = s.split('-')\n",
    "  year, month, day = int(split[0]), int(split[1]), int(split[2])\n",
    "  return dt.datetime(year=year, month=month, day=day)"
   ]
  },
  {
   "cell_type": "markdown",
   "metadata": {},
   "source": [
    "## Part 1: Data preprocessing"
   ]
  },
  {
   "cell_type": "markdown",
   "metadata": {},
   "source": [
    "###  Read and load the data; we want to select the features for the training and prediction and extract the date column then make it the index"
   ]
  },
  {
   "cell_type": "markdown",
   "metadata": {},
   "source": [
    "Index & Date columns..."
   ]
  },
  {
   "cell_type": "code",
   "execution_count": 11,
   "metadata": {},
   "outputs": [
    {
     "data": {
      "text/html": [
       "<div>\n",
       "<style scoped>\n",
       "    .dataframe tbody tr th:only-of-type {\n",
       "        vertical-align: middle;\n",
       "    }\n",
       "\n",
       "    .dataframe tbody tr th {\n",
       "        vertical-align: top;\n",
       "    }\n",
       "\n",
       "    .dataframe thead th {\n",
       "        text-align: right;\n",
       "    }\n",
       "</style>\n",
       "<table border=\"1\" class=\"dataframe\">\n",
       "  <thead>\n",
       "    <tr style=\"text-align: right;\">\n",
       "      <th></th>\n",
       "      <th>iron_12mm</th>\n",
       "      <th>oil_brent</th>\n",
       "      <th>tasi</th>\n",
       "      <th>gold</th>\n",
       "      <th>fed_fund</th>\n",
       "      <th>lag_1</th>\n",
       "    </tr>\n",
       "    <tr>\n",
       "      <th>date</th>\n",
       "      <th></th>\n",
       "      <th></th>\n",
       "      <th></th>\n",
       "      <th></th>\n",
       "      <th></th>\n",
       "      <th></th>\n",
       "    </tr>\n",
       "  </thead>\n",
       "  <tbody>\n",
       "    <tr>\n",
       "      <th>2013-01-01</th>\n",
       "      <td>2964.917</td>\n",
       "      <td>114.54</td>\n",
       "      <td>7,043.55</td>\n",
       "      <td>1,662.00</td>\n",
       "      <td>0.14</td>\n",
       "      <td>2615.09244</td>\n",
       "    </tr>\n",
       "    <tr>\n",
       "      <th>2013-02-01</th>\n",
       "      <td>2964.750</td>\n",
       "      <td>110.42</td>\n",
       "      <td>6,998.33</td>\n",
       "      <td>1,578.90</td>\n",
       "      <td>0.15</td>\n",
       "      <td>2964.91700</td>\n",
       "    </tr>\n",
       "    <tr>\n",
       "      <th>2013-03-01</th>\n",
       "      <td>2964.942</td>\n",
       "      <td>109.79</td>\n",
       "      <td>7,125.73</td>\n",
       "      <td>1,595.70</td>\n",
       "      <td>0.14</td>\n",
       "      <td>2964.75000</td>\n",
       "    </tr>\n",
       "    <tr>\n",
       "      <th>2013-04-01</th>\n",
       "      <td>2964.917</td>\n",
       "      <td>102.04</td>\n",
       "      <td>7,179.80</td>\n",
       "      <td>1,472.70</td>\n",
       "      <td>0.15</td>\n",
       "      <td>2964.94200</td>\n",
       "    </tr>\n",
       "    <tr>\n",
       "      <th>2013-05-01</th>\n",
       "      <td>2964.917</td>\n",
       "      <td>100.20</td>\n",
       "      <td>7,404.12</td>\n",
       "      <td>1,393.00</td>\n",
       "      <td>0.11</td>\n",
       "      <td>2964.91700</td>\n",
       "    </tr>\n",
       "    <tr>\n",
       "      <th>...</th>\n",
       "      <td>...</td>\n",
       "      <td>...</td>\n",
       "      <td>...</td>\n",
       "      <td>...</td>\n",
       "      <td>...</td>\n",
       "      <td>...</td>\n",
       "    </tr>\n",
       "    <tr>\n",
       "      <th>2022-05-01</th>\n",
       "      <td>4000.960</td>\n",
       "      <td>115.60</td>\n",
       "      <td>12,921.74</td>\n",
       "      <td>1,848.40</td>\n",
       "      <td>0.77</td>\n",
       "      <td>4032.60000</td>\n",
       "    </tr>\n",
       "    <tr>\n",
       "      <th>2022-06-01</th>\n",
       "      <td>3704.880</td>\n",
       "      <td>109.03</td>\n",
       "      <td>11,523.25</td>\n",
       "      <td>1,812.00</td>\n",
       "      <td>1.21</td>\n",
       "      <td>4000.96000</td>\n",
       "    </tr>\n",
       "    <tr>\n",
       "      <th>2022-07-01</th>\n",
       "      <td>3595.940</td>\n",
       "      <td>103.97</td>\n",
       "      <td>12,199.08</td>\n",
       "      <td>1,771.50</td>\n",
       "      <td>1.68</td>\n",
       "      <td>3704.88000</td>\n",
       "    </tr>\n",
       "    <tr>\n",
       "      <th>2022-08-01</th>\n",
       "      <td>3288.840</td>\n",
       "      <td>95.64</td>\n",
       "      <td>12,283.33</td>\n",
       "      <td>1,721.40</td>\n",
       "      <td>2.33</td>\n",
       "      <td>3595.94000</td>\n",
       "    </tr>\n",
       "    <tr>\n",
       "      <th>2022-09-01</th>\n",
       "      <td>3116.300</td>\n",
       "      <td>85.14</td>\n",
       "      <td>11,405.32</td>\n",
       "      <td>1,672.00</td>\n",
       "      <td>2.56</td>\n",
       "      <td>3288.84000</td>\n",
       "    </tr>\n",
       "  </tbody>\n",
       "</table>\n",
       "<p>117 rows × 6 columns</p>\n",
       "</div>"
      ],
      "text/plain": [
       "            iron_12mm  oil_brent       tasi      gold  fed_fund       lag_1\n",
       "date                                                                       \n",
       "2013-01-01   2964.917     114.54   7,043.55  1,662.00      0.14  2615.09244\n",
       "2013-02-01   2964.750     110.42   6,998.33  1,578.90      0.15  2964.91700\n",
       "2013-03-01   2964.942     109.79   7,125.73  1,595.70      0.14  2964.75000\n",
       "2013-04-01   2964.917     102.04   7,179.80  1,472.70      0.15  2964.94200\n",
       "2013-05-01   2964.917     100.20   7,404.12  1,393.00      0.11  2964.91700\n",
       "...               ...        ...        ...       ...       ...         ...\n",
       "2022-05-01   4000.960     115.60  12,921.74  1,848.40      0.77  4032.60000\n",
       "2022-06-01   3704.880     109.03  11,523.25  1,812.00      1.21  4000.96000\n",
       "2022-07-01   3595.940     103.97  12,199.08  1,771.50      1.68  3704.88000\n",
       "2022-08-01   3288.840      95.64  12,283.33  1,721.40      2.33  3595.94000\n",
       "2022-09-01   3116.300      85.14  11,405.32  1,672.00      2.56  3288.84000\n",
       "\n",
       "[117 rows x 6 columns]"
      ]
     },
     "execution_count": 11,
     "metadata": {},
     "output_type": "execute_result"
    }
   ],
   "source": [
    "# read the data and convert index to date:\n",
    "\n",
    "#            iron_12mm\n",
    "df_iron_12mm= pd.read_excel(r'C:\\Users\\fnafisa\\WORKSPACE\\Project PoC\\Input\\data\\iron ore\\price 12mm iron.xlsx')\n",
    "# create column to concatenate the day, month and year\n",
    "df_iron_12mm['date'] = df_iron_12mm['month'].map(str)+ '/'  + '1' + '/' + df_iron_12mm['year'].map(str)\n",
    "# apply the function str_to_datetime on df_iron_12mm & assign date to be the new indexes\n",
    "df_iron_12mm['date'] = df_iron_12mm['date'].apply(str_to_datetime)\n",
    "df_iron_12mm.index = df_iron_12mm.pop('date')\n",
    "# we keep only the needed columns\n",
    "df_iron_12mm= pd.DataFrame(df_iron_12mm['price'])\n",
    "df_iron_12mm.columns= ['iron_12mm']\n",
    "\n",
    "#           iron_10mm\n",
    "df_iron_10mm= pd.read_excel(r'C:\\Users\\fnafisa\\WORKSPACE\\Project PoC\\Input\\data\\iron ore\\price 10mm iron.xlsx')\n",
    "# create column to concatenate the day, month and year\n",
    "df_iron_10mm['date'] = df_iron_10mm['month'].map(str)+ '/'  + '1' + '/' + df_iron_10mm['year'].map(str)\n",
    "# apply the function str_to_datetime on df_iron_10mm & assign date to be the new indexes\n",
    "df_iron_10mm['date'] = df_iron_10mm['date'].apply(str_to_datetime)\n",
    "df_iron_10mm.index = df_iron_10mm.pop('date')\n",
    "# we keep only the needed columns\n",
    "df_iron_10mm= pd.DataFrame(df_iron_10mm['price'])\n",
    "df_iron_10mm.columns= ['iron_10mm']\n",
    "\n",
    "#           oil\n",
    "df_oil_brent= pd.read_csv(r'C:\\Users\\fnafisa\\WORKSPACE\\Project PoC\\Input\\data\\Oil\\Brent Oil Futures Historical Data; monthly.csv')\n",
    "df_oil_brent['Date'] = df_oil_brent['Date'].apply(str_to_datetime)\n",
    "df_oil_brent.index = df_oil_brent.pop('Date')\n",
    "# we keep only the needed columns\n",
    "df_oil_brent= pd.DataFrame(df_oil_brent['Price'])\n",
    "df_oil_brent.columns= ['oil_brent']\n",
    "\n",
    "#           TASI\n",
    "df_TASI= pd.read_csv(r'C:\\Users\\fnafisa\\WORKSPACE\\Project PoC\\Input\\data\\Markets\\Tadawul All Share Historical Data monthly.csv')\n",
    "df_TASI['Date'] = df_TASI['Date'].apply(str_to_datetime)\n",
    "df_TASI.index = df_TASI.pop('Date')\n",
    "# we keep only the needed columns\n",
    "df_TASI= pd.DataFrame(df_TASI['Price'])\n",
    "df_TASI.columns= ['tasi']\n",
    "\n",
    "#           gold\n",
    "df_gold= pd.read_csv(r'C:\\Users\\fnafisa\\WORKSPACE\\Project PoC\\Input\\data\\gold\\Gold Futures Historical Data monthly.csv')\n",
    "df_gold['Date'] = df_gold['Date'].apply(str_to_datetime)\n",
    "df_gold.index = df_gold.pop('Date')\n",
    "# we keep only the needed columns\n",
    "df_gold= pd.DataFrame(df_gold['Price'])\n",
    "df_gold.columns= ['gold']\n",
    "\n",
    "\n",
    "#           fed fund\n",
    "df_fed_fund= pd.read_csv(r'C:\\Users\\fnafisa\\WORKSPACE\\Project PoC\\Input\\data\\Fed fund rates\\FEDFUNDS.csv')\n",
    "df_fed_fund['Date'] = df_fed_fund['DATE'].apply(str_to_datetime_ii)\n",
    "df_fed_fund.index = df_fed_fund.pop('Date')\n",
    "# we keep only the needed columns\n",
    "df_fed_fund= pd.DataFrame(df_fed_fund['FEDFUNDS'])\n",
    "df_fed_fund.columns= ['fed_fund']\n",
    "\n",
    "\n",
    "\n",
    "#   ----->>> JOIN <<<-----\n",
    "# join the two dataframes based on date index to create the traing dataset\n",
    "# dataset_train = pd.merge(df_iron_12mm,df_iron_10mm, how='left', left_index=True, right_index=True)\n",
    "dataset_train = pd.merge(df_iron_12mm,df_oil_brent, how='left', left_index=True, right_index=True)\n",
    "dataset_train = pd.merge(dataset_train,df_TASI, how='left', left_index=True, right_index=True)\n",
    "dataset_train = pd.merge(dataset_train,df_gold, how='left', left_index=True, right_index=True)\n",
    "dataset_train = pd.merge(dataset_train,df_fed_fund, how='left', left_index=True, right_index=True)\n",
    "\n",
    "\n",
    "#  Add historical data\n",
    "dataset_train['lag_1']= dataset_train['iron_12mm'].shift(1)\n",
    "\n",
    "dataset_train['lag_1'].fillna(value=dataset_train['lag_1'].mean(), inplace=True)\n",
    "\n",
    "# dataset_train= pd.DataFrame(\n",
    "#     {\n",
    "#         'date': dataset_train.index,\n",
    "#         'iron_12mm': dataset_train['iron_12mm'],\n",
    "#         'oil_brent': dataset_train['oil_brent'],\n",
    "#         'tasi': dataset_train['tasi'],\n",
    "#         'gold': dataset_train['gold'],\n",
    "#         'fed_fund': dataset_train['fed_fund'],\n",
    "#         'lag_1': dataset_train['lag_1']\n",
    "#     }, index= dataset_train.index\n",
    "# )\n",
    "\n",
    "dataset_train"
   ]
  },
  {
   "cell_type": "code",
   "execution_count": 12,
   "metadata": {},
   "outputs": [],
   "source": [
    "# select features (columns) to be involved into training and predictions\n",
    "cols= list(dataset_train)[:]\n",
    "# make the dataframe on a monthly basis\n",
    "dataset_train= dataset_train.to_period(freq='m')\n",
    "# dataset_train= list(dataset_train.index)\n",
    "\n",
    "# EXTRACT dates:\n",
    "# store the date index in a list \n",
    "datelist_train= dataset_train.index.strftime('%Y-%m')\n",
    "datelist_train= [dt.datetime.strptime(date, '%Y-%m').date() for date in datelist_train]\n",
    "\n"
   ]
  },
  {
   "cell_type": "code",
   "execution_count": 15,
   "metadata": {},
   "outputs": [
    {
     "name": "stdout",
     "output_type": "stream",
     "text": [
      "Training set shape == (117, 6)\n",
      "All timestamps == 117\n",
      "columns selected: ['iron_12mm', 'oil_brent', 'tasi', 'gold', 'fed_fund', 'lag_1']\n",
      "Sample of date list: [datetime.date(2013, 1, 1), datetime.date(2013, 2, 1)]...[datetime.date(2022, 7, 1), datetime.date(2022, 8, 1)]\n"
     ]
    }
   ],
   "source": [
    "print('Training set shape == {}'.format(dataset_train.shape))\n",
    "print('All timestamps == {}'.format(len(datelist_train)))\n",
    "print('columns selected: {}'.format(cols))\n",
    "print('Sample of date list: {}...{}'.format(datelist_train[0:2], datelist_train[-3:-1]))"
   ]
  },
  {
   "cell_type": "markdown",
   "metadata": {},
   "source": [
    "###  Shaping and transformation"
   ]
  },
  {
   "cell_type": "code",
   "execution_count": 16,
   "metadata": {},
   "outputs": [
    {
     "name": "stdout",
     "output_type": "stream",
     "text": [
      "Shape of training set == (117, 6).\n"
     ]
    }
   ],
   "source": [
    "# make sure there are no commas in any number\n",
    "dataset_train= dataset_train[cols].astype(str)\n",
    "for i in cols:\n",
    "    for j in range(0, len(dataset_train)):\n",
    "        dataset_train[i][j]= dataset_train[i][j].replace(',','')\n",
    "dataset_train= dataset_train[cols].astype(float)\n",
    "\n",
    "# Using multiple predictors (features)\n",
    "# we need convert (reshape) to a matrix(array) using .to_numpy\n",
    "training_set= dataset_train.to_numpy()\n",
    "print('Shape of training set == {}.'.format(training_set.shape))"
   ]
  },
  {
   "cell_type": "markdown",
   "metadata": {},
   "source": [
    "## Scaling..."
   ]
  },
  {
   "cell_type": "code",
   "execution_count": 22,
   "metadata": {},
   "outputs": [
    {
     "data": {
      "text/plain": [
       "array([[ 0.71446457],\n",
       "       [ 0.71411927],\n",
       "       [ 0.71451626],\n",
       "       [ 0.71446457],\n",
       "       [ 0.71446457],\n",
       "       [ 0.71446457],\n",
       "       [ 0.71446457],\n",
       "       [ 0.71446457],\n",
       "       [ 0.71368919],\n",
       "       [ 0.55146179],\n",
       "       [ 0.44532204],\n",
       "       [ 0.41024813],\n",
       "       [ 0.41024813],\n",
       "       [ 0.38914755],\n",
       "       [ 0.37304659],\n",
       "       [ 0.35864113],\n",
       "       [ 0.31660951],\n",
       "       [ 0.30796665],\n",
       "       [ 0.27551042],\n",
       "       [ 0.22619026],\n",
       "       [ 0.1212146 ],\n",
       "       [ 0.06128522],\n",
       "       [-0.02447143],\n",
       "       [-0.06548576],\n",
       "       [-0.28403238],\n",
       "       [-0.33250273],\n",
       "       [-0.47783312],\n",
       "       [-0.52554256],\n",
       "       [-0.54460856],\n",
       "       [-0.53537227],\n",
       "       [-0.53689821],\n",
       "       [-0.53842415],\n",
       "       [-0.85035301],\n",
       "       [-0.89085868],\n",
       "       [-1.30897072],\n",
       "       [-1.36811851],\n",
       "       [-1.39142323],\n",
       "       [-1.39472737],\n",
       "       [-1.39269278],\n",
       "       [-1.07703385],\n",
       "       [-0.61079264],\n",
       "       [-0.59020071],\n",
       "       [-0.59274187],\n",
       "       [-0.63556954],\n",
       "       [-0.81239057],\n",
       "       [-1.36760987],\n",
       "       [-1.63589845],\n",
       "       [-1.09067841],\n",
       "       [-0.95475385],\n",
       "       [-1.00356536],\n",
       "       [-1.03576521],\n",
       "       [-1.06847576],\n",
       "       [-1.17118112],\n",
       "       [-1.32083294],\n",
       "       [-1.40116817],\n",
       "       [-1.31271527],\n",
       "       [-0.97447944],\n",
       "       [-0.83732255],\n",
       "       [-0.79528059],\n",
       "       [-1.09612673],\n",
       "       [-0.61198155],\n",
       "       [-0.57460633],\n",
       "       [-0.5552674 ],\n",
       "       [-0.59700334],\n",
       "       [-0.56464222],\n",
       "       [-0.57277644],\n",
       "       [-0.57512532],\n",
       "       [-0.56905877],\n",
       "       [-0.6063761 ],\n",
       "       [-0.67977842],\n",
       "       [-0.75707003],\n",
       "       [-0.81147459],\n",
       "       [-0.81863493],\n",
       "       [-0.64214887],\n",
       "       [-0.29633089],\n",
       "       [-0.20591164],\n",
       "       [-0.31295497],\n",
       "       [-0.22906955],\n",
       "       [-0.2350658 ],\n",
       "       [-0.4844476 ],\n",
       "       [-0.46306788],\n",
       "       [-0.66567897],\n",
       "       [-0.60325598],\n",
       "       [-0.66472784],\n",
       "       [-0.48250399],\n",
       "       [-0.24689288],\n",
       "       [ 0.02269007],\n",
       "       [-0.16120859],\n",
       "       [-0.36100764],\n",
       "       [ 0.28532565],\n",
       "       [ 0.26979744],\n",
       "       [ 0.30180499],\n",
       "       [ 0.24649479],\n",
       "       [ 0.22224101],\n",
       "       [ 0.49476005],\n",
       "       [ 1.58779299],\n",
       "       [ 1.48498839],\n",
       "       [ 1.46079664],\n",
       "       [-0.03499795],\n",
       "       [ 1.19933963],\n",
       "       [ 1.09589405],\n",
       "       [ 1.8438327 ],\n",
       "       [ 1.90377448],\n",
       "       [ 1.85317857],\n",
       "       [ 1.74053185],\n",
       "       [ 1.29333596],\n",
       "       [ 1.43604661],\n",
       "       [ 1.55268394],\n",
       "       [ 1.52681737],\n",
       "       [ 1.48430606],\n",
       "       [ 1.7934022 ],\n",
       "       [ 2.92208179],\n",
       "       [ 2.85666068],\n",
       "       [ 2.24446464],\n",
       "       [ 2.01921256],\n",
       "       [ 1.38423078],\n",
       "       [ 1.02747482]])"
      ]
     },
     "execution_count": 22,
     "metadata": {},
     "output_type": "execute_result"
    }
   ],
   "source": [
    "sc= StandardScaler()\n",
    "training_set_scaled= sc.fit_transform(training_set)\n",
    "\n",
    "sc_predict= StandardScaler()\n",
    "sc_predict.fit_transform(training_set[:,0:1])# our target (iron_12mm) / the dependant variable\n"
   ]
  },
  {
   "cell_type": "markdown",
   "metadata": {},
   "source": [
    "## Part 2: Modeling"
   ]
  },
  {
   "cell_type": "markdown",
   "metadata": {},
   "source": [
    "###  Build the model architecture and Set up the WINDOWED DATAFRAME "
   ]
  },
  {
   "cell_type": "code",
   "execution_count": 33,
   "metadata": {},
   "outputs": [
    {
     "data": {
      "text/plain": [
       "94"
      ]
     },
     "execution_count": 33,
     "metadata": {},
     "output_type": "execute_result"
    }
   ],
   "source": [
    "len(training_set_scaled) - 24+1"
   ]
  },
  {
   "cell_type": "code",
   "execution_count": 34,
   "metadata": {},
   "outputs": [
    {
     "data": {
      "text/plain": [
       "5"
      ]
     },
     "execution_count": 34,
     "metadata": {},
     "output_type": "execute_result"
    }
   ],
   "source": [
    "dataset_train.shape[1] - 1"
   ]
  },
  {
   "cell_type": "code",
   "execution_count": 224,
   "metadata": {},
   "outputs": [
    {
     "name": "stdout",
     "output_type": "stream",
     "text": [
      "X_train shape == (88, 24, 5).\n",
      "y_train shape == (88, 1).\n"
     ]
    }
   ],
   "source": [
    "# Create a data structure with timestamps\n",
    "X_train= []\n",
    "y_train= []\n",
    "n_future= 6 # number of moths to be predicted\n",
    "n_past= 24 # the size of the windowed dataframe\n",
    "\n",
    "for i in range(n_past, len(training_set_scaled) - n_future +1):\n",
    "    X_train.append(training_set_scaled[i - n_past:i, 0:dataset_train.shape[1] - 1])\n",
    "    y_train.append(training_set_scaled[i + n_future - 1:i + n_future, 0])\n",
    "\n",
    "X_train, y_train = np.array(X_train), np.array(y_train)\n",
    "\n",
    "print('X_train shape == {}.'.format(X_train.shape))\n",
    "print('y_train shape == {}.'.format(y_train.shape))"
   ]
  },
  {
   "cell_type": "markdown",
   "metadata": {},
   "source": [
    "## Build the model architecture"
   ]
  },
  {
   "cell_type": "code",
   "execution_count": 225,
   "metadata": {},
   "outputs": [],
   "source": [
    "model= Sequential()\n",
    "model.add(LSTM(units=64, return_sequences=True, input_shape=(n_past, dataset_train.shape[1]-1)))\n",
    "model.add(Dropout(.40))\n",
    "model.add(LSTM(units=10, return_sequences=False))\n",
    "model.add(Dropout(.20))\n",
    "model.add(Dense(units=1, activation='linear'))\n",
    "model.compile(optimizer= Adam(learning_rate=.01), loss= 'mean_squared_error')"
   ]
  },
  {
   "cell_type": "markdown",
   "metadata": {},
   "source": [
    "## Train the model"
   ]
  },
  {
   "cell_type": "code",
   "execution_count": 226,
   "metadata": {},
   "outputs": [
    {
     "name": "stdout",
     "output_type": "stream",
     "text": [
      "Epoch 1/50\n",
      "1/2 [==============>...............] - ETA: 2s - loss: 0.8852\n",
      "Epoch 1: val_loss improved from inf to 1.09088, saving model to weights.h5\n",
      "2/2 [==============================] - 3s 636ms/step - loss: 0.5645 - val_loss: 1.0909 - lr: 0.0100\n",
      "Epoch 2/50\n",
      "1/2 [==============>...............] - ETA: 0s - loss: 0.1460\n",
      "Epoch 2: val_loss improved from 1.09088 to 1.03581, saving model to weights.h5\n",
      "2/2 [==============================] - 0s 70ms/step - loss: 0.1484 - val_loss: 1.0358 - lr: 0.0100\n",
      "Epoch 3/50\n",
      "1/2 [==============>...............] - ETA: 0s - loss: 0.1202\n",
      "Epoch 3: val_loss improved from 1.03581 to 0.99605, saving model to weights.h5\n",
      "2/2 [==============================] - 0s 67ms/step - loss: 0.1074 - val_loss: 0.9961 - lr: 0.0100\n",
      "Epoch 4/50\n",
      "1/2 [==============>...............] - ETA: 0s - loss: 0.0973\n",
      "Epoch 4: val_loss did not improve from 0.99605\n",
      "2/2 [==============================] - 0s 53ms/step - loss: 0.1076 - val_loss: 1.0021 - lr: 0.0100\n",
      "Epoch 5/50\n",
      "1/2 [==============>...............] - ETA: 0s - loss: 0.1249\n",
      "Epoch 5: val_loss improved from 0.99605 to 0.98518, saving model to weights.h5\n",
      "2/2 [==============================] - 0s 64ms/step - loss: 0.1127 - val_loss: 0.9852 - lr: 0.0100\n",
      "Epoch 6/50\n",
      "1/2 [==============>...............] - ETA: 0s - loss: 0.1110\n",
      "Epoch 6: val_loss improved from 0.98518 to 0.92517, saving model to weights.h5\n",
      "2/2 [==============================] - 0s 67ms/step - loss: 0.1012 - val_loss: 0.9252 - lr: 0.0100\n",
      "Epoch 7/50\n",
      "1/2 [==============>...............] - ETA: 0s - loss: 0.0813\n",
      "Epoch 7: val_loss improved from 0.92517 to 0.87036, saving model to weights.h5\n",
      "2/2 [==============================] - 0s 69ms/step - loss: 0.0849 - val_loss: 0.8704 - lr: 0.0100\n",
      "Epoch 8/50\n",
      "1/2 [==============>...............] - ETA: 0s - loss: 0.0890\n",
      "Epoch 8: val_loss did not improve from 0.87036\n",
      "2/2 [==============================] - 0s 54ms/step - loss: 0.1101 - val_loss: 0.8856 - lr: 0.0100\n",
      "Epoch 9/50\n",
      "1/2 [==============>...............] - ETA: 0s - loss: 0.0881\n",
      "Epoch 9: val_loss did not improve from 0.87036\n",
      "2/2 [==============================] - 0s 57ms/step - loss: 0.1047 - val_loss: 0.9336 - lr: 0.0100\n",
      "Epoch 10/50\n",
      "1/2 [==============>...............] - ETA: 0s - loss: 0.0850\n",
      "Epoch 10: val_loss did not improve from 0.87036\n",
      "2/2 [==============================] - 0s 52ms/step - loss: 0.1172 - val_loss: 0.9778 - lr: 0.0100\n",
      "Epoch 11/50\n",
      "1/2 [==============>...............] - ETA: 0s - loss: 0.1214\n",
      "Epoch 11: val_loss did not improve from 0.87036\n",
      "2/2 [==============================] - 0s 55ms/step - loss: 0.1039 - val_loss: 0.9906 - lr: 0.0100\n",
      "Epoch 12/50\n",
      "1/2 [==============>...............] - ETA: 0s - loss: 0.0855\n",
      "Epoch 12: val_loss improved from 0.87036 to 0.86430, saving model to weights.h5\n",
      "2/2 [==============================] - 0s 66ms/step - loss: 0.0838 - val_loss: 0.8643 - lr: 0.0100\n",
      "Epoch 13/50\n",
      "1/2 [==============>...............] - ETA: 0s - loss: 0.1231\n",
      "Epoch 13: val_loss improved from 0.86430 to 0.76368, saving model to weights.h5\n",
      "2/2 [==============================] - 0s 69ms/step - loss: 0.0994 - val_loss: 0.7637 - lr: 0.0100\n",
      "Epoch 14/50\n",
      "1/2 [==============>...............] - ETA: 0s - loss: 0.0923\n",
      "Epoch 14: val_loss improved from 0.76368 to 0.68259, saving model to weights.h5\n",
      "2/2 [==============================] - 0s 70ms/step - loss: 0.0965 - val_loss: 0.6826 - lr: 0.0100\n",
      "Epoch 15/50\n",
      "1/2 [==============>...............] - ETA: 0s - loss: 0.0732\n",
      "Epoch 15: val_loss improved from 0.68259 to 0.66913, saving model to weights.h5\n",
      "2/2 [==============================] - 0s 67ms/step - loss: 0.0808 - val_loss: 0.6691 - lr: 0.0100\n",
      "Epoch 16/50\n",
      "1/2 [==============>...............] - ETA: 0s - loss: 0.0842\n",
      "Epoch 16: val_loss improved from 0.66913 to 0.65815, saving model to weights.h5\n",
      "2/2 [==============================] - 0s 73ms/step - loss: 0.0831 - val_loss: 0.6581 - lr: 0.0100\n",
      "Epoch 17/50\n",
      "1/2 [==============>...............] - ETA: 0s - loss: 0.0733\n",
      "Epoch 17: val_loss did not improve from 0.65815\n",
      "2/2 [==============================] - 0s 68ms/step - loss: 0.0897 - val_loss: 0.6862 - lr: 0.0100\n",
      "Epoch 18/50\n",
      "1/2 [==============>...............] - ETA: 0s - loss: 0.0706\n",
      "Epoch 18: val_loss did not improve from 0.65815\n",
      "2/2 [==============================] - 0s 51ms/step - loss: 0.0895 - val_loss: 0.7158 - lr: 0.0100\n",
      "Epoch 19/50\n",
      "1/2 [==============>...............] - ETA: 0s - loss: 0.0754\n",
      "Epoch 19: val_loss did not improve from 0.65815\n",
      "2/2 [==============================] - 0s 56ms/step - loss: 0.0831 - val_loss: 0.7507 - lr: 0.0100\n",
      "Epoch 20/50\n",
      "1/2 [==============>...............] - ETA: 0s - loss: 0.0703\n",
      "Epoch 20: val_loss did not improve from 0.65815\n",
      "2/2 [==============================] - 0s 57ms/step - loss: 0.0895 - val_loss: 0.8295 - lr: 0.0100\n",
      "Epoch 21/50\n",
      "1/2 [==============>...............] - ETA: 0s - loss: 0.0723\n",
      "Epoch 21: val_loss did not improve from 0.65815\n",
      "2/2 [==============================] - 0s 55ms/step - loss: 0.0708 - val_loss: 0.8192 - lr: 0.0100\n",
      "Epoch 22/50\n",
      "1/2 [==============>...............] - ETA: 0s - loss: 0.0726\n",
      "Epoch 22: val_loss did not improve from 0.65815\n",
      "2/2 [==============================] - 0s 58ms/step - loss: 0.0963 - val_loss: 0.7538 - lr: 0.0100\n",
      "Epoch 23/50\n",
      "1/2 [==============>...............] - ETA: 0s - loss: 0.0724\n",
      "Epoch 23: val_loss did not improve from 0.65815\n",
      "2/2 [==============================] - 0s 53ms/step - loss: 0.0913 - val_loss: 0.6963 - lr: 0.0100\n",
      "Epoch 24/50\n",
      "1/2 [==============>...............] - ETA: 0s - loss: 0.1002\n",
      "Epoch 24: val_loss did not improve from 0.65815\n",
      "2/2 [==============================] - 0s 52ms/step - loss: 0.0759 - val_loss: 0.6994 - lr: 0.0100\n",
      "Epoch 25/50\n",
      "1/2 [==============>...............] - ETA: 0s - loss: 0.0656\n",
      "Epoch 25: val_loss did not improve from 0.65815\n",
      "2/2 [==============================] - 0s 55ms/step - loss: 0.0673 - val_loss: 0.7368 - lr: 0.0100\n",
      "Epoch 26/50\n",
      "1/2 [==============>...............] - ETA: 0s - loss: 0.0727\n",
      "Epoch 26: ReduceLROnPlateau reducing learning rate to 0.004999999888241291.\n",
      "\n",
      "Epoch 26: val_loss did not improve from 0.65815\n",
      "2/2 [==============================] - 0s 54ms/step - loss: 0.0677 - val_loss: 0.8695 - lr: 0.0100\n",
      "Epoch 27/50\n",
      "1/2 [==============>...............] - ETA: 0s - loss: 0.0419\n",
      "Epoch 27: val_loss did not improve from 0.65815\n",
      "2/2 [==============================] - 0s 56ms/step - loss: 0.0681 - val_loss: 0.9012 - lr: 0.0050\n",
      "Epoch 28/50\n",
      "1/2 [==============>...............] - ETA: 0s - loss: 0.0529\n",
      "Epoch 28: val_loss did not improve from 0.65815\n",
      "2/2 [==============================] - 0s 53ms/step - loss: 0.0706 - val_loss: 0.9092 - lr: 0.0050\n",
      "Epoch 29/50\n",
      "1/2 [==============>...............] - ETA: 0s - loss: 0.0564\n",
      "Epoch 29: val_loss did not improve from 0.65815\n",
      "2/2 [==============================] - 0s 54ms/step - loss: 0.0562 - val_loss: 0.8758 - lr: 0.0050\n",
      "Epoch 30/50\n",
      "1/2 [==============>...............] - ETA: 0s - loss: 0.0755\n",
      "Epoch 30: val_loss did not improve from 0.65815\n",
      "2/2 [==============================] - 0s 53ms/step - loss: 0.0727 - val_loss: 0.8301 - lr: 0.0050\n",
      "Epoch 31/50\n",
      "1/2 [==============>...............] - ETA: 0s - loss: 0.0764\n",
      "Epoch 31: val_loss did not improve from 0.65815\n",
      "2/2 [==============================] - 0s 70ms/step - loss: 0.0760 - val_loss: 0.8004 - lr: 0.0050\n",
      "Epoch 32/50\n",
      "1/2 [==============>...............] - ETA: 0s - loss: 0.0531\n",
      "Epoch 32: val_loss did not improve from 0.65815\n",
      "2/2 [==============================] - 0s 54ms/step - loss: 0.0692 - val_loss: 0.7911 - lr: 0.0050\n",
      "Epoch 33/50\n",
      "1/2 [==============>...............] - ETA: 0s - loss: 0.0457\n",
      "Epoch 33: val_loss did not improve from 0.65815\n",
      "2/2 [==============================] - 0s 51ms/step - loss: 0.0596 - val_loss: 0.8113 - lr: 0.0050\n",
      "Epoch 34/50\n",
      "1/2 [==============>...............] - ETA: 0s - loss: 0.0528\n",
      "Epoch 34: val_loss did not improve from 0.65815\n",
      "2/2 [==============================] - 0s 55ms/step - loss: 0.0543 - val_loss: 0.8359 - lr: 0.0050\n",
      "Epoch 35/50\n",
      "1/2 [==============>...............] - ETA: 0s - loss: 0.0558\n",
      "Epoch 35: val_loss did not improve from 0.65815\n",
      "2/2 [==============================] - 0s 57ms/step - loss: 0.0505 - val_loss: 0.8741 - lr: 0.0050\n",
      "Epoch 36/50\n",
      "1/2 [==============>...............] - ETA: 0s - loss: 0.0884\n",
      "Epoch 36: ReduceLROnPlateau reducing learning rate to 0.0024999999441206455.\n",
      "\n",
      "Epoch 36: val_loss did not improve from 0.65815\n",
      "2/2 [==============================] - 0s 57ms/step - loss: 0.0791 - val_loss: 0.9036 - lr: 0.0050\n",
      "Epoch 36: early stopping\n",
      "CPU times: total: 8.58 s\n",
      "Wall time: 6.09 s\n"
     ]
    }
   ],
   "source": [
    "%%time\n",
    "es = EarlyStopping(monitor='val_loss', min_delta=1e-10, patience=20, verbose=1)\n",
    "rlr = ReduceLROnPlateau(monitor='val_loss', factor=0.5, patience=10, verbose=1)\n",
    "mcp = ModelCheckpoint(filepath='weights.h5', monitor='val_loss', verbose=1, save_best_only=True, save_weights_only=True)\n",
    "\n",
    "tb = TensorBoard('logs')\n",
    "\n",
    "history = model.fit(X_train, y_train, shuffle=True, epochs=50, callbacks=[es, rlr, mcp, tb], validation_split=0.3, verbose=1, batch_size=32)"
   ]
  },
  {
   "cell_type": "markdown",
   "metadata": {},
   "source": [
    "###  training and testing\n",
    "## Part 3: Forcasting"
   ]
  },
  {
   "cell_type": "code",
   "execution_count": 227,
   "metadata": {},
   "outputs": [
    {
     "name": "stdout",
     "output_type": "stream",
     "text": [
      "1/1 [==============================] - 1s 537ms/step\n",
      "2/2 [==============================] - 0s 7ms/step\n"
     ]
    }
   ],
   "source": [
    "# Generate list of sequence of months for predictions w datetime type\n",
    "datelist_future = pd.date_range(datelist_train[-1], periods=n_future, freq='1m').tolist()\n",
    "datelist_future_= []\n",
    "for d in datelist_future:\n",
    "    d= d + dt.timedelta(days=1)\n",
    "    d= d.date()\n",
    "    datelist_future_.append(d)\n",
    "# (datelist_future_)\n",
    "\n",
    "# Perform predictions\n",
    "predictions_future = model.predict(X_train[-n_future:])\n",
    "\n",
    "predictions_train = model.predict(X_train[n_past:])"
   ]
  },
  {
   "cell_type": "markdown",
   "metadata": {},
   "source": [
    "### Step 5: Predict the future"
   ]
  },
  {
   "cell_type": "code",
   "execution_count": 228,
   "metadata": {},
   "outputs": [
    {
     "name": "stdout",
     "output_type": "stream",
     "text": [
      "1/1 [==============================] - 0s 24ms/step\n",
      "2/2 [==============================] - 0s 7ms/step\n"
     ]
    }
   ],
   "source": [
    "# Perform predictions\n",
    "predictions_future = model.predict(X_train[-n_future:])\n",
    "\n",
    "predictions_train = model.predict(X_train[n_past:])\n",
    "\n",
    "def datetime_to_timestamp(x):\n",
    "    '''\n",
    "        x : a given datetime value (datetime.date)\n",
    "    '''\n",
    "    return dt.strptime(x.strftime('%Y%m%d'), '%Y%m%d')\n",
    "\n",
    "\n",
    "y_pred_train = sc_predict.inverse_transform(predictions_train)\n",
    "y_pred_future = sc_predict.inverse_transform(predictions_future)\n",
    "\n",
    "PREDICTION_TRAIN = pd.DataFrame(y_pred_train, columns=['predicted']).set_index(pd.Series(datelist_train[2 * n_past + n_future -1:]))\n",
    "PREDICTIONS_FUTURE = pd.DataFrame(y_pred_future, columns=['predicted']).set_index(pd.Series(datelist_future_))\n",
    "\n",
    "# Convert  to  for PREDCITION_TRAIN\n",
    "PREDICTION_TRAIN.index = PREDICTION_TRAIN.index#.to_series()#.apply(datetime_to_timestamp)\n",
    "\n"
   ]
  },
  {
   "cell_type": "code",
   "execution_count": 229,
   "metadata": {},
   "outputs": [
    {
     "name": "stderr",
     "output_type": "stream",
     "text": [
      "C:\\Users\\Administrator\\AppData\\Local\\Temp\\ipykernel_19812\\1183576165.py:2: FutureWarning: The frame.append method is deprecated and will be removed from pandas in a future version. Use pandas.concat instead.\n",
      "  res= PREDICTION_TRAIN.append(PREDICTIONS_FUTURE)\n"
     ]
    },
    {
     "data": {
      "text/html": [
       "<div>\n",
       "<style scoped>\n",
       "    .dataframe tbody tr th:only-of-type {\n",
       "        vertical-align: middle;\n",
       "    }\n",
       "\n",
       "    .dataframe tbody tr th {\n",
       "        vertical-align: top;\n",
       "    }\n",
       "\n",
       "    .dataframe thead th {\n",
       "        text-align: right;\n",
       "    }\n",
       "</style>\n",
       "<table border=\"1\" class=\"dataframe\">\n",
       "  <thead>\n",
       "    <tr style=\"text-align: right;\">\n",
       "      <th></th>\n",
       "      <th>predicted</th>\n",
       "      <th>iron_prices</th>\n",
       "    </tr>\n",
       "  </thead>\n",
       "  <tbody>\n",
       "    <tr>\n",
       "      <th>2017-06-01</th>\n",
       "      <td>2014.015137</td>\n",
       "      <td>1980.574</td>\n",
       "    </tr>\n",
       "    <tr>\n",
       "      <th>2017-07-01</th>\n",
       "      <td>2019.597168</td>\n",
       "      <td>1941.721</td>\n",
       "    </tr>\n",
       "    <tr>\n",
       "      <th>2017-08-01</th>\n",
       "      <td>2038.302002</td>\n",
       "      <td>1984.500</td>\n",
       "    </tr>\n",
       "    <tr>\n",
       "      <th>2017-09-01</th>\n",
       "      <td>2069.512451</td>\n",
       "      <td>2148.083</td>\n",
       "    </tr>\n",
       "    <tr>\n",
       "      <th>2017-10-01</th>\n",
       "      <td>2108.996582</td>\n",
       "      <td>2214.417</td>\n",
       "    </tr>\n",
       "    <tr>\n",
       "      <th>...</th>\n",
       "      <td>...</td>\n",
       "      <td>...</td>\n",
       "    </tr>\n",
       "    <tr>\n",
       "      <th>2022-11-01</th>\n",
       "      <td>3210.638184</td>\n",
       "      <td>NaN</td>\n",
       "    </tr>\n",
       "    <tr>\n",
       "      <th>2022-12-01</th>\n",
       "      <td>3246.840576</td>\n",
       "      <td>NaN</td>\n",
       "    </tr>\n",
       "    <tr>\n",
       "      <th>2023-01-01</th>\n",
       "      <td>3274.677246</td>\n",
       "      <td>NaN</td>\n",
       "    </tr>\n",
       "    <tr>\n",
       "      <th>2023-02-01</th>\n",
       "      <td>3300.577881</td>\n",
       "      <td>NaN</td>\n",
       "    </tr>\n",
       "    <tr>\n",
       "      <th>2023-03-01</th>\n",
       "      <td>3319.529785</td>\n",
       "      <td>NaN</td>\n",
       "    </tr>\n",
       "  </tbody>\n",
       "</table>\n",
       "<p>70 rows × 2 columns</p>\n",
       "</div>"
      ],
      "text/plain": [
       "              predicted  iron_prices\n",
       "2017-06-01  2014.015137     1980.574\n",
       "2017-07-01  2019.597168     1941.721\n",
       "2017-08-01  2038.302002     1984.500\n",
       "2017-09-01  2069.512451     2148.083\n",
       "2017-10-01  2108.996582     2214.417\n",
       "...                 ...          ...\n",
       "2022-11-01  3210.638184          NaN\n",
       "2022-12-01  3246.840576          NaN\n",
       "2023-01-01  3274.677246          NaN\n",
       "2023-02-01  3300.577881          NaN\n",
       "2023-03-01  3319.529785          NaN\n",
       "\n",
       "[70 rows x 2 columns]"
      ]
     },
     "execution_count": 229,
     "metadata": {},
     "output_type": "execute_result"
    }
   ],
   "source": [
    "PREDICTION_TRAIN\n",
    "res= PREDICTION_TRAIN.append(PREDICTIONS_FUTURE)\n",
    "res['iron_prices']= df_iron_12mm\n",
    "res"
   ]
  },
  {
   "cell_type": "code",
   "execution_count": 230,
   "metadata": {},
   "outputs": [
    {
     "data": {
      "image/png": "[encoded data removed]",
      "text/plain": [
       "<Figure size 640x480 with 1 Axes>"
      ]
     },
     "metadata": {},
     "output_type": "display_data"
    }
   ],
   "source": [
    "res['date']= res.index\n",
    "res.columns[-1]\n",
    "df= res\n",
    "\n",
    "ax = plt.gca()\n",
    "df.plot(kind='line',x=res.columns[-1],y='iron_prices',ax=ax)\n",
    "df.plot(kind='line',x=res.columns[-1],y='predicted', color='red', ax=ax)\n",
    "\n",
    "\n",
    "plt.show()"
   ]
  },
  {
   "cell_type": "code",
   "execution_count": 99,
   "metadata": {},
   "outputs": [],
   "source": [
    "res.to_csv(r'C:\\Users\\fnafisa\\WORKSPACE\\Project PoC\\output\\predictions.csv', encoding='utf-8', index=False)\n"
   ]
  },
  {
   "cell_type": "code",
   "execution_count": null,
   "metadata": {},
   "outputs": [],
   "source": []
  }
 ],
 "metadata": {
  "kernelspec": {
   "display_name": "Python 3.10.2 ('.venv': venv)",
   "language": "python",
   "name": "python3"
  },
  "language_info": {
   "codemirror_mode": {
    "name": "ipython",
    "version": 3
   },
   "file_extension": ".py",
   "mimetype": "text/x-python",
   "name": "python",
   "nbconvert_exporter": "python",
   "pygments_lexer": "ipython3",
   "version": "3.10.2"
  },
  "orig_nbformat": 4,
  "vscode": {
   "interpreter": {
    "hash": "bb49dee2baa2d7c6a029fdee3d6d205496ad99d9b57c9466cbe9a6025091e179"
   }
  }
 },
 "nbformat": 4,
 "nbformat_minor": 2
}
