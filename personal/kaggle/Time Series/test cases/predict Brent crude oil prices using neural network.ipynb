{
 "cells": [
  {
   "cell_type": "code",
   "execution_count": 1,
   "metadata": {},
   "outputs": [],
   "source": [
    "import pandas as pd\n",
    "\n",
    "df= pd.read_csv(r'C:\\Users\\fnafisa\\WORKSPACE\\kaggle\\data\\Oil\\Brent Oil Futures Historical Data; daily.csv')"
   ]
  },
  {
   "cell_type": "markdown",
   "metadata": {},
   "source": [
    "## Load dataset"
   ]
  },
  {
   "cell_type": "code",
   "execution_count": 2,
   "metadata": {},
   "outputs": [
    {
     "data": {
      "text/html": [
       "<div>\n",
       "<style scoped>\n",
       "    .dataframe tbody tr th:only-of-type {\n",
       "        vertical-align: middle;\n",
       "    }\n",
       "\n",
       "    .dataframe tbody tr th {\n",
       "        vertical-align: top;\n",
       "    }\n",
       "\n",
       "    .dataframe thead th {\n",
       "        text-align: right;\n",
       "    }\n",
       "</style>\n",
       "<table border=\"1\" class=\"dataframe\">\n",
       "  <thead>\n",
       "    <tr style=\"text-align: right;\">\n",
       "      <th></th>\n",
       "      <th>Date</th>\n",
       "      <th>Price</th>\n",
       "      <th>Open</th>\n",
       "      <th>High</th>\n",
       "      <th>Low</th>\n",
       "      <th>Vol.</th>\n",
       "      <th>Change %</th>\n",
       "    </tr>\n",
       "  </thead>\n",
       "  <tbody>\n",
       "    <tr>\n",
       "      <th>0</th>\n",
       "      <td>1/4/2000</td>\n",
       "      <td>24.39</td>\n",
       "      <td>23.90</td>\n",
       "      <td>24.70</td>\n",
       "      <td>23.89</td>\n",
       "      <td>32.51K</td>\n",
       "      <td>-2.75%</td>\n",
       "    </tr>\n",
       "    <tr>\n",
       "      <th>1</th>\n",
       "      <td>1/5/2000</td>\n",
       "      <td>23.73</td>\n",
       "      <td>24.25</td>\n",
       "      <td>24.37</td>\n",
       "      <td>23.70</td>\n",
       "      <td>30.31K</td>\n",
       "      <td>-2.71%</td>\n",
       "    </tr>\n",
       "    <tr>\n",
       "      <th>2</th>\n",
       "      <td>1/6/2000</td>\n",
       "      <td>23.62</td>\n",
       "      <td>23.55</td>\n",
       "      <td>24.22</td>\n",
       "      <td>23.35</td>\n",
       "      <td>44.66K</td>\n",
       "      <td>-0.46%</td>\n",
       "    </tr>\n",
       "    <tr>\n",
       "      <th>3</th>\n",
       "      <td>1/7/2000</td>\n",
       "      <td>23.09</td>\n",
       "      <td>23.57</td>\n",
       "      <td>23.98</td>\n",
       "      <td>23.05</td>\n",
       "      <td>34.83K</td>\n",
       "      <td>-2.24%</td>\n",
       "    </tr>\n",
       "    <tr>\n",
       "      <th>4</th>\n",
       "      <td>1/10/2000</td>\n",
       "      <td>23.73</td>\n",
       "      <td>23.04</td>\n",
       "      <td>23.78</td>\n",
       "      <td>23.04</td>\n",
       "      <td>26.39K</td>\n",
       "      <td>2.77%</td>\n",
       "    </tr>\n",
       "    <tr>\n",
       "      <th>...</th>\n",
       "      <td>...</td>\n",
       "      <td>...</td>\n",
       "      <td>...</td>\n",
       "      <td>...</td>\n",
       "      <td>...</td>\n",
       "      <td>...</td>\n",
       "      <td>...</td>\n",
       "    </tr>\n",
       "    <tr>\n",
       "      <th>5860</th>\n",
       "      <td>10/27/2022</td>\n",
       "      <td>95.04</td>\n",
       "      <td>94.15</td>\n",
       "      <td>95.30</td>\n",
       "      <td>93.18</td>\n",
       "      <td>247.96K</td>\n",
       "      <td>1.33%</td>\n",
       "    </tr>\n",
       "    <tr>\n",
       "      <th>5861</th>\n",
       "      <td>10/28/2022</td>\n",
       "      <td>93.77</td>\n",
       "      <td>94.61</td>\n",
       "      <td>94.90</td>\n",
       "      <td>93.02</td>\n",
       "      <td>281.47K</td>\n",
       "      <td>-1.34%</td>\n",
       "    </tr>\n",
       "    <tr>\n",
       "      <th>5862</th>\n",
       "      <td>10/31/2022</td>\n",
       "      <td>92.81</td>\n",
       "      <td>94.43</td>\n",
       "      <td>94.48</td>\n",
       "      <td>91.46</td>\n",
       "      <td>304.53K</td>\n",
       "      <td>-1.02%</td>\n",
       "    </tr>\n",
       "    <tr>\n",
       "      <th>5863</th>\n",
       "      <td>11/1/2022</td>\n",
       "      <td>92.79</td>\n",
       "      <td>90.87</td>\n",
       "      <td>93.69</td>\n",
       "      <td>90.56</td>\n",
       "      <td>151.21K</td>\n",
       "      <td>-0.02%</td>\n",
       "    </tr>\n",
       "    <tr>\n",
       "      <th>5864</th>\n",
       "      <td>11/2/2022</td>\n",
       "      <td>95.45</td>\n",
       "      <td>94.85</td>\n",
       "      <td>95.92</td>\n",
       "      <td>94.70</td>\n",
       "      <td>NaN</td>\n",
       "      <td>2.87%</td>\n",
       "    </tr>\n",
       "  </tbody>\n",
       "</table>\n",
       "<p>5865 rows × 7 columns</p>\n",
       "</div>"
      ],
      "text/plain": [
       "            Date  Price   Open   High    Low     Vol. Change %\n",
       "0       1/4/2000  24.39  23.90  24.70  23.89   32.51K   -2.75%\n",
       "1       1/5/2000  23.73  24.25  24.37  23.70   30.31K   -2.71%\n",
       "2       1/6/2000  23.62  23.55  24.22  23.35   44.66K   -0.46%\n",
       "3       1/7/2000  23.09  23.57  23.98  23.05   34.83K   -2.24%\n",
       "4      1/10/2000  23.73  23.04  23.78  23.04   26.39K    2.77%\n",
       "...          ...    ...    ...    ...    ...      ...      ...\n",
       "5860  10/27/2022  95.04  94.15  95.30  93.18  247.96K    1.33%\n",
       "5861  10/28/2022  93.77  94.61  94.90  93.02  281.47K   -1.34%\n",
       "5862  10/31/2022  92.81  94.43  94.48  91.46  304.53K   -1.02%\n",
       "5863   11/1/2022  92.79  90.87  93.69  90.56  151.21K   -0.02%\n",
       "5864   11/2/2022  95.45  94.85  95.92  94.70      NaN    2.87%\n",
       "\n",
       "[5865 rows x 7 columns]"
      ]
     },
     "execution_count": 2,
     "metadata": {},
     "output_type": "execute_result"
    }
   ],
   "source": [
    "df"
   ]
  },
  {
   "cell_type": "code",
   "execution_count": 5,
   "metadata": {},
   "outputs": [],
   "source": [
    "df= df[['Date','Price']]"
   ]
  },
  {
   "cell_type": "markdown",
   "metadata": {},
   "source": [
    "## Date column is in Object format, so need convert it to be in Date format..."
   ]
  },
  {
   "cell_type": "code",
   "execution_count": 6,
   "metadata": {},
   "outputs": [
    {
     "data": {
      "text/plain": [
       "0         1/4/2000\n",
       "1         1/5/2000\n",
       "2         1/6/2000\n",
       "3         1/7/2000\n",
       "4        1/10/2000\n",
       "           ...    \n",
       "5860    10/27/2022\n",
       "5861    10/28/2022\n",
       "5862    10/31/2022\n",
       "5863     11/1/2022\n",
       "5864     11/2/2022\n",
       "Name: Date, Length: 5865, dtype: object"
      ]
     },
     "execution_count": 6,
     "metadata": {},
     "output_type": "execute_result"
    }
   ],
   "source": [
    "df.Date"
   ]
  },
  {
   "cell_type": "code",
   "execution_count": 7,
   "metadata": {},
   "outputs": [
    {
     "data": {
      "text/plain": [
       "datetime.datetime(2000, 1, 4, 0, 0)"
      ]
     },
     "execution_count": 7,
     "metadata": {},
     "output_type": "execute_result"
    }
   ],
   "source": [
    "import datetime\n",
    "\n",
    "def str_to_datetime(s):\n",
    "    split= s.split('/')\n",
    "    month, day, year= int(split[0]), int(split[1]), int(split[2])\n",
    "    return datetime.datetime(year= year, month= month, day= day)\n",
    "\n",
    "temp_obj_date= str_to_datetime('1/4/2000')\n",
    "temp_obj_date"
   ]
  },
  {
   "cell_type": "code",
   "execution_count": 8,
   "metadata": {},
   "outputs": [
    {
     "name": "stderr",
     "output_type": "stream",
     "text": [
      "C:\\Users\\fnafisa\\AppData\\Local\\Temp\\ipykernel_584\\2541015291.py:1: SettingWithCopyWarning: \n",
      "A value is trying to be set on a copy of a slice from a DataFrame.\n",
      "Try using .loc[row_indexer,col_indexer] = value instead\n",
      "\n",
      "See the caveats in the documentation: https://pandas.pydata.org/pandas-docs/stable/user_guide/indexing.html#returning-a-view-versus-a-copy\n",
      "  df['Date']= df['Date'].apply(str_to_datetime)\n"
     ]
    },
    {
     "data": {
      "text/plain": [
       "0      2000-01-04\n",
       "1      2000-01-05\n",
       "2      2000-01-06\n",
       "3      2000-01-07\n",
       "4      2000-01-10\n",
       "          ...    \n",
       "5860   2022-10-27\n",
       "5861   2022-10-28\n",
       "5862   2022-10-31\n",
       "5863   2022-11-01\n",
       "5864   2022-11-02\n",
       "Name: Date, Length: 5865, dtype: datetime64[ns]"
      ]
     },
     "execution_count": 8,
     "metadata": {},
     "output_type": "execute_result"
    }
   ],
   "source": [
    "df['Date']= df['Date'].apply(str_to_datetime) \n",
    "df['Date']"
   ]
  },
  {
   "cell_type": "markdown",
   "metadata": {},
   "source": [
    "## Use Date column as index and remove as a column..."
   ]
  },
  {
   "cell_type": "code",
   "execution_count": 9,
   "metadata": {},
   "outputs": [
    {
     "data": {
      "text/html": [
       "<div>\n",
       "<style scoped>\n",
       "    .dataframe tbody tr th:only-of-type {\n",
       "        vertical-align: middle;\n",
       "    }\n",
       "\n",
       "    .dataframe tbody tr th {\n",
       "        vertical-align: top;\n",
       "    }\n",
       "\n",
       "    .dataframe thead th {\n",
       "        text-align: right;\n",
       "    }\n",
       "</style>\n",
       "<table border=\"1\" class=\"dataframe\">\n",
       "  <thead>\n",
       "    <tr style=\"text-align: right;\">\n",
       "      <th></th>\n",
       "      <th>Price</th>\n",
       "    </tr>\n",
       "    <tr>\n",
       "      <th>Date</th>\n",
       "      <th></th>\n",
       "    </tr>\n",
       "  </thead>\n",
       "  <tbody>\n",
       "    <tr>\n",
       "      <th>2000-01-04</th>\n",
       "      <td>24.39</td>\n",
       "    </tr>\n",
       "    <tr>\n",
       "      <th>2000-01-05</th>\n",
       "      <td>23.73</td>\n",
       "    </tr>\n",
       "    <tr>\n",
       "      <th>2000-01-06</th>\n",
       "      <td>23.62</td>\n",
       "    </tr>\n",
       "    <tr>\n",
       "      <th>2000-01-07</th>\n",
       "      <td>23.09</td>\n",
       "    </tr>\n",
       "    <tr>\n",
       "      <th>2000-01-10</th>\n",
       "      <td>23.73</td>\n",
       "    </tr>\n",
       "    <tr>\n",
       "      <th>...</th>\n",
       "      <td>...</td>\n",
       "    </tr>\n",
       "    <tr>\n",
       "      <th>2022-10-27</th>\n",
       "      <td>95.04</td>\n",
       "    </tr>\n",
       "    <tr>\n",
       "      <th>2022-10-28</th>\n",
       "      <td>93.77</td>\n",
       "    </tr>\n",
       "    <tr>\n",
       "      <th>2022-10-31</th>\n",
       "      <td>92.81</td>\n",
       "    </tr>\n",
       "    <tr>\n",
       "      <th>2022-11-01</th>\n",
       "      <td>92.79</td>\n",
       "    </tr>\n",
       "    <tr>\n",
       "      <th>2022-11-02</th>\n",
       "      <td>95.45</td>\n",
       "    </tr>\n",
       "  </tbody>\n",
       "</table>\n",
       "<p>5865 rows × 1 columns</p>\n",
       "</div>"
      ],
      "text/plain": [
       "            Price\n",
       "Date             \n",
       "2000-01-04  24.39\n",
       "2000-01-05  23.73\n",
       "2000-01-06  23.62\n",
       "2000-01-07  23.09\n",
       "2000-01-10  23.73\n",
       "...           ...\n",
       "2022-10-27  95.04\n",
       "2022-10-28  93.77\n",
       "2022-10-31  92.81\n",
       "2022-11-01  92.79\n",
       "2022-11-02  95.45\n",
       "\n",
       "[5865 rows x 1 columns]"
      ]
     },
     "execution_count": 9,
     "metadata": {},
     "output_type": "execute_result"
    }
   ],
   "source": [
    "df.index= df.pop('Date')\n",
    "df"
   ]
  },
  {
   "cell_type": "markdown",
   "metadata": {},
   "source": [
    "## Plot the data"
   ]
  },
  {
   "cell_type": "code",
   "execution_count": 10,
   "metadata": {},
   "outputs": [
    {
     "data": {
      "text/plain": [
       "[<matplotlib.lines.Line2D at 0x2317a7d7880>]"
      ]
     },
     "execution_count": 10,
     "metadata": {},
     "output_type": "execute_result"
    },
    {
     "data": {
      "image/png": "[encoded data removed]",
      "text/plain": [
       "<Figure size 640x480 with 1 Axes>"
      ]
     },
     "metadata": {},
     "output_type": "display_data"
    }
   ],
   "source": [
    "import matplotlib.pyplot as plt\n",
    "\n",
    "plt.plot(df.index, df['Price'])"
   ]
  },
  {
   "cell_type": "code",
   "execution_count": null,
   "metadata": {},
   "outputs": [],
   "source": [
    "import numpy as np\n",
    "\n",
    "def df_to_windowed_df(dataframe, first_date_str, last_date_str, n=3):\n",
    "    first_date= str_to_datetime(first_date_str) #where to begin\n",
    "    last_date = str_to_datetime(last_date_str ) #where to end\n",
    "\n",
    "    target_date= first_date # ???\n",
    "\n",
    "    dates= [] # list of Target Date?\n",
    "    X, Y= [], [] # the matrix Target and the Target(output)\n",
    "\n",
    "    last_time= False # ???\n",
    "\n",
    "    #  loop throught the entire dataframe\n",
    "    while True: \n",
    "        df_subset= dataframe.loc[:target_date].tail(n+1)\n",
    "\n",
    "        if len(df_subset) != n+1:\n",
    "            print(f'Error: Window of size {n} is too large for date {target_date}')\n",
    "            return\n",
    "        \n",
    "        values= df_subset['Price'].to_numpy()\n",
    "        x, y= values[:-1], values[-1]\n",
    "\n",
    "        dates.append(target_date)\n",
    "        X.append(x)\n",
    "        Y.append(y)\n",
    "\n",
    "        # the next few lines are to get the next target date\n",
    "        next_week= dataframe.loc[target_date: target_date.datetime.timedelta(days=7)]\n",
    "        next_datetime_str= str(next_week.head(2).tail(1).index.values[0])\n",
    "        print(next_week.head(2).tail(1).index)\n",
    "        next_date_str= next_datetime_str.split('T')[0]\n",
    "        year_month_day= next_date_str.split('-')\n",
    "        year, month, day= year_month_day\n",
    "        next_date= datetime.datetime(day=int(day), month= int(month), year= int(year))\n",
    "\n",
    "        if last_time:\n",
    "            break\n",
    "        \n",
    "        target_date= next_date\n",
    "\n",
    "        # this condition is to break the loop\n",
    "        if target_date == next_date:\n",
    "            last_time= True\n",
    "\n",
    "    # date column    \n",
    "    ret_df= pd.DataFrame({})\n",
    "    ret_df['Target Date'] = dates\n",
    "    # matrix columns\n",
    "    X= np.array(x)\n",
    "    for i in range(0, n):\n",
    "        X[:, i]\n",
    "        ret_df[f'Target-{n-i}']= X[:, i]\n",
    "    # target column\n",
    "    ret_df['Target']= Y\n",
    "\n",
    "    return ret_df\n",
    "\n",
    "\n"
   ]
  }
 ],
 "metadata": {
  "kernelspec": {
   "display_name": "Python 3.10.2 ('.venv': venv)",
   "language": "python",
   "name": "python3"
  },
  "language_info": {
   "codemirror_mode": {
    "name": "ipython",
    "version": 3
   },
   "file_extension": ".py",
   "mimetype": "text/x-python",
   "name": "python",
   "nbconvert_exporter": "python",
   "pygments_lexer": "ipython3",
   "version": "3.10.2"
  },
  "orig_nbformat": 4,
  "vscode": {
   "interpreter": {
    "hash": "bb49dee2baa2d7c6a029fdee3d6d205496ad99d9b57c9466cbe9a6025091e179"
   }
  }
 },
 "nbformat": 4,
 "nbformat_minor": 2
}
