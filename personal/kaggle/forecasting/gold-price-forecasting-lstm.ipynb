{
 "cells": [
  {
   "cell_type": "code",
   "execution_count": 1,
   "id": "32c865e8",
   "metadata": {
    "_cell_guid": "b1076dfc-b9ad-4769-8c92-a6c4dae69d19",
    "_uuid": "8f2839f25d086af736a60e9eeb907d3b93b6e0e5",
    "execution": {
     "iopub.execute_input": "2022-01-26T18:47:59.274773Z",
     "iopub.status.busy": "2022-01-26T18:47:59.273964Z",
     "iopub.status.idle": "2022-01-26T18:47:59.295023Z",
     "shell.execute_reply": "2022-01-26T18:47:59.294241Z",
     "shell.execute_reply.started": "2022-01-26T11:17:24.672787Z"
    },
    "papermill": {
     "duration": 0.047815,
     "end_time": "2022-01-26T18:47:59.295207",
     "exception": false,
     "start_time": "2022-01-26T18:47:59.247392",
     "status": "completed"
    },
    "tags": []
   },
   "outputs": [],
   "source": [
    "# # This Python 3 environment comes with many helpful analytics libraries installed\n",
    "# # It is defined by the kaggle/python Docker image: https://github.com/kaggle/docker-python\n",
    "# # For example, here's several helpful packages to load\n",
    "\n",
    "# import numpy as np # linear algebra\n",
    "# import pandas as pd # data processing, CSV file I/O (e.g. pd.read_csv)\n",
    "\n",
    "# # Input data files are available in the read-only \"../input/\" directory\n",
    "# # For example, running this (by clicking run or pressing Shift+Enter) will list all files under the input directory\n",
    "\n",
    "# import os\n",
    "# for dirname, _, filenames in os.walk('/kaggle/input'):\n",
    "#     for filename in filenames:\n",
    "#         print(os.path.join(dirname, filename))\n",
    "\n",
    "# # You can write up to 20GB to the current directory (/kaggle/working/) that gets preserved as output when you create a version using \"Save & Run All\" \n",
    "# # You can also write temporary files to /kaggle/temp/, but they won't be saved outside of the current session"
   ]
  },
  {
   "cell_type": "code",
   "execution_count": 1,
   "id": "4c065851",
   "metadata": {
    "execution": {
     "iopub.execute_input": "2022-01-26T18:47:59.336072Z",
     "iopub.status.busy": "2022-01-26T18:47:59.335318Z",
     "iopub.status.idle": "2022-01-26T18:48:07.115980Z",
     "shell.execute_reply": "2022-01-26T18:48:07.116483Z",
     "shell.execute_reply.started": "2022-01-26T11:17:24.687279Z"
    },
    "papermill": {
     "duration": 7.805552,
     "end_time": "2022-01-26T18:48:07.116673",
     "exception": false,
     "start_time": "2022-01-26T18:47:59.311121",
     "status": "completed"
    },
    "tags": []
   },
   "outputs": [],
   "source": [
    "import numpy as np \n",
    "import pandas as pd \n",
    "from matplotlib import pyplot as plt\n",
    "import seaborn as sns\n",
    "from math import sqrt\n",
    "from sklearn.metrics import mean_squared_error\n",
    "from sklearn.preprocessing import MinMaxScaler\n",
    "from sklearn.model_selection import train_test_split\n",
    "\n",
    "from tensorflow.keras.models import Sequential\n",
    "from tensorflow.keras.layers import Dense, LSTM, Dropout, BatchNormalization\n",
    "\n",
    "import plotly.offline as py\n",
    "import plotly.graph_objs as go\n",
    "\n",
    "import keras_tuner as kt\n",
    "\n",
    "import tensorflow as tf\n",
    "\n",
    "from IPython.display import SVG\n",
    "import os\n",
    "\n",
    "import datetime, time\n",
    "\n",
    "from tensorflow import keras\n",
    "\n",
    "import tensorflow as tf\n",
    "\n",
    "import random\n",
    "\n",
    "from keras import backend as K\n",
    "\n",
    "from keras.regularizers import L1L2"
   ]
  },
  {
   "cell_type": "markdown",
   "id": "95034af2",
   "metadata": {
    "papermill": {
     "duration": 0.014777,
     "end_time": "2022-01-26T18:48:07.146537",
     "exception": false,
     "start_time": "2022-01-26T18:48:07.131760",
     "status": "completed"
    },
    "tags": []
   },
   "source": [
    "## Objective\n",
    "The aim of this kernal is to train an LSTM model to predict the future price of Gold based on past time series data. This kernal will use LSTM model from the Keras Library\n",
    "\n",
    "## What is LSTM?\n",
    "\n",
    "LSTM stands for long short-term memory networks, used in the field of Deep Learning. It is a variety of recurrent neural networks (RNNs) that are capable of learning long-term dependencies, especially in sequence prediction problems. LSTM has feedback connections, i.e., it is capable of processing the entire sequence of data, apart from single data points such as images. This finds application in speech recognition, machine translation, etc. LSTM is a special kind of RNN, which shows outstanding performance on a large variety of problems.\n",
    "\n",
    "<center><img src = \"https://miro.medium.com/max/1400/1*goJVQs-p9kgLODFNyhl9zA.gif\" alt=\"LSTM aniamtion\" width=700px></center>\n"
   ]
  },
  {
   "cell_type": "code",
   "execution_count": 2,
   "id": "026d6cd2",
   "metadata": {
    "execution": {
     "iopub.execute_input": "2022-01-26T18:48:07.187393Z",
     "iopub.status.busy": "2022-01-26T18:48:07.186638Z",
     "iopub.status.idle": "2022-01-26T18:48:07.217877Z",
     "shell.execute_reply": "2022-01-26T18:48:07.217336Z",
     "shell.execute_reply.started": "2022-01-26T11:17:24.697615Z"
    },
    "papermill": {
     "duration": 0.056671,
     "end_time": "2022-01-26T18:48:07.218029",
     "exception": false,
     "start_time": "2022-01-26T18:48:07.161358",
     "status": "completed"
    },
    "tags": []
   },
   "outputs": [
    {
     "data": {
      "text/plain": [
       "<tensorflow.python.eager.context._EagerDeviceContext at 0x1c39cc7e580>"
      ]
     },
     "execution_count": 2,
     "metadata": {},
     "output_type": "execute_result"
    }
   ],
   "source": [
    "tf.device('/device:GPU:0')"
   ]
  },
  {
   "cell_type": "code",
   "execution_count": 3,
   "id": "8899a6e4",
   "metadata": {
    "execution": {
     "iopub.execute_input": "2022-01-26T18:48:07.253601Z",
     "iopub.status.busy": "2022-01-26T18:48:07.252608Z",
     "iopub.status.idle": "2022-01-26T18:48:07.299080Z",
     "shell.execute_reply": "2022-01-26T18:48:07.299560Z",
     "shell.execute_reply.started": "2022-01-26T11:17:24.708962Z"
    },
    "papermill": {
     "duration": 0.066118,
     "end_time": "2022-01-26T18:48:07.299765",
     "exception": false,
     "start_time": "2022-01-26T18:48:07.233647",
     "status": "completed"
    },
    "tags": []
   },
   "outputs": [
    {
     "data": {
      "text/html": [
       "<div>\n",
       "<style scoped>\n",
       "    .dataframe tbody tr th:only-of-type {\n",
       "        vertical-align: middle;\n",
       "    }\n",
       "\n",
       "    .dataframe tbody tr th {\n",
       "        vertical-align: top;\n",
       "    }\n",
       "\n",
       "    .dataframe thead th {\n",
       "        text-align: right;\n",
       "    }\n",
       "</style>\n",
       "<table border=\"1\" class=\"dataframe\">\n",
       "  <thead>\n",
       "    <tr style=\"text-align: right;\">\n",
       "      <th></th>\n",
       "      <th>Date</th>\n",
       "      <th>Value</th>\n",
       "    </tr>\n",
       "  </thead>\n",
       "  <tbody>\n",
       "    <tr>\n",
       "      <th>0</th>\n",
       "      <td>1970-01-01</td>\n",
       "      <td>35.2</td>\n",
       "    </tr>\n",
       "    <tr>\n",
       "      <th>1</th>\n",
       "      <td>1970-04-01</td>\n",
       "      <td>35.1</td>\n",
       "    </tr>\n",
       "    <tr>\n",
       "      <th>2</th>\n",
       "      <td>1970-07-01</td>\n",
       "      <td>35.4</td>\n",
       "    </tr>\n",
       "    <tr>\n",
       "      <th>3</th>\n",
       "      <td>1970-10-01</td>\n",
       "      <td>36.2</td>\n",
       "    </tr>\n",
       "    <tr>\n",
       "      <th>4</th>\n",
       "      <td>1971-01-01</td>\n",
       "      <td>37.4</td>\n",
       "    </tr>\n",
       "  </tbody>\n",
       "</table>\n",
       "</div>"
      ],
      "text/plain": [
       "         Date  Value\n",
       "0  1970-01-01   35.2\n",
       "1  1970-04-01   35.1\n",
       "2  1970-07-01   35.4\n",
       "3  1970-10-01   36.2\n",
       "4  1971-01-01   37.4"
      ]
     },
     "execution_count": 3,
     "metadata": {},
     "output_type": "execute_result"
    }
   ],
   "source": [
    "df = pd.read_csv(r\"C:\\Users\\fnafisa\\WORKSPACE\\kaggle\\data\\gold\\gold_price_data.csv\")\n",
    "df.head()"
   ]
  },
  {
   "cell_type": "code",
   "execution_count": 4,
   "id": "e616c65e",
   "metadata": {
    "execution": {
     "iopub.execute_input": "2022-01-26T18:48:07.351674Z",
     "iopub.status.busy": "2022-01-26T18:48:07.344671Z",
     "iopub.status.idle": "2022-01-26T18:48:07.359374Z",
     "shell.execute_reply": "2022-01-26T18:48:07.359811Z",
     "shell.execute_reply.started": "2022-01-26T11:17:24.730883Z"
    },
    "papermill": {
     "duration": 0.043871,
     "end_time": "2022-01-26T18:48:07.360035",
     "exception": false,
     "start_time": "2022-01-26T18:48:07.316164",
     "status": "completed"
    },
    "tags": []
   },
   "outputs": [
    {
     "data": {
      "text/html": [
       "<div>\n",
       "<style scoped>\n",
       "    .dataframe tbody tr th:only-of-type {\n",
       "        vertical-align: middle;\n",
       "    }\n",
       "\n",
       "    .dataframe tbody tr th {\n",
       "        vertical-align: top;\n",
       "    }\n",
       "\n",
       "    .dataframe thead th {\n",
       "        text-align: right;\n",
       "    }\n",
       "</style>\n",
       "<table border=\"1\" class=\"dataframe\">\n",
       "  <thead>\n",
       "    <tr style=\"text-align: right;\">\n",
       "      <th></th>\n",
       "      <th>Date</th>\n",
       "      <th>Value</th>\n",
       "    </tr>\n",
       "  </thead>\n",
       "  <tbody>\n",
       "    <tr>\n",
       "      <th>0</th>\n",
       "      <td>1970-01-01</td>\n",
       "      <td>35.20</td>\n",
       "    </tr>\n",
       "    <tr>\n",
       "      <th>1</th>\n",
       "      <td>1970-04-01</td>\n",
       "      <td>35.10</td>\n",
       "    </tr>\n",
       "    <tr>\n",
       "      <th>2</th>\n",
       "      <td>1970-07-01</td>\n",
       "      <td>35.40</td>\n",
       "    </tr>\n",
       "    <tr>\n",
       "      <th>3</th>\n",
       "      <td>1970-10-01</td>\n",
       "      <td>36.20</td>\n",
       "    </tr>\n",
       "    <tr>\n",
       "      <th>4</th>\n",
       "      <td>1971-01-01</td>\n",
       "      <td>37.40</td>\n",
       "    </tr>\n",
       "    <tr>\n",
       "      <th>...</th>\n",
       "      <td>...</td>\n",
       "      <td>...</td>\n",
       "    </tr>\n",
       "    <tr>\n",
       "      <th>10782</th>\n",
       "      <td>2020-03-09</td>\n",
       "      <td>1672.50</td>\n",
       "    </tr>\n",
       "    <tr>\n",
       "      <th>10783</th>\n",
       "      <td>2020-03-10</td>\n",
       "      <td>1655.70</td>\n",
       "    </tr>\n",
       "    <tr>\n",
       "      <th>10784</th>\n",
       "      <td>2020-03-11</td>\n",
       "      <td>1653.75</td>\n",
       "    </tr>\n",
       "    <tr>\n",
       "      <th>10785</th>\n",
       "      <td>2020-03-12</td>\n",
       "      <td>1570.70</td>\n",
       "    </tr>\n",
       "    <tr>\n",
       "      <th>10786</th>\n",
       "      <td>2020-03-13</td>\n",
       "      <td>1562.80</td>\n",
       "    </tr>\n",
       "  </tbody>\n",
       "</table>\n",
       "<p>10787 rows × 2 columns</p>\n",
       "</div>"
      ],
      "text/plain": [
       "            Date    Value\n",
       "0     1970-01-01    35.20\n",
       "1     1970-04-01    35.10\n",
       "2     1970-07-01    35.40\n",
       "3     1970-10-01    36.20\n",
       "4     1971-01-01    37.40\n",
       "...          ...      ...\n",
       "10782 2020-03-09  1672.50\n",
       "10783 2020-03-10  1655.70\n",
       "10784 2020-03-11  1653.75\n",
       "10785 2020-03-12  1570.70\n",
       "10786 2020-03-13  1562.80\n",
       "\n",
       "[10787 rows x 2 columns]"
      ]
     },
     "execution_count": 4,
     "metadata": {},
     "output_type": "execute_result"
    }
   ],
   "source": [
    "df['Date'] = pd.to_datetime(df['Date'], errors='coerce')\n",
    "df"
   ]
  },
  {
   "cell_type": "code",
   "execution_count": 5,
   "id": "0961edc6",
   "metadata": {
    "execution": {
     "iopub.execute_input": "2022-01-26T18:48:07.401607Z",
     "iopub.status.busy": "2022-01-26T18:48:07.400556Z",
     "iopub.status.idle": "2022-01-26T18:48:07.995947Z",
     "shell.execute_reply": "2022-01-26T18:48:07.996470Z",
     "shell.execute_reply.started": "2022-01-26T11:17:24.751020Z"
    },
    "papermill": {
     "duration": 0.619718,
     "end_time": "2022-01-26T18:48:07.996690",
     "exception": false,
     "start_time": "2022-01-26T18:48:07.376972",
     "status": "completed"
    },
    "tags": []
   },
   "outputs": [
    {
     "data": {
      "image/png": "[encoded data removed]",
      "text/plain": [
       "<Figure size 1800x800 with 1 Axes>"
      ]
     },
     "metadata": {},
     "output_type": "display_data"
    }
   ],
   "source": [
    "plt.figure(figsize = (18,8))\n",
    "sns.lineplot(data=df, x=\"Date\", y=\"Value\")\n",
    "plt.title('Gold Price')\n",
    "plt.show()"
   ]
  },
  {
   "cell_type": "markdown",
   "id": "cb05e830",
   "metadata": {
    "papermill": {
     "duration": 0.017981,
     "end_time": "2022-01-26T18:48:08.033205",
     "exception": false,
     "start_time": "2022-01-26T18:48:08.015224",
     "status": "completed"
    },
    "tags": []
   },
   "source": [
    "### Data Split and Scaling\n",
    "\n",
    "We will take the last 500 days data as testing data and the remaining will be used to train the model."
   ]
  },
  {
   "cell_type": "code",
   "execution_count": 6,
   "id": "5a828ceb",
   "metadata": {
    "execution": {
     "iopub.execute_input": "2022-01-26T18:48:08.075229Z",
     "iopub.status.busy": "2022-01-26T18:48:08.074175Z",
     "iopub.status.idle": "2022-01-26T18:48:08.083010Z",
     "shell.execute_reply": "2022-01-26T18:48:08.082306Z",
     "shell.execute_reply.started": "2022-01-26T11:17:25.344457Z"
    },
    "papermill": {
     "duration": 0.030767,
     "end_time": "2022-01-26T18:48:08.083169",
     "exception": false,
     "start_time": "2022-01-26T18:48:08.052402",
     "status": "completed"
    },
    "tags": []
   },
   "outputs": [],
   "source": [
    "prediction_days = 500\n",
    "df_train= df['Value'][:len(df['Value'])-prediction_days].values.reshape(-1,1)\n",
    "df_test= df['Value'][len(df['Value'])-prediction_days:].values.reshape(-1,1)\n",
    "\n",
    "scaler_train = MinMaxScaler(feature_range=(0, 1))\n",
    "scaled_train = scaler_train.fit_transform(df_train)\n",
    "\n",
    "scaler_test = MinMaxScaler(feature_range=(0, 1))\n",
    "scaled_test = scaler_test.fit_transform(df_test)"
   ]
  },
  {
   "cell_type": "markdown",
   "id": "edf25e00",
   "metadata": {
    "papermill": {
     "duration": 0.017801,
     "end_time": "2022-01-26T18:48:08.121407",
     "exception": false,
     "start_time": "2022-01-26T18:48:08.103606",
     "status": "completed"
    },
    "tags": []
   },
   "source": [
    "The use of prior time steps to predict the next time step is called the sliding window method. For short, it may be called the window method in some literature. In statistics and time series analysis, this is called a lag or lag method.\n",
    "\n",
    "The number of previous time steps is called the window width or size of the lag.\n",
    "\n",
    "Here we have used a window of 30 days."
   ]
  },
  {
   "cell_type": "code",
   "execution_count": 7,
   "id": "4fe1f959",
   "metadata": {
    "execution": {
     "iopub.execute_input": "2022-01-26T18:48:08.172269Z",
     "iopub.status.busy": "2022-01-26T18:48:08.171562Z",
     "iopub.status.idle": "2022-01-26T18:48:08.181478Z",
     "shell.execute_reply": "2022-01-26T18:48:08.182001Z",
     "shell.execute_reply.started": "2022-01-26T11:17:25.354494Z"
    },
    "papermill": {
     "duration": 0.042476,
     "end_time": "2022-01-26T18:48:08.182212",
     "exception": false,
     "start_time": "2022-01-26T18:48:08.139736",
     "status": "completed"
    },
    "tags": []
   },
   "outputs": [],
   "source": [
    "def create_dataset(dataset, look_back=30):\n",
    "    dataX, dataY = [], []\n",
    "    for i in range(len(dataset) - look_back):\n",
    "        a = dataset[i:(i + look_back), 0]\n",
    "        dataX.append(a)\n",
    "        dataY.append(dataset[i + look_back, 0])\n",
    "    return np.array(dataX), np.array(dataY)\n",
    "\n",
    "trainX, trainY = create_dataset(scaled_train)\n",
    "testX, testY = create_dataset(scaled_test)"
   ]
  },
  {
   "cell_type": "code",
   "execution_count": 8,
   "id": "eb490fe6",
   "metadata": {
    "execution": {
     "iopub.execute_input": "2022-01-26T18:48:08.222915Z",
     "iopub.status.busy": "2022-01-26T18:48:08.222242Z",
     "iopub.status.idle": "2022-01-26T18:48:08.227443Z",
     "shell.execute_reply": "2022-01-26T18:48:08.227995Z",
     "shell.execute_reply.started": "2022-01-26T11:17:25.395310Z"
    },
    "papermill": {
     "duration": 0.027929,
     "end_time": "2022-01-26T18:48:08.228187",
     "exception": false,
     "start_time": "2022-01-26T18:48:08.200258",
     "status": "completed"
    },
    "tags": []
   },
   "outputs": [
    {
     "data": {
      "text/plain": [
       "(10257, 30)"
      ]
     },
     "execution_count": 8,
     "metadata": {},
     "output_type": "execute_result"
    }
   ],
   "source": [
    "trainX.shape"
   ]
  },
  {
   "cell_type": "code",
   "execution_count": 9,
   "id": "5718993a",
   "metadata": {
    "execution": {
     "iopub.execute_input": "2022-01-26T18:48:08.269155Z",
     "iopub.status.busy": "2022-01-26T18:48:08.268417Z",
     "iopub.status.idle": "2022-01-26T18:48:08.274535Z",
     "shell.execute_reply": "2022-01-26T18:48:08.275123Z",
     "shell.execute_reply.started": "2022-01-26T11:17:25.405507Z"
    },
    "papermill": {
     "duration": 0.028028,
     "end_time": "2022-01-26T18:48:08.275336",
     "exception": false,
     "start_time": "2022-01-26T18:48:08.247308",
     "status": "completed"
    },
    "tags": []
   },
   "outputs": [
    {
     "data": {
      "text/plain": [
       "(470, 30)"
      ]
     },
     "execution_count": 9,
     "metadata": {},
     "output_type": "execute_result"
    }
   ],
   "source": [
    "testX.shape"
   ]
  },
  {
   "cell_type": "code",
   "execution_count": 10,
   "id": "0cd94633",
   "metadata": {
    "execution": {
     "iopub.execute_input": "2022-01-26T18:48:08.319886Z",
     "iopub.status.busy": "2022-01-26T18:48:08.318903Z",
     "iopub.status.idle": "2022-01-26T18:48:08.321383Z",
     "shell.execute_reply": "2022-01-26T18:48:08.321980Z",
     "shell.execute_reply.started": "2022-01-26T11:17:25.414202Z"
    },
    "papermill": {
     "duration": 0.028029,
     "end_time": "2022-01-26T18:48:08.322169",
     "exception": false,
     "start_time": "2022-01-26T18:48:08.294140",
     "status": "completed"
    },
    "tags": []
   },
   "outputs": [],
   "source": [
    "trainX = np.reshape(trainX, (trainX.shape[0], 1, trainX.shape[1]))\n",
    "testX = np.reshape(testX, (testX.shape[0], 1, testX.shape[1]))"
   ]
  },
  {
   "cell_type": "markdown",
   "id": "b60b7c39",
   "metadata": {
    "papermill": {
     "duration": 0.01824,
     "end_time": "2022-01-26T18:48:08.359373",
     "exception": false,
     "start_time": "2022-01-26T18:48:08.341133",
     "status": "completed"
    },
    "tags": []
   },
   "source": [
    "Model Training"
   ]
  },
  {
   "cell_type": "code",
   "execution_count": 11,
   "id": "506ea078",
   "metadata": {
    "execution": {
     "iopub.execute_input": "2022-01-26T18:48:08.410767Z",
     "iopub.status.busy": "2022-01-26T18:48:08.404845Z",
     "iopub.status.idle": "2022-01-26T19:14:13.163264Z",
     "shell.execute_reply": "2022-01-26T19:14:13.163799Z",
     "shell.execute_reply.started": "2022-01-26T11:17:25.422168Z"
    },
    "papermill": {
     "duration": 1564.786693,
     "end_time": "2022-01-26T19:14:13.164150",
     "exception": false,
     "start_time": "2022-01-26T18:48:08.377457",
     "status": "completed"
    },
    "tags": []
   },
   "outputs": [
    {
     "name": "stdout",
     "output_type": "stream",
     "text": [
      "INFO:tensorflow:Reloading Oracle from existing project ./gold1/untitled_project\\oracle.json\n",
      "INFO:tensorflow:Reloading Tuner from ./gold1/untitled_project\\tuner0.json\n",
      "INFO:tensorflow:Oracle triggered exit\n"
     ]
    }
   ],
   "source": [
    "def root_mean_squared_error(y_true, y_pred):\n",
    "        return K.sqrt(K.mean(K.square(y_pred - y_true))) \n",
    "    \n",
    "def model_builder(hp):\n",
    "    model = Sequential()\n",
    "    model.add(LSTM(hp.Int('input_unit',min_value=32,max_value=512,step=32), return_sequences=True, input_shape= ( trainX.shape[1], trainX.shape[2]), bias_regularizer = L1L2(0.009, 0.004)))\n",
    "    for i in range(hp.Int('n_layers', 1, 4)):\n",
    "        model.add(LSTM(hp.Int(f'lstm_{i}_units',min_value=32,max_value=512,step=32),return_sequences=True))\n",
    "    model.add(Dropout(hp.Float('Dropout_rate',min_value=0,max_value=0.5,step=0.05)))\n",
    "    model.add(Dense(1, activation=hp.Choice('dense_activation',values=['relu', 'sigmoid'],default='relu')))\n",
    "   \n",
    "    model.compile(loss=root_mean_squared_error, optimizer='adam',metrics = ['mse'])\n",
    "    \n",
    "    return model\n",
    "\n",
    "tuner = kt.RandomSearch(model_builder, objective='val_loss', max_trials = 10, executions_per_trial =1,directory = \"./gold1/\")\n",
    "\n",
    "callbacks = [keras.callbacks.EarlyStopping(monitor='val_loss', # Monitor the validation loss\n",
    "                                                     min_delta=0,    # until it doesn't change (or gets worse)\n",
    "                                                     patience=5,  # patience > 1 so it continutes if it is not consistently improving\n",
    "                                                     verbose=0, \n",
    "                                                     mode='auto')]\n",
    "\n",
    "tuner.search(x=trainX, y=trainY, epochs = 200, batch_size =512, validation_data=(testX, testY), callbacks=[callbacks],shuffle = True)\n"
   ]
  },
  {
   "cell_type": "code",
   "execution_count": 12,
   "id": "f5e5b06c",
   "metadata": {
    "execution": {
     "iopub.execute_input": "2022-01-26T19:14:13.208132Z",
     "iopub.status.busy": "2022-01-26T19:14:13.207410Z",
     "iopub.status.idle": "2022-01-26T19:14:13.246115Z",
     "shell.execute_reply": "2022-01-26T19:14:13.245539Z",
     "shell.execute_reply.started": "2022-01-26T11:17:25.865318Z"
    },
    "papermill": {
     "duration": 0.063003,
     "end_time": "2022-01-26T19:14:13.246286",
     "exception": false,
     "start_time": "2022-01-26T19:14:13.183283",
     "status": "completed"
    },
    "tags": []
   },
   "outputs": [
    {
     "name": "stdout",
     "output_type": "stream",
     "text": [
      "Results summary\n",
      "Results in ./gold1/untitled_project\n",
      "Showing 10 best trials\n",
      "<keras_tuner.engine.objective.Objective object at 0x0000024FDA739C00>\n",
      "Trial summary\n",
      "Hyperparameters:\n",
      "input_unit: 64\n",
      "n_layers: 1\n",
      "lstm_0_units: 384\n",
      "Dropout_rate: 0.25\n",
      "dense_activation: relu\n",
      "lstm_1_units: 160\n",
      "lstm_2_units: 352\n",
      "lstm_3_units: 288\n",
      "Score: 0.26164454221725464\n",
      "Trial summary\n",
      "Hyperparameters:\n",
      "input_unit: 224\n",
      "n_layers: 1\n",
      "lstm_0_units: 96\n",
      "Dropout_rate: 0.1\n",
      "dense_activation: sigmoid\n",
      "lstm_1_units: 320\n",
      "lstm_2_units: 128\n",
      "lstm_3_units: 256\n",
      "Score: 0.26249805092811584\n",
      "Trial summary\n",
      "Hyperparameters:\n",
      "input_unit: 384\n",
      "n_layers: 3\n",
      "lstm_0_units: 480\n",
      "Dropout_rate: 0.5\n",
      "dense_activation: sigmoid\n",
      "lstm_1_units: 96\n",
      "lstm_2_units: 128\n",
      "lstm_3_units: 448\n",
      "Score: 0.26285022497177124\n",
      "Trial summary\n",
      "Hyperparameters:\n",
      "input_unit: 224\n",
      "n_layers: 2\n",
      "lstm_0_units: 320\n",
      "Dropout_rate: 0.35000000000000003\n",
      "dense_activation: sigmoid\n",
      "lstm_1_units: 32\n",
      "lstm_2_units: 96\n",
      "lstm_3_units: 512\n",
      "Score: 0.26317712664604187\n",
      "Trial summary\n",
      "Hyperparameters:\n",
      "input_unit: 224\n",
      "n_layers: 4\n",
      "lstm_0_units: 224\n",
      "Dropout_rate: 0.25\n",
      "dense_activation: sigmoid\n",
      "lstm_1_units: 32\n",
      "lstm_2_units: 32\n",
      "lstm_3_units: 32\n",
      "Score: 0.2633667588233948\n",
      "Trial summary\n",
      "Hyperparameters:\n",
      "input_unit: 480\n",
      "n_layers: 2\n",
      "lstm_0_units: 512\n",
      "Dropout_rate: 0.15000000000000002\n",
      "dense_activation: relu\n",
      "lstm_1_units: 416\n",
      "lstm_2_units: 160\n",
      "lstm_3_units: 512\n",
      "Score: 0.2636294960975647\n",
      "Trial summary\n",
      "Hyperparameters:\n",
      "input_unit: 288\n",
      "n_layers: 3\n",
      "lstm_0_units: 256\n",
      "Dropout_rate: 0.1\n",
      "dense_activation: sigmoid\n",
      "lstm_1_units: 256\n",
      "lstm_2_units: 224\n",
      "lstm_3_units: 416\n",
      "Score: 0.264021635055542\n",
      "Trial summary\n",
      "Hyperparameters:\n",
      "input_unit: 320\n",
      "n_layers: 4\n",
      "lstm_0_units: 384\n",
      "Dropout_rate: 0.35000000000000003\n",
      "dense_activation: sigmoid\n",
      "lstm_1_units: 224\n",
      "lstm_2_units: 384\n",
      "lstm_3_units: 384\n",
      "Score: 0.2642257809638977\n",
      "Trial summary\n",
      "Hyperparameters:\n",
      "input_unit: 448\n",
      "n_layers: 2\n",
      "lstm_0_units: 352\n",
      "Dropout_rate: 0.15000000000000002\n",
      "dense_activation: relu\n",
      "lstm_1_units: 480\n",
      "lstm_2_units: 224\n",
      "lstm_3_units: 352\n",
      "Score: 0.26426565647125244\n",
      "Trial summary\n",
      "Hyperparameters:\n",
      "input_unit: 384\n",
      "n_layers: 1\n",
      "lstm_0_units: 96\n",
      "Dropout_rate: 0.0\n",
      "dense_activation: sigmoid\n",
      "lstm_1_units: 64\n",
      "lstm_2_units: 320\n",
      "lstm_3_units: 96\n",
      "Score: 0.26435792446136475\n"
     ]
    }
   ],
   "source": [
    "tuner.results_summary()"
   ]
  },
  {
   "cell_type": "code",
   "execution_count": 13,
   "id": "f96658c1",
   "metadata": {
    "execution": {
     "iopub.execute_input": "2022-01-26T19:14:13.788657Z",
     "iopub.status.busy": "2022-01-26T19:14:13.298529Z",
     "iopub.status.idle": "2022-01-26T19:14:57.043933Z",
     "shell.execute_reply": "2022-01-26T19:14:57.043249Z",
     "shell.execute_reply.started": "2022-01-26T11:17:25.897151Z"
    },
    "papermill": {
     "duration": 43.778264,
     "end_time": "2022-01-26T19:14:57.044161",
     "exception": false,
     "start_time": "2022-01-26T19:14:13.265897",
     "status": "completed"
    },
    "tags": []
   },
   "outputs": [],
   "source": [
    "best_model = tuner.get_best_models(num_models=1)[0]"
   ]
  },
  {
   "cell_type": "code",
   "execution_count": 14,
   "id": "4669f2c6",
   "metadata": {
    "execution": {
     "iopub.execute_input": "2022-01-26T19:14:57.092124Z",
     "iopub.status.busy": "2022-01-26T19:14:57.090866Z",
     "iopub.status.idle": "2022-01-26T19:25:08.406681Z",
     "shell.execute_reply": "2022-01-26T19:25:08.406019Z",
     "shell.execute_reply.started": "2022-01-26T11:17:26.789832Z"
    },
    "papermill": {
     "duration": 611.33988,
     "end_time": "2022-01-26T19:25:08.406909",
     "exception": false,
     "start_time": "2022-01-26T19:14:57.067029",
     "status": "completed"
    },
    "tags": []
   },
   "outputs": [],
   "source": [
    "history = best_model.fit(x=trainX, y=trainY, epochs = 150, batch_size =128, validation_data=(testX, testY), shuffle=False, verbose=0)"
   ]
  },
  {
   "cell_type": "code",
   "execution_count": 15,
   "id": "07b08dec",
   "metadata": {
    "execution": {
     "iopub.execute_input": "2022-01-26T19:25:08.453128Z",
     "iopub.status.busy": "2022-01-26T19:25:08.452380Z",
     "iopub.status.idle": "2022-01-26T19:25:08.687755Z",
     "shell.execute_reply": "2022-01-26T19:25:08.688400Z",
     "shell.execute_reply.started": "2022-01-26T11:27:19.907577Z"
    },
    "papermill": {
     "duration": 0.259978,
     "end_time": "2022-01-26T19:25:08.688594",
     "exception": false,
     "start_time": "2022-01-26T19:25:08.428616",
     "status": "completed"
    },
    "tags": []
   },
   "outputs": [
    {
     "data": {
      "image/png": "[encoded data removed]",
      "text/plain": [
       "<Figure size 640x480 with 1 Axes>"
      ]
     },
     "metadata": {},
     "output_type": "display_data"
    }
   ],
   "source": [
    "plt.plot(history.history['loss'], label='train')\n",
    "plt.plot(history.history['val_loss'], label='test')\n",
    "plt.legend()\n",
    "plt.show()"
   ]
  },
  {
   "cell_type": "code",
   "execution_count": 16,
   "id": "33f400d5",
   "metadata": {
    "execution": {
     "iopub.execute_input": "2022-01-26T19:25:08.736283Z",
     "iopub.status.busy": "2022-01-26T19:25:08.735512Z",
     "iopub.status.idle": "2022-01-26T19:25:10.389695Z",
     "shell.execute_reply": "2022-01-26T19:25:10.390712Z",
     "shell.execute_reply.started": "2022-01-26T11:27:46.512799Z"
    },
    "papermill": {
     "duration": 1.681854,
     "end_time": "2022-01-26T19:25:10.390963",
     "exception": false,
     "start_time": "2022-01-26T19:25:08.709109",
     "status": "completed"
    },
    "tags": []
   },
   "outputs": [
    {
     "name": "stdout",
     "output_type": "stream",
     "text": [
      "15/15 [==============================] - 1s 3ms/step\n"
     ]
    }
   ],
   "source": [
    "predicted_gold_price = best_model.predict(testX)"
   ]
  },
  {
   "cell_type": "code",
   "execution_count": 17,
   "id": "272a1574",
   "metadata": {
    "execution": {
     "iopub.execute_input": "2022-01-26T19:25:10.441203Z",
     "iopub.status.busy": "2022-01-26T19:25:10.440094Z",
     "iopub.status.idle": "2022-01-26T19:25:10.446725Z",
     "shell.execute_reply": "2022-01-26T19:25:10.446127Z",
     "shell.execute_reply.started": "2022-01-26T11:28:23.968540Z"
    },
    "papermill": {
     "duration": 0.032924,
     "end_time": "2022-01-26T19:25:10.446918",
     "exception": false,
     "start_time": "2022-01-26T19:25:10.413994",
     "status": "completed"
    },
    "tags": []
   },
   "outputs": [],
   "source": [
    "predicted_gold_price = scaler_test.inverse_transform(predicted_gold_price.reshape(-1, 1))"
   ]
  },
  {
   "cell_type": "code",
   "execution_count": 18,
   "id": "bcafb70b",
   "metadata": {
    "execution": {
     "iopub.execute_input": "2022-01-26T19:25:10.497253Z",
     "iopub.status.busy": "2022-01-26T19:25:10.496298Z",
     "iopub.status.idle": "2022-01-26T19:25:10.500406Z",
     "shell.execute_reply": "2022-01-26T19:25:10.499781Z",
     "shell.execute_reply.started": "2022-01-26T11:28:37.968928Z"
    },
    "papermill": {
     "duration": 0.032595,
     "end_time": "2022-01-26T19:25:10.500561",
     "exception": false,
     "start_time": "2022-01-26T19:25:10.467966",
     "status": "completed"
    },
    "tags": []
   },
   "outputs": [],
   "source": [
    "true = scaler_test.inverse_transform(testY.reshape(-1, 1))"
   ]
  },
  {
   "cell_type": "code",
   "execution_count": 19,
   "id": "6529febb",
   "metadata": {
    "execution": {
     "iopub.execute_input": "2022-01-26T19:25:10.581549Z",
     "iopub.status.busy": "2022-01-26T19:25:10.570813Z",
     "iopub.status.idle": "2022-01-26T19:25:10.773483Z",
     "shell.execute_reply": "2022-01-26T19:25:10.772620Z",
     "shell.execute_reply.started": "2022-01-26T11:29:18.671087Z"
    },
    "papermill": {
     "duration": 0.251143,
     "end_time": "2022-01-26T19:25:10.773728",
     "exception": false,
     "start_time": "2022-01-26T19:25:10.522585",
     "status": "completed"
    },
    "tags": []
   },
   "outputs": [
    {
     "data": {
      "image/png": "[encoded data removed]",
      "text/plain": [
       "<Figure size 640x480 with 1 Axes>"
      ]
     },
     "metadata": {},
     "output_type": "display_data"
    }
   ],
   "source": [
    "plt.plot(predicted_gold_price, label='predict')\n",
    "plt.plot(true, label='true')\n",
    "plt.legend()\n",
    "plt.show()"
   ]
  },
  {
   "cell_type": "code",
   "execution_count": null,
   "id": "3b5ccff6",
   "metadata": {},
   "outputs": [],
   "source": []
  }
 ],
 "metadata": {
  "kernelspec": {
   "display_name": "Python 3.10.2 ('.venv': venv)",
   "language": "python",
   "name": "python3"
  },
  "language_info": {
   "codemirror_mode": {
    "name": "ipython",
    "version": 3
   },
   "file_extension": ".py",
   "mimetype": "text/x-python",
   "name": "python",
   "nbconvert_exporter": "python",
   "pygments_lexer": "ipython3",
   "version": "3.10.2"
  },
  "papermill": {
   "default_parameters": {},
   "duration": 2243.893826,
   "end_time": "2022-01-26T19:25:13.566538",
   "environment_variables": {},
   "exception": null,
   "input_path": "__notebook__.ipynb",
   "output_path": "__notebook__.ipynb",
   "parameters": {},
   "start_time": "2022-01-26T18:47:49.672712",
   "version": "2.3.3"
  },
  "vscode": {
   "interpreter": {
    "hash": "bb49dee2baa2d7c6a029fdee3d6d205496ad99d9b57c9466cbe9a6025091e179"
   }
  }
 },
 "nbformat": 4,
 "nbformat_minor": 5
}
