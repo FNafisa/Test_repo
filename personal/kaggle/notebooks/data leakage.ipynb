{
 "cells": [
  {
   "cell_type": "code",
   "execution_count": 40,
   "metadata": {},
   "outputs": [],
   "source": [
    "import pandas as pd\n",
    "from IPython import display\n",
    "from xgboost import XGBRegressor\n",
    "from sklearn.model_selection import cross_val_score, cross_val_predict, train_test_split\n",
    "from sklearn.metrics import mean_absolute_error\n",
    "\n",
    "from sklearn.pipeline import make_pipeline\n",
    "from sklearn.ensemble import RandomForestRegressor\n",
    "\n"
   ]
  },
  {
   "cell_type": "code",
   "execution_count": 37,
   "metadata": {},
   "outputs": [
    {
     "name": "stdout",
     "output_type": "stream",
     "text": [
      "Rows   : 13580 \n",
      "Columns: 20\n"
     ]
    }
   ],
   "source": [
    "data= pd.read_csv(r'data/melb_data.csv')\n",
    "\n",
    "y= pd.DataFrame(data.Price)\n",
    "X= data.copy().drop(['Price'], axis=1)\n",
    "# X= X[[\"Rooms\", \"Distance\", \"Landsize\", \"BuildingArea\", \"YearBuilt\"]]\n",
    "\n",
    "print(\n",
    "    \"Rows   : \" + str(X.shape[0])\n",
    "    ,\"\\nColumns: \" + str(X.shape[1])\n",
    ")\n"
   ]
  },
  {
   "cell_type": "code",
   "execution_count": 48,
   "metadata": {},
   "outputs": [
    {
     "ename": "ValueError",
     "evalue": "\nAll the 5 fits failed.\nIt is very likely that your model is misconfigured.\nYou can try to debug the error by setting error_score='raise'.\n\nBelow are more details about the failures:\n--------------------------------------------------------------------------------\n5 fits failed with the following error:\nTraceback (most recent call last):\n  File \"c:\\Users\\fnafisa\\WORKSPACE\\kaggle\\.venv\\lib\\site-packages\\sklearn\\model_selection\\_validation.py\", line 686, in _fit_and_score\n    estimator.fit(X_train, y_train, **fit_params)\n  File \"c:\\Users\\fnafisa\\WORKSPACE\\kaggle\\.venv\\lib\\site-packages\\sklearn\\pipeline.py\", line 382, in fit\n    self._final_estimator.fit(Xt, y, **fit_params_last_step)\n  File \"c:\\Users\\fnafisa\\WORKSPACE\\kaggle\\.venv\\lib\\site-packages\\xgboost\\core.py\", line 575, in inner_f\n    return f(**kwargs)\n  File \"c:\\Users\\fnafisa\\WORKSPACE\\kaggle\\.venv\\lib\\site-packages\\xgboost\\sklearn.py\", line 931, in fit\n    train_dmatrix, evals = _wrap_evaluation_matrices(\n  File \"c:\\Users\\fnafisa\\WORKSPACE\\kaggle\\.venv\\lib\\site-packages\\xgboost\\sklearn.py\", line 401, in _wrap_evaluation_matrices\n    train_dmatrix = create_dmatrix(\n  File \"c:\\Users\\fnafisa\\WORKSPACE\\kaggle\\.venv\\lib\\site-packages\\xgboost\\sklearn.py\", line 945, in <lambda>\n    create_dmatrix=lambda **kwargs: DMatrix(nthread=self.n_jobs, **kwargs),\n  File \"c:\\Users\\fnafisa\\WORKSPACE\\kaggle\\.venv\\lib\\site-packages\\xgboost\\core.py\", line 575, in inner_f\n    return f(**kwargs)\n  File \"c:\\Users\\fnafisa\\WORKSPACE\\kaggle\\.venv\\lib\\site-packages\\xgboost\\core.py\", line 686, in __init__\n    handle, feature_names, feature_types = dispatch_data_backend(\n  File \"c:\\Users\\fnafisa\\WORKSPACE\\kaggle\\.venv\\lib\\site-packages\\xgboost\\data.py\", line 889, in dispatch_data_backend\n    return _from_pandas_df(data, enable_categorical, missing, threads,\n  File \"c:\\Users\\fnafisa\\WORKSPACE\\kaggle\\.venv\\lib\\site-packages\\xgboost\\data.py\", line 344, in _from_pandas_df\n    data, feature_names, feature_types = _transform_pandas_df(\n  File \"c:\\Users\\fnafisa\\WORKSPACE\\kaggle\\.venv\\lib\\site-packages\\xgboost\\data.py\", line 282, in _transform_pandas_df\n    _invalid_dataframe_dtype(data)\n  File \"c:\\Users\\fnafisa\\WORKSPACE\\kaggle\\.venv\\lib\\site-packages\\xgboost\\data.py\", line 246, in _invalid_dataframe_dtype\n    raise ValueError(msg)\nValueError: DataFrame.dtypes for data must be int, float, bool or category.  When\ncategorical type is supplied, DMatrix parameter `enable_categorical` must\nbe set to `True`. Invalid columns:Suburb, Address, Type, Method, SellerG, Date, CouncilArea, Regionname\n",
     "output_type": "error",
     "traceback": [
      "\u001b[1;31m---------------------------------------------------------------------------\u001b[0m",
      "\u001b[1;31mValueError\u001b[0m                                Traceback (most recent call last)",
      "Cell \u001b[1;32mIn [48], line 2\u001b[0m\n\u001b[0;32m      1\u001b[0m my_pipeline\u001b[39m=\u001b[39m make_pipeline(XGBRegressor(n_estimators\u001b[39m=\u001b[39m \u001b[39m1000\u001b[39m, learning_rate\u001b[39m=\u001b[39m \u001b[39m.5\u001b[39m))\n\u001b[1;32m----> 2\u001b[0m cv_scores\u001b[39m=\u001b[39m cross_val_score(my_pipeline, X, y, cv\u001b[39m=\u001b[39;49m \u001b[39m5\u001b[39;49m, scoring\u001b[39m=\u001b[39;49m\u001b[39m'\u001b[39;49m\u001b[39maccuracy\u001b[39;49m\u001b[39m'\u001b[39;49m)\n",
      "File \u001b[1;32mc:\\Users\\fnafisa\\WORKSPACE\\kaggle\\.venv\\lib\\site-packages\\sklearn\\model_selection\\_validation.py:515\u001b[0m, in \u001b[0;36mcross_val_score\u001b[1;34m(estimator, X, y, groups, scoring, cv, n_jobs, verbose, fit_params, pre_dispatch, error_score)\u001b[0m\n\u001b[0;32m    512\u001b[0m \u001b[39m# To ensure multimetric format is not supported\u001b[39;00m\n\u001b[0;32m    513\u001b[0m scorer \u001b[39m=\u001b[39m check_scoring(estimator, scoring\u001b[39m=\u001b[39mscoring)\n\u001b[1;32m--> 515\u001b[0m cv_results \u001b[39m=\u001b[39m cross_validate(\n\u001b[0;32m    516\u001b[0m     estimator\u001b[39m=\u001b[39;49mestimator,\n\u001b[0;32m    517\u001b[0m     X\u001b[39m=\u001b[39;49mX,\n\u001b[0;32m    518\u001b[0m     y\u001b[39m=\u001b[39;49my,\n\u001b[0;32m    519\u001b[0m     groups\u001b[39m=\u001b[39;49mgroups,\n\u001b[0;32m    520\u001b[0m     scoring\u001b[39m=\u001b[39;49m{\u001b[39m\"\u001b[39;49m\u001b[39mscore\u001b[39;49m\u001b[39m\"\u001b[39;49m: scorer},\n\u001b[0;32m    521\u001b[0m     cv\u001b[39m=\u001b[39;49mcv,\n\u001b[0;32m    522\u001b[0m     n_jobs\u001b[39m=\u001b[39;49mn_jobs,\n\u001b[0;32m    523\u001b[0m     verbose\u001b[39m=\u001b[39;49mverbose,\n\u001b[0;32m    524\u001b[0m     fit_params\u001b[39m=\u001b[39;49mfit_params,\n\u001b[0;32m    525\u001b[0m     pre_dispatch\u001b[39m=\u001b[39;49mpre_dispatch,\n\u001b[0;32m    526\u001b[0m     error_score\u001b[39m=\u001b[39;49merror_score,\n\u001b[0;32m    527\u001b[0m )\n\u001b[0;32m    528\u001b[0m \u001b[39mreturn\u001b[39;00m cv_results[\u001b[39m\"\u001b[39m\u001b[39mtest_score\u001b[39m\u001b[39m\"\u001b[39m]\n",
      "File \u001b[1;32mc:\\Users\\fnafisa\\WORKSPACE\\kaggle\\.venv\\lib\\site-packages\\sklearn\\model_selection\\_validation.py:285\u001b[0m, in \u001b[0;36mcross_validate\u001b[1;34m(estimator, X, y, groups, scoring, cv, n_jobs, verbose, fit_params, pre_dispatch, return_train_score, return_estimator, error_score)\u001b[0m\n\u001b[0;32m    265\u001b[0m parallel \u001b[39m=\u001b[39m Parallel(n_jobs\u001b[39m=\u001b[39mn_jobs, verbose\u001b[39m=\u001b[39mverbose, pre_dispatch\u001b[39m=\u001b[39mpre_dispatch)\n\u001b[0;32m    266\u001b[0m results \u001b[39m=\u001b[39m parallel(\n\u001b[0;32m    267\u001b[0m     delayed(_fit_and_score)(\n\u001b[0;32m    268\u001b[0m         clone(estimator),\n\u001b[1;32m   (...)\u001b[0m\n\u001b[0;32m    282\u001b[0m     \u001b[39mfor\u001b[39;00m train, test \u001b[39min\u001b[39;00m cv\u001b[39m.\u001b[39msplit(X, y, groups)\n\u001b[0;32m    283\u001b[0m )\n\u001b[1;32m--> 285\u001b[0m _warn_or_raise_about_fit_failures(results, error_score)\n\u001b[0;32m    287\u001b[0m \u001b[39m# For callabe scoring, the return type is only know after calling. If the\u001b[39;00m\n\u001b[0;32m    288\u001b[0m \u001b[39m# return type is a dictionary, the error scores can now be inserted with\u001b[39;00m\n\u001b[0;32m    289\u001b[0m \u001b[39m# the correct key.\u001b[39;00m\n\u001b[0;32m    290\u001b[0m \u001b[39mif\u001b[39;00m callable(scoring):\n",
      "File \u001b[1;32mc:\\Users\\fnafisa\\WORKSPACE\\kaggle\\.venv\\lib\\site-packages\\sklearn\\model_selection\\_validation.py:367\u001b[0m, in \u001b[0;36m_warn_or_raise_about_fit_failures\u001b[1;34m(results, error_score)\u001b[0m\n\u001b[0;32m    360\u001b[0m \u001b[39mif\u001b[39;00m num_failed_fits \u001b[39m==\u001b[39m num_fits:\n\u001b[0;32m    361\u001b[0m     all_fits_failed_message \u001b[39m=\u001b[39m (\n\u001b[0;32m    362\u001b[0m         \u001b[39mf\u001b[39m\u001b[39m\"\u001b[39m\u001b[39m\\n\u001b[39;00m\u001b[39mAll the \u001b[39m\u001b[39m{\u001b[39;00mnum_fits\u001b[39m}\u001b[39;00m\u001b[39m fits failed.\u001b[39m\u001b[39m\\n\u001b[39;00m\u001b[39m\"\u001b[39m\n\u001b[0;32m    363\u001b[0m         \u001b[39m\"\u001b[39m\u001b[39mIt is very likely that your model is misconfigured.\u001b[39m\u001b[39m\\n\u001b[39;00m\u001b[39m\"\u001b[39m\n\u001b[0;32m    364\u001b[0m         \u001b[39m\"\u001b[39m\u001b[39mYou can try to debug the error by setting error_score=\u001b[39m\u001b[39m'\u001b[39m\u001b[39mraise\u001b[39m\u001b[39m'\u001b[39m\u001b[39m.\u001b[39m\u001b[39m\\n\u001b[39;00m\u001b[39m\\n\u001b[39;00m\u001b[39m\"\u001b[39m\n\u001b[0;32m    365\u001b[0m         \u001b[39mf\u001b[39m\u001b[39m\"\u001b[39m\u001b[39mBelow are more details about the failures:\u001b[39m\u001b[39m\\n\u001b[39;00m\u001b[39m{\u001b[39;00mfit_errors_summary\u001b[39m}\u001b[39;00m\u001b[39m\"\u001b[39m\n\u001b[0;32m    366\u001b[0m     )\n\u001b[1;32m--> 367\u001b[0m     \u001b[39mraise\u001b[39;00m \u001b[39mValueError\u001b[39;00m(all_fits_failed_message)\n\u001b[0;32m    369\u001b[0m \u001b[39melse\u001b[39;00m:\n\u001b[0;32m    370\u001b[0m     some_fits_failed_message \u001b[39m=\u001b[39m (\n\u001b[0;32m    371\u001b[0m         \u001b[39mf\u001b[39m\u001b[39m\"\u001b[39m\u001b[39m\\n\u001b[39;00m\u001b[39m{\u001b[39;00mnum_failed_fits\u001b[39m}\u001b[39;00m\u001b[39m fits failed out of a total of \u001b[39m\u001b[39m{\u001b[39;00mnum_fits\u001b[39m}\u001b[39;00m\u001b[39m.\u001b[39m\u001b[39m\\n\u001b[39;00m\u001b[39m\"\u001b[39m\n\u001b[0;32m    372\u001b[0m         \u001b[39m\"\u001b[39m\u001b[39mThe score on these train-test partitions for these parameters\u001b[39m\u001b[39m\"\u001b[39m\n\u001b[1;32m   (...)\u001b[0m\n\u001b[0;32m    376\u001b[0m         \u001b[39mf\u001b[39m\u001b[39m\"\u001b[39m\u001b[39mBelow are more details about the failures:\u001b[39m\u001b[39m\\n\u001b[39;00m\u001b[39m{\u001b[39;00mfit_errors_summary\u001b[39m}\u001b[39;00m\u001b[39m\"\u001b[39m\n\u001b[0;32m    377\u001b[0m     )\n",
      "\u001b[1;31mValueError\u001b[0m: \nAll the 5 fits failed.\nIt is very likely that your model is misconfigured.\nYou can try to debug the error by setting error_score='raise'.\n\nBelow are more details about the failures:\n--------------------------------------------------------------------------------\n5 fits failed with the following error:\nTraceback (most recent call last):\n  File \"c:\\Users\\fnafisa\\WORKSPACE\\kaggle\\.venv\\lib\\site-packages\\sklearn\\model_selection\\_validation.py\", line 686, in _fit_and_score\n    estimator.fit(X_train, y_train, **fit_params)\n  File \"c:\\Users\\fnafisa\\WORKSPACE\\kaggle\\.venv\\lib\\site-packages\\sklearn\\pipeline.py\", line 382, in fit\n    self._final_estimator.fit(Xt, y, **fit_params_last_step)\n  File \"c:\\Users\\fnafisa\\WORKSPACE\\kaggle\\.venv\\lib\\site-packages\\xgboost\\core.py\", line 575, in inner_f\n    return f(**kwargs)\n  File \"c:\\Users\\fnafisa\\WORKSPACE\\kaggle\\.venv\\lib\\site-packages\\xgboost\\sklearn.py\", line 931, in fit\n    train_dmatrix, evals = _wrap_evaluation_matrices(\n  File \"c:\\Users\\fnafisa\\WORKSPACE\\kaggle\\.venv\\lib\\site-packages\\xgboost\\sklearn.py\", line 401, in _wrap_evaluation_matrices\n    train_dmatrix = create_dmatrix(\n  File \"c:\\Users\\fnafisa\\WORKSPACE\\kaggle\\.venv\\lib\\site-packages\\xgboost\\sklearn.py\", line 945, in <lambda>\n    create_dmatrix=lambda **kwargs: DMatrix(nthread=self.n_jobs, **kwargs),\n  File \"c:\\Users\\fnafisa\\WORKSPACE\\kaggle\\.venv\\lib\\site-packages\\xgboost\\core.py\", line 575, in inner_f\n    return f(**kwargs)\n  File \"c:\\Users\\fnafisa\\WORKSPACE\\kaggle\\.venv\\lib\\site-packages\\xgboost\\core.py\", line 686, in __init__\n    handle, feature_names, feature_types = dispatch_data_backend(\n  File \"c:\\Users\\fnafisa\\WORKSPACE\\kaggle\\.venv\\lib\\site-packages\\xgboost\\data.py\", line 889, in dispatch_data_backend\n    return _from_pandas_df(data, enable_categorical, missing, threads,\n  File \"c:\\Users\\fnafisa\\WORKSPACE\\kaggle\\.venv\\lib\\site-packages\\xgboost\\data.py\", line 344, in _from_pandas_df\n    data, feature_names, feature_types = _transform_pandas_df(\n  File \"c:\\Users\\fnafisa\\WORKSPACE\\kaggle\\.venv\\lib\\site-packages\\xgboost\\data.py\", line 282, in _transform_pandas_df\n    _invalid_dataframe_dtype(data)\n  File \"c:\\Users\\fnafisa\\WORKSPACE\\kaggle\\.venv\\lib\\site-packages\\xgboost\\data.py\", line 246, in _invalid_dataframe_dtype\n    raise ValueError(msg)\nValueError: DataFrame.dtypes for data must be int, float, bool or category.  When\ncategorical type is supplied, DMatrix parameter `enable_categorical` must\nbe set to `True`. Invalid columns:Suburb, Address, Type, Method, SellerG, Date, CouncilArea, Regionname\n"
     ]
    }
   ],
   "source": [
    "my_pipeline= make_pipeline(XGBRegressor(n_estimators= 1000, learning_rate= .5))\n",
    "cv_scores= cross_val_score(my_pipeline, X, y, cv= 5, scoring='accuracy')\n"
   ]
  },
  {
   "cell_type": "code",
   "execution_count": null,
   "metadata": {},
   "outputs": [],
   "source": [
    "print(\"Cross-validation accuracy: \" + str(cv_scores.mean()))"
   ]
  }
 ],
 "metadata": {
  "kernelspec": {
   "display_name": "Python 3.10.2 ('.venv': venv)",
   "language": "python",
   "name": "python3"
  },
  "language_info": {
   "codemirror_mode": {
    "name": "ipython",
    "version": 3
   },
   "file_extension": ".py",
   "mimetype": "text/x-python",
   "name": "python",
   "nbconvert_exporter": "python",
   "pygments_lexer": "ipython3",
   "version": "3.10.2"
  },
  "orig_nbformat": 4,
  "vscode": {
   "interpreter": {
    "hash": "bb49dee2baa2d7c6a029fdee3d6d205496ad99d9b57c9466cbe9a6025091e179"
   }
  }
 },
 "nbformat": 4,
 "nbformat_minor": 2
}
